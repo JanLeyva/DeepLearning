{
  "nbformat": 4,
  "nbformat_minor": 0,
  "metadata": {
    "colab": {
      "name": "Assignment3Test1.ipynb",
      "provenance": [],
      "collapsed_sections": [],
      "authorship_tag": "ABX9TyMyk2X+buFC+Hg9ZhFvtg42",
      "include_colab_link": true
    },
    "kernelspec": {
      "name": "python3",
      "display_name": "Python 3"
    },
    "language_info": {
      "name": "python"
    },
    "accelerator": "GPU"
  },
  "cells": [
    {
      "cell_type": "markdown",
      "metadata": {
        "id": "view-in-github",
        "colab_type": "text"
      },
      "source": [
        "<a href=\"https://colab.research.google.com/github/JanLeyva/DeepLearning/blob/main/Assignment3Test1.ipynb\" target=\"_parent\"><img src=\"https://colab.research.google.com/assets/colab-badge.svg\" alt=\"Open In Colab\"/></a>"
      ]
    },
    {
      "cell_type": "code",
      "execution_count": 1,
      "metadata": {
        "colab": {
          "base_uri": "https://localhost:8080/"
        },
        "id": "ZdR1zsqQsazR",
        "outputId": "1c412fa2-5597-472e-859c-eb7c5ed4037a"
      },
      "outputs": [
        {
          "output_type": "stream",
          "name": "stdout",
          "text": [
            "Python 3.7.12\n"
          ]
        }
      ],
      "source": [
        "!python --version"
      ]
    },
    {
      "cell_type": "code",
      "source": [
        ""
      ],
      "metadata": {
        "id": "h0OJrYPesj8u"
      },
      "execution_count": null,
      "outputs": []
    },
    {
      "cell_type": "markdown",
      "source": [
        "# Assignment 3: Attention\n",
        "\n",
        "The objectives of this assignment are:\n",
        "\n",
        "+ To implement Bahdanau Attention and Luong General Attention classes.\n",
        "+ To do a comparative (# of steps to converge, test error) of the three methods we have seen. Use these values for the comparative (the training datset size and `rnn_units` and `batch_size` values are up to you): \n",
        "    + `n_timesteps_in = 100`\n",
        "    + `n_features = 20`.   \n",
        "+ To implement a function to visualize the attention weights for one example. You can visualize them as in this figure (that corresponds to a machine translation task):\n",
        "\n",
        "<div>\n",
        "<center>\n",
        "<img src=\"https://jalammar.github.io/images/attention_sentence.png\" width=\"200\">\n",
        "</center>\n",
        "</div>\n",
        "\n",
        "+ To write a blog entry explaining in your words how does attention work. You can do it in your favourite blog site. If you do not have a favourite blog site, you can start one here: https://hackmd.io/\n",
        "\n",
        "You have to report all your work at the end of this notebook.\n",
        "\n"
      ],
      "metadata": {
        "id": "5C9JWiVgse-D"
      }
    },
    {
      "cell_type": "markdown",
      "source": [
        "# Code"
      ],
      "metadata": {
        "id": "4Vi4ikWNshOi"
      }
    },
    {
      "cell_type": "code",
      "source": [
        "#@title Some utils\n",
        "from random import randint\n",
        "from matplotlib import pyplot as plt\n",
        "from tensorflow.keras.callbacks import EarlyStopping\n",
        "import numpy as np\n",
        "\n",
        "def generate_sequence(length, n_unique):\n",
        "    \"\"\"\n",
        "    Generate a sequence of random integers.\n",
        "    \n",
        "    :length: Total length of the generated sequence\n",
        "    :n_unique: Maximum number allowed\n",
        "    \"\"\"\n",
        "    return [randint(1, n_unique-1) for _ in range(length)]\n",
        "\n",
        "def one_hot_encode(sequence, n_unique):\n",
        "    \"\"\"\n",
        "    Transform a sequence of integers into a one-hot-encoding vector\n",
        "    \n",
        "    :sequence: The sequence we want to transform\n",
        "    :n_unique: Maximum number allowed (length of the one-hot-encoded vector)\n",
        "    \"\"\"\n",
        "    encoding = list()\n",
        "    for value in sequence:\n",
        "        vector = [0 for _ in range(n_unique)]\n",
        "        vector[value] = 1\n",
        "        encoding.append(vector)\n",
        "    return np.array(encoding)\n",
        "\n",
        "def one_hot_decode(encoded_seq):\n",
        "    \"\"\"\n",
        "    Transorm a one-hot-encoded vector into a list of integers\n",
        "    \n",
        "    :encoded_seq: One hot encoded sequence to be transformed\n",
        "    \"\"\"\n",
        "    return [np.argmax(vector) for vector in encoded_seq]\n",
        "\n",
        "\n",
        "def get_reversed_pairs(time_steps,vocabulary_size):\n",
        "    \"\"\"\n",
        "    Generate a pair X, y where y is the 'reversed' version of X.\n",
        "    \n",
        "    :time_steps: Sequence length\n",
        "    :vocabulary_size: Maximum number allowed\n",
        "    \"\"\"\n",
        "    # generate random sequence and reverse it\n",
        "    sequence_in = generate_sequence(time_steps, vocabulary_size)\n",
        "    sequence_out = sequence_in[::-1]\n",
        "\n",
        "    # one hot encode both sequences\n",
        "    X = one_hot_encode(sequence_in, vocabulary_size)\n",
        "    y = one_hot_encode(sequence_out, vocabulary_size)\n",
        "    \n",
        "    # reshape as 3D so it can be inputed to the LSTM\n",
        "    X = X.reshape((1, X.shape[0], X.shape[1]))\n",
        "    y = y.reshape((1, y.shape[0], y.shape[1]))\n",
        "    return X,y\n",
        "\n",
        "\n",
        "def create_dataset(train_size, test_size, time_steps,vocabulary_size):\n",
        "    \"\"\"\n",
        "    Generates a datset of reversed pairs X, y.\n",
        "    \n",
        "    :train_size: Number of train pairs\n",
        "    :test_size: Number of test pairs\n",
        "    :time_steps: Sequence length\n",
        "    :vocabulary_size: Maximum number allowed\n",
        "    \"\"\"\n",
        "    \n",
        "    # Generate reversed pairs for training\n",
        "    pairs = [get_reversed_pairs(time_steps,vocabulary_size) for _ in range(train_size)]\n",
        "    pairs= np.array(pairs).squeeze()\n",
        "    X_train = pairs[:,0]\n",
        "    y_train = pairs[:,1]\n",
        "    \n",
        "    # Generate reversed pairs for test\n",
        "    pairs = [get_reversed_pairs(time_steps,vocabulary_size) for _ in range(test_size)]\n",
        "    pairs= np.array(pairs).squeeze()\n",
        "    X_test = pairs[:,0]\n",
        "    y_test = pairs[:,1]\t\n",
        "\n",
        "    return X_train, y_train, X_test, y_test\n",
        "\n",
        "\n",
        "def train_test(model, X_train, y_train , X_test, y_test, epochs=500, batch_size=32, patience=5):\n",
        "    \"\"\"\n",
        "    It trains a model and evaluates the result on the test dataset\n",
        "    \n",
        "    :model: Model to be fit\n",
        "    :X_train, y_train: Train samples and labels \n",
        "    :X_test y_test: Test samples and labels \n",
        "    :epochs: Maximum number of iterations that the model will perform\n",
        "    :batch_size: Samples per batch\n",
        "    :patience: Number of rounds without improvement that the model can perform. If there is no improvement on the loss, it will stop the trainning process.\n",
        "    \"\"\"\n",
        "    \n",
        "    # Train the model\n",
        "    history=model.fit(X_train, y_train, \n",
        "                      validation_split= 0.1, \n",
        "                      epochs=epochs,\n",
        "                      batch_size=batch_size, \n",
        "                      callbacks=[EarlyStopping(monitor='val_loss', patience=patience, restore_best_weights=True)])\n",
        "    \n",
        "    _, train_acc = model.evaluate(X_train, y_train, batch_size=batch_size)\n",
        "    _, test_acc = model.evaluate(X_test, y_test, batch_size=batch_size)\n",
        "    \n",
        "    print('\\nPREDICTION ACCURACY (%):')\n",
        "    print('Train: %.3f, Test: %.3f' % (train_acc*100, test_acc*100))\n",
        "    \n",
        "    fig, axs = plt.subplots(1,2, figsize=(12,5))\n",
        "    # summarize history for loss\n",
        "    axs[0].plot(history.history['loss'])\n",
        "    axs[0].plot(history.history['val_loss'])\n",
        "    axs[0].set_title(model.name+' loss')\n",
        "    axs[0].set_ylabel('loss')\n",
        "    axs[0].set_xlabel('epoch')\n",
        "    axs[0].legend(['train', 'val'], loc='upper left')\n",
        "    \n",
        "    # summarize history for accuracy\n",
        "    axs[1].plot(history.history['accuracy'])\n",
        "    axs[1].plot(history.history['val_accuracy'])\n",
        "    axs[1].set_title(model.name+' accuracy')\n",
        "    axs[1].set_ylabel('accuracy')\n",
        "    axs[1].set_xlabel('epoch')\n",
        "    axs[1].legend(['train', 'val'], loc='upper left')\n",
        "    plt.show()\n",
        "    \n",
        "    \n",
        "def predict(model, n_timesteps_in,n_features, x, y_real=None, ):\n",
        "    pred=model.predict(x.reshape(1,n_timesteps_in,n_features), batch_size=1)\n",
        "    print('input', one_hot_decode(x))    \n",
        "    print('predicted', one_hot_decode(pred[0]))\n",
        "    if y_real is not None:\n",
        "        print('expected', one_hot_decode(y_real))"
      ],
      "metadata": {
        "id": "0UJOa-BVsc6A"
      },
      "execution_count": 17,
      "outputs": []
    },
    {
      "cell_type": "code",
      "source": [
        "# @title build_attention_model function\n",
        "\n",
        "import tensorflow as tf\n",
        "import numpy as np\n",
        "\n",
        "from tensorflow.keras.layers import Input, Dense, LSTM, Lambda\n",
        "from tensorflow.keras.models import Model\n",
        "from tensorflow.keras import backend as K\n",
        "\n",
        "tf.keras.backend.set_floatx('float64')\n",
        "\n",
        "#attention model\n",
        "def build_attention_model(attention, batch_size, rnn_units):\n",
        "    \n",
        "    # ENCODER STEP\n",
        "    # ------------\n",
        "    # Same encoder as before with one and only difference. Now we need all the lstm states so we\n",
        "    # set return_sequences=True and return_state=True.\n",
        "    encoder_inputs = Input(shape=(n_timesteps_in, n_features), name='encoder_inputs')\n",
        "    encoder_lstm = LSTM(rnn_units, return_sequences=True, return_state=True, name='encoder_lstm')\n",
        "    encoder_outputs, encoder_state_h, encoder_state_c = encoder_lstm(encoder_inputs)\n",
        "    \n",
        "    states = [encoder_state_h, encoder_state_c]\n",
        "    \n",
        "    # DECODER STEP\n",
        "    # ------------\n",
        "    # Set up the decoder layers\n",
        "    # input shape: (1, n_features + rnn_units)\n",
        "    decoder_lstm = LSTM(rnn_units, return_state=True, name='decoder_lstm')\n",
        "    decoder_dense = Dense(n_features, activation='softmax', name='decoder_dense')\n",
        "    \n",
        "    # As before, we use as first input the 0-sequence\n",
        "    all_outputs = []\n",
        "    inputs = np.zeros((batch_size, 1, n_features))\n",
        "    \n",
        "    # Decoder_outputs is the last hidden state of the encoder. Encoder_outputs are all the states\n",
        "    decoder_outputs = encoder_state_h\n",
        "    \n",
        "    # Decoder will only process one time step at a time.\n",
        "    for _ in range(n_timesteps_in):\n",
        "\n",
        "        # Pay attention!\n",
        "        # decoder_outputs (last hidden state) + encoder_outputs (all hidden states)\n",
        "        context_vector, attention_weights = attention(decoder_outputs, encoder_outputs)\n",
        "        context_vector = tf.expand_dims(context_vector, 1)\n",
        "\n",
        "        # create the context vector by applying attention to \n",
        "        # Concatenate the input + context vectore to find the next decoder's input\n",
        "        inputs = tf.concat([context_vector, inputs], axis=-1)\n",
        "\n",
        "        # Passing the concatenated vector to the LSTM\n",
        "        # Run the decoder on one timestep with attended input and previous states\n",
        "        decoder_outputs, state_h, state_c = decoder_lstm(inputs, initial_state=states)        \n",
        "        outputs = decoder_dense(decoder_outputs)\n",
        "        \n",
        "        # Use the last hidden state for prediction the output\n",
        "        # save the current prediction\n",
        "        # we will concatenate all predictions later\n",
        "        outputs = tf.expand_dims(outputs, 1)\n",
        "        all_outputs.append(outputs)\n",
        "        \n",
        "        # Reinject the output (prediction) as inputs for the next loop iteration\n",
        "        # as well as update the states\n",
        "        inputs = outputs\n",
        "        states = [state_h, state_c]\n",
        "        \n",
        "    decoder_outputs = Lambda(lambda x: K.concatenate(x, axis=1))(all_outputs)\n",
        "    model = Model(encoder_inputs, decoder_outputs, name='model_encoder_decoder')\n",
        "    model.compile(optimizer='adam', loss='categorical_crossentropy', metrics=['accuracy'])\n",
        "    \n",
        "    return model"
      ],
      "metadata": {
        "id": "UGu9x--ysc80"
      },
      "execution_count": 18,
      "outputs": []
    },
    {
      "cell_type": "markdown",
      "source": [
        "## LuongDotAttention"
      ],
      "metadata": {
        "id": "AgMqNtrjtThd"
      }
    },
    {
      "cell_type": "code",
      "source": [
        "class LuongDotAttention(tf.keras.layers.Layer):\n",
        "    def __init__(self):\n",
        "        super(LuongDotAttention, self).__init__()\n",
        "\n",
        "    def call(self, query, values):\n",
        "        query_with_time_axis = tf.expand_dims(query, 1)\n",
        "        values_transposed = tf.transpose(values, perm=[0, 2, 1])\n",
        "\n",
        "        # LUONGH Dot-product\n",
        "        score = tf.transpose(tf.matmul(query_with_time_axis, \n",
        "                                       values_transposed), perm=[0, 2, 1])\n",
        "\n",
        "        # attention_weights shape == (batch_size, max_length, 1)\n",
        "        attention_weights = tf.nn.softmax(score, axis=1)\n",
        "        \n",
        "        # context_vector shape after sum == (batch_size, hidden_size)\n",
        "        context_vector = attention_weights * values\n",
        "        context_vector = tf.reduce_sum(context_vector, axis=1)\n",
        "\n",
        "        return context_vector, attention_weights"
      ],
      "metadata": {
        "id": "0EbLRNfRtTsI"
      },
      "execution_count": 3,
      "outputs": []
    },
    {
      "cell_type": "markdown",
      "source": [
        "### Defining parameters"
      ],
      "metadata": {
        "id": "2pnqN_aXtLef"
      }
    },
    {
      "cell_type": "code",
      "source": [
        "#@title changed part n_timesteps_in, n_features\n",
        "# dataset \n",
        "n_timesteps_in = 4  # Sequence length                                                 ## changed from 100 to 4\n",
        "n_features = 10     # Maximum number allowed-1 (length of the one-hot-encoded vector) ## changed from 20 to 10\n",
        "train_size = 2000 \n",
        "test_size = 200\n",
        "X_train, y_train, X_test, y_test = create_dataset(train_size, test_size, n_timesteps_in,n_features )\n",
        "\n",
        "# training parameters\n",
        "batch_size = 1\n",
        "\n",
        "# model parameters\n",
        "rnn_units = 16       # changed from 100 to 16"
      ],
      "metadata": {
        "id": "dJTg3km6tDMV"
      },
      "execution_count": 4,
      "outputs": []
    },
    {
      "cell_type": "markdown",
      "source": [
        "## Attention model - Luong Dot"
      ],
      "metadata": {
        "id": "Iq9gjmwXteDV"
      }
    },
    {
      "cell_type": "code",
      "source": [
        "# attention model\n",
        "attention = LuongDotAttention()\n",
        "model_attention = build_attention_model(attention, batch_size, rnn_units)"
      ],
      "metadata": {
        "id": "kz0QRhtKtDPq"
      },
      "execution_count": 5,
      "outputs": []
    },
    {
      "cell_type": "markdown",
      "source": [
        "### Training model"
      ],
      "metadata": {
        "id": "74Ewf25dtmjb"
      }
    },
    {
      "cell_type": "code",
      "source": [
        "train_test(model_attention, X_train, y_train , X_test,\n",
        "           y_test, batch_size=batch_size,epochs=5, patience=3)"
      ],
      "metadata": {
        "colab": {
          "base_uri": "https://localhost:8080/",
          "height": 605
        },
        "id": "yEGPiy9gtDjm",
        "outputId": "8feb8668-9f06-4445-85b5-f3d856478b08"
      },
      "execution_count": 6,
      "outputs": [
        {
          "output_type": "stream",
          "name": "stdout",
          "text": [
            "Epoch 1/5\n",
            "1800/1800 [==============================] - 42s 17ms/step - loss: 1.6157 - accuracy: 0.3714 - val_loss: 1.3719 - val_accuracy: 0.4163\n",
            "Epoch 2/5\n",
            "1800/1800 [==============================] - 28s 16ms/step - loss: 1.2490 - accuracy: 0.4617 - val_loss: 1.1365 - val_accuracy: 0.5100\n",
            "Epoch 3/5\n",
            "1800/1800 [==============================] - 28s 16ms/step - loss: 0.9346 - accuracy: 0.6208 - val_loss: 0.7622 - val_accuracy: 0.7063\n",
            "Epoch 4/5\n",
            "1800/1800 [==============================] - 28s 15ms/step - loss: 0.4980 - accuracy: 0.8501 - val_loss: 0.3437 - val_accuracy: 0.9050\n",
            "Epoch 5/5\n",
            "1800/1800 [==============================] - 28s 16ms/step - loss: 0.1825 - accuracy: 0.9731 - val_loss: 0.1525 - val_accuracy: 0.9775\n",
            "2000/2000 [==============================] - 15s 8ms/step - loss: 0.1254 - accuracy: 0.9854\n",
            "200/200 [==============================] - 2s 8ms/step - loss: 0.1469 - accuracy: 0.9788\n",
            "\n",
            "PREDICTION ACCURACY (%):\n",
            "Train: 98.537, Test: 97.875\n"
          ]
        },
        {
          "output_type": "display_data",
          "data": {
            "image/png": "[encoded data removed]",
            "text/plain": [
              "<Figure size 864x360 with 2 Axes>"
            ]
          },
          "metadata": {
            "needs_background": "light"
          }
        }
      ]
    },
    {
      "cell_type": "markdown",
      "source": [
        "### Prediction"
      ],
      "metadata": {
        "id": "EaOtyCDSttgl"
      }
    },
    {
      "cell_type": "code",
      "source": [
        "predict(model_attention, n_timesteps_in, n_features, X_test[0])"
      ],
      "metadata": {
        "colab": {
          "base_uri": "https://localhost:8080/"
        },
        "id": "Kr05AN9EtzZP",
        "outputId": "b1d7c790-0995-4480-cfd1-7b239dabe78c"
      },
      "execution_count": 7,
      "outputs": [
        {
          "output_type": "stream",
          "name": "stdout",
          "text": [
            "input [6, 6, 3, 3]\n",
            "predicted [3, 3, 6, 6]\n"
          ]
        }
      ]
    },
    {
      "cell_type": "code",
      "source": [
        "predict(model_attention, n_timesteps_in, n_features, X_test[1])"
      ],
      "metadata": {
        "colab": {
          "base_uri": "https://localhost:8080/"
        },
        "id": "FpRWZeru7KQo",
        "outputId": "bbcb4904-f841-4939-d27d-6efb7d727482"
      },
      "execution_count": 8,
      "outputs": [
        {
          "output_type": "stream",
          "name": "stdout",
          "text": [
            "input [5, 1, 5, 6]\n",
            "predicted [6, 5, 1, 5]\n"
          ]
        }
      ]
    },
    {
      "cell_type": "code",
      "source": [
        ""
      ],
      "metadata": {
        "id": "tMVGhLd67KTp"
      },
      "execution_count": null,
      "outputs": []
    },
    {
      "cell_type": "code",
      "source": [
        ""
      ],
      "metadata": {
        "id": "OePV0mGV8Bjj"
      },
      "execution_count": null,
      "outputs": []
    },
    {
      "cell_type": "code",
      "source": [
        ""
      ],
      "metadata": {
        "id": "UfDXP4Ge8Bsf"
      },
      "execution_count": null,
      "outputs": []
    },
    {
      "cell_type": "markdown",
      "source": [
        "### Visualization the Weight\n",
        "\n",
        "#### function to Plot Weight\n",
        "\n",
        "The idea is take the `build_function` and modify in order to get the `attention_weightPlot` and the `input_seq` and `out_seq`."
      ],
      "metadata": {
        "id": "ptqvRuQm8Byk"
      }
    },
    {
      "cell_type": "code",
      "source": [
        "#@title function to Compute and Plot the weight\n",
        "# function to Compute and Plot the weight\n",
        "\n",
        "import tensorflow as tf\n",
        "import numpy as np\n",
        "\n",
        "from tensorflow.keras.layers import Input, Dense, LSTM, Lambda\n",
        "from tensorflow.keras.models import Model\n",
        "from tensorflow.keras import backend as K\n",
        "\n",
        "\n",
        "\n",
        "def build_attention_weight(seq_in):\n",
        "    \n",
        "    # ENCODER STEP\n",
        "    # ------------\n",
        "    # Same encoder as before with one and only difference. Now we need all the lstm states so we\n",
        "    # set return_sequences=True and return_state=True.\n",
        "    #encoder_inputs = Input(shape=(n_timesteps_in, n_features), name='encoder_inputs')\n",
        "    #encoder_lstm = LSTM(rnn_units, return_sequences=True, return_state=True, name='encoder_lstm')\n",
        "    attention_plot = np.zeros((n_timesteps_in, n_timesteps_in))\n",
        "    sequence = one_hot_encode(seq_in,n_features)\n",
        "\n",
        "    encoder_inputs=np.array(sequence).reshape(1,n_timesteps_in,n_features)\n",
        "    encoder_inputs = tf.convert_to_tensor(encoder_inputs,dtype=tf.float32)\n",
        "\n",
        "    # Def encoder_lstm\n",
        "    encoder_lstm = LSTM(rnn_units, return_sequences=True, return_state=True, name='encoder_lstm')\n",
        "    encoder_outputs, encoder_state_h, encoder_state_c = encoder_lstm(encoder_inputs)\n",
        "    \n",
        "    states = [encoder_state_h, encoder_state_c]\n",
        "    \n",
        "    # DECODER STEP\n",
        "    # ------------\n",
        "    # Set up the decoder layers\n",
        "    # input shape: (1, n_features + rnn_units)\n",
        "    decoder_lstm = LSTM(rnn_units, return_state=True, name='decoder_lstm')        # <---------\n",
        "    decoder_dense = Dense(n_features, activation='softmax', name='decoder_dense') # <---------\n",
        "    decoder_input_data = np.zeros((1, 1, n_features))\n",
        "    decoder_input_data[:, 0, 0] = 1 \n",
        "    # As before, we use as first input the 0-sequence\n",
        "    all_outputs = []\n",
        "    inputs = decoder_input_data\n",
        "    \n",
        "    # Decoder_outputs is the last hidden state of the encoder. Encoder_outputs are all the states\n",
        "    decoder_outputs = encoder_state_h\n",
        "    \n",
        "    # Decoder will only process one time step at a time.\n",
        "    for i in range(n_timesteps_in):\n",
        "\n",
        "        # Pay attention!\n",
        "        # decoder_outputs (last hidden state) + encoder_outputs (all hidden states) <---------\n",
        "        context_vector, attention_weights = attention(decoder_outputs, encoder_outputs)\n",
        "        \n",
        "        attention_weights = tf.reshape(attention_weights, (-1, ))\n",
        "        attention_plot[i] = attention_weights.numpy()\n",
        "        #context_vector = tf.expand_dims(context_vector, 1) <---------\n",
        "\n",
        "        decoder_outputs=tf.expand_dims(decoder_outputs, 1)\n",
        "\n",
        "        context_vector = tf.expand_dims(context_vector, 1)\n",
        "\n",
        "\n",
        "        # create the context vector by applying attention to \n",
        "        # Concatenate the input + context vectore to find the next decoder's input\n",
        "        inputs = tf.concat([context_vector, inputs], axis=-1)\n",
        "\n",
        "        # Passing the concatenated vector to the LSTM\n",
        "        # Run the decoder on one timestep with attended input and previous states\n",
        "        decoder_outputs, state_h, state_c = decoder_lstm(inputs, initial_state=states)      \n",
        "        \n",
        "        outputs = decoder_dense(decoder_outputs)\n",
        "        \n",
        "        # Use the last hidden state for prediction the output\n",
        "        # save the current prediction\n",
        "        # we will concatenate all predictions later\n",
        "        outputs = tf.expand_dims(outputs, 1)\n",
        "        all_outputs.append(outputs)\n",
        "        \n",
        "        # Reinject the output (prediction) as inputs for the next loop iteration\n",
        "        # as well as update the states\n",
        "        inputs = outputs\n",
        "        states = [state_h, state_c]\n",
        "        \n",
        "    decoder_outputs = Lambda(lambda x: K.concatenate(x, axis=1))(all_outputs)\n",
        "    seq_out=one_hot_decode(decoder_outputs[0])  # <---------\n",
        "\n",
        "    \n",
        "    #model = Model(encoder_inputs, decoder_outputs, name='model_encoder_decoder')  <---------\n",
        "    #model.compile(optimizer='adam', loss='categorical_crossentropy', metrics=['accuracy']) <---------\n",
        "    \n",
        "    return seq_in, seq_out, attention_plot"
      ],
      "metadata": {
        "id": "IPitjoR48E0z"
      },
      "execution_count": 47,
      "outputs": []
    },
    {
      "cell_type": "code",
      "source": [
        "from matplotlib import ticker\n",
        "\n",
        "def plot_attention(attention, sequence, predicted_sequence):\n",
        "  fig = plt.figure(figsize=(8,8))\n",
        "  ax = fig.add_subplot(1, 1, 1)\n",
        "  ax.matshow(attention, cmap='viridis')\n",
        "\n",
        "  fontdict = {'fontsize': 14}\n",
        "\n",
        "  ax.set_xticklabels([''] + sequence, fontdict=fontdict, rotation=90)\n",
        "  ax.set_yticklabels([''] + predicted_sequence, fontdict=fontdict)\n",
        "\n",
        "  ax.xaxis.set_major_locator(ticker.MultipleLocator(1))\n",
        "  ax.yaxis.set_major_locator(ticker.MultipleLocator(1))\n",
        "\n",
        "  plt.show()\n",
        "\n",
        "\n",
        "def translate(seq_in):\n",
        "  seq_in, seq_out, attention_plot = build_attention_weight(seq_in)\n",
        "\n",
        "  print('Input: %s' % (seq_in))\n",
        "  print('Predicted translation: {}'.format(seq_out))\n",
        "\n",
        "  attention_plot = attention_plot[:len(seq_out), :len(seq_in)]\n",
        "  plot_attention(attention_plot, seq_in, seq_out)"
      ],
      "metadata": {
        "id": "1br1ztivFVfp"
      },
      "execution_count": 51,
      "outputs": []
    },
    {
      "cell_type": "markdown",
      "source": [
        "lo hace fatal!! porque? no esta cogiendo el encoder decoder trained. ni los attention weight antes encontrados."
      ],
      "metadata": {
        "id": "QoVBTBC9KIIZ"
      }
    },
    {
      "cell_type": "code",
      "source": [
        "translate([1, 2, 3 ,4])"
      ],
      "metadata": {
        "colab": {
          "base_uri": "https://localhost:8080/",
          "height": 519
        },
        "id": "YD_By9vCFzav",
        "outputId": "d21c7251-cb22-40b2-86ae-57c97a98e181"
      },
      "execution_count": 52,
      "outputs": [
        {
          "output_type": "stream",
          "name": "stdout",
          "text": [
            "Input: [1, 2, 3, 4]\n",
            "Predicted translation: [6, 6, 7, 7]\n"
          ]
        },
        {
          "output_type": "display_data",
          "data": {
            "image/png": "[encoded data removed]",
            "text/plain": [
              "<Figure size 576x576 with 1 Axes>"
            ]
          },
          "metadata": {
            "needs_background": "light"
          }
        }
      ]
    },
    {
      "cell_type": "markdown",
      "source": [
        "# BahdanauAttention\n"
      ],
      "metadata": {
        "id": "0emPsQrs7LiR"
      }
    },
    {
      "cell_type": "code",
      "source": [
        "class BahdanauAttention(tf.keras.layers.Layer):\n",
        "  def __init__(self, units, verbose=0):\n",
        "    super(BahdanauAttention, self).__init__()\n",
        "    self.W1 = tf.keras.layers.Dense(units)\n",
        "    self.W2 = tf.keras.layers.Dense(units)\n",
        "    self.V = tf.keras.layers.Dense(1)\n",
        "    self.verbose= verbose\n",
        "\n",
        "  def call(self, query, values):\n",
        "    if self.verbose:\n",
        "      print('\\n******* Bahdanau Attention STARTS******')\n",
        "      print('query (decoder hidden state): (batch_size, hidden size) ', query.shape)\n",
        "      print('values (encoder all hidden state): (batch_size, max_len, hidden size) ', values.shape)\n",
        "\n",
        "    # query hidden state shape == (batch_size, hidden size)\n",
        "    # query_with_time_axis shape == (batch_size, 1, hidden size)\n",
        "    # values shape == (batch_size, max_len, hidden size)\n",
        "    # we are doing this to broadcast addition along the time axis to calculate the score\n",
        "    query_with_time_axis = tf.expand_dims(query, 1)\n",
        "    \n",
        "    if self.verbose:\n",
        "      print('query_with_time_axis:(batch_size, 1, hidden size) ', query_with_time_axis.shape)\n",
        "\n",
        "    # score shape == (batch_size, max_length, 1)\n",
        "    # we get 1 at the last axis because we are applying score to self.V\n",
        "    # the shape of the tensor before applying self.V is (batch_size, max_length, units)\n",
        "    score = self.V(tf.nn.tanh(\n",
        "        self.W1(query_with_time_axis) + self.W2(values)))\n",
        "    if self.verbose:\n",
        "      print('score: (batch_size, max_length, 1) ',score.shape)\n",
        "    # attention_weights shape == (batch_size, max_length, 1)\n",
        "    attention_weights = tf.nn.softmax(score, axis=1)\n",
        "    if self.verbose:\n",
        "      print('attention_weights: (batch_size, max_length, 1) ',attention_weights.shape)\n",
        "    # context_vector shape after sum == (batch_size, hidden_size)\n",
        "    context_vector = attention_weights * values\n",
        "    if self.verbose:\n",
        "      print('context_vector before reduce_sum: (batch_size, max_length, hidden_size) ',context_vector.shape)\n",
        "    context_vector = tf.reduce_sum(context_vector, axis=1)\n",
        "    if self.verbose:\n",
        "      print('context_vector after reduce_sum: (batch_size, hidden_size) ',context_vector.shape)\n",
        "      print('\\n******* Bahdanau Attention ENDS******')\n",
        "    return context_vector, attention_weights"
      ],
      "metadata": {
        "id": "IGp85oGO7KWl"
      },
      "execution_count": null,
      "outputs": []
    }
  ]
}
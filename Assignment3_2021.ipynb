{
  "nbformat": 4,
  "nbformat_minor": 0,
  "metadata": {
    "colab": {
      "name": "Assignment3_2021.ipynb",
      "provenance": [],
      "collapsed_sections": [],
      "include_colab_link": true
    },
    "kernelspec": {
      "name": "python3",
      "display_name": "Python 3"
    },
    "language_info": {
      "name": "python"
    }
  },
  "cells": [
    {
      "cell_type": "markdown",
      "metadata": {
        "id": "view-in-github",
        "colab_type": "text"
      },
      "source": [
        "<a href=\"https://colab.research.google.com/github/JanLeyva/DeepLearning/blob/main/Assignment3_2021.ipynb\" target=\"_parent\"><img src=\"https://colab.research.google.com/assets/colab-badge.svg\" alt=\"Open In Colab\"/></a>"
      ]
    },
    {
      "cell_type": "markdown",
      "metadata": {
        "id": "Mr06uR9YTUvq"
      },
      "source": [
        "# Assignment 3: Attention\n",
        "\n",
        "The objectives of this assignment are:\n",
        "\n",
        "+ To implement Bahdanau Attention and Luong General Attention classes.\n",
        "+ To do a comparative (# of steps to converge, test error) of the three methods we have seen. Use these values for the comparative (the training datset size and `rnn_units` and `batch_size` values are up to you): \n",
        "    + `n_timesteps_in = 100`\n",
        "    + `n_features = 20`.   \n",
        "+ To implement a function to visualize the attention weights for one example. You can visualize them as in this figure (that corresponds to a machine translation task):\n",
        "\n",
        "<div>\n",
        "<center>\n",
        "<img src=\"https://jalammar.github.io/images/attention_sentence.png\" width=\"200\">\n",
        "</center>\n",
        "</div>\n",
        "\n",
        "+ To write a blog entry explaining in your words how does attention work. You can do it in your favourite blog site. If you do not have a favourite blog site, you can start one here: https://hackmd.io/\n",
        "\n",
        "You have to report all your work at the end of this notebook.\n",
        "\n"
      ]
    },
    {
      "cell_type": "markdown",
      "metadata": {
        "id": "LCzOe5TW3pT9"
      },
      "source": [
        "# Code"
      ]
    },
    {
      "cell_type": "code",
      "metadata": {
        "id": "NMIL6Mz-SaB_"
      },
      "source": [
        "#@title Some utils\n",
        "from random import randint\n",
        "from matplotlib import pyplot as plt\n",
        "from tensorflow.keras.callbacks import EarlyStopping\n",
        "\n",
        "import numpy as np\n",
        "\n",
        "def generate_sequence(length, n_unique):\n",
        "    \"\"\"\n",
        "    Generate a sequence of random integers.\n",
        "    \n",
        "    :length: Total length of the generated sequence\n",
        "    :n_unique: Maximum number allowed\n",
        "    \"\"\"\n",
        "    return [randint(1, n_unique-1) for _ in range(length)]\n",
        "\n",
        "def one_hot_encode(sequence, n_unique):\n",
        "    \"\"\"\n",
        "    Transform a sequence of integers into a one-hot-encoding vector\n",
        "    \n",
        "    :sequence: The sequence we want to transform\n",
        "    :n_unique: Maximum number allowed (length of the one-hot-encoded vector)\n",
        "    \"\"\"\n",
        "    encoding = list()\n",
        "    for value in sequence:\n",
        "        vector = [0 for _ in range(n_unique)]\n",
        "        vector[value] = 1\n",
        "        encoding.append(vector)\n",
        "    return np.array(encoding)\n",
        "\n",
        "def one_hot_decode(encoded_seq):\n",
        "    \"\"\"\n",
        "    Transorm a one-hot-encoded vector into a list of integers\n",
        "    \n",
        "    :encoded_seq: One hot encoded sequence to be transformed\n",
        "    \"\"\"\n",
        "    return [np.argmax(vector) for vector in encoded_seq]\n",
        "\n",
        "\n",
        "def get_reversed_pairs(time_steps,vocabulary_size):\n",
        "    \"\"\"\n",
        "    Generate a pair X, y where y is the 'reversed' version of X.\n",
        "    \n",
        "    :time_steps: Sequence length\n",
        "    :vocabulary_size: Maximum number allowed\n",
        "    \"\"\"\n",
        "    # generate random sequence and reverse it\n",
        "    sequence_in = generate_sequence(time_steps, vocabulary_size)\n",
        "    sequence_out = sequence_in[::-1]\n",
        "\n",
        "    # one hot encode both sequences\n",
        "    X = one_hot_encode(sequence_in, vocabulary_size)\n",
        "    y = one_hot_encode(sequence_out, vocabulary_size)\n",
        "    \n",
        "    # reshape as 3D so it can be inputed to the LSTM\n",
        "    X = X.reshape((1, X.shape[0], X.shape[1]))\n",
        "    y = y.reshape((1, y.shape[0], y.shape[1]))\n",
        "    return X,y\n",
        "\n",
        "\n",
        "def create_dataset(train_size, test_size, time_steps,vocabulary_size):\n",
        "    \"\"\"\n",
        "    Generates a datset of reversed pairs X, y.\n",
        "    \n",
        "    :train_size: Number of train pairs\n",
        "    :test_size: Number of test pairs\n",
        "    :time_steps: Sequence length\n",
        "    :vocabulary_size: Maximum number allowed\n",
        "    \"\"\"\n",
        "    \n",
        "    # Generate reversed pairs for training\n",
        "    pairs = [get_reversed_pairs(time_steps,vocabulary_size) for _ in range(train_size)]\n",
        "    pairs= np.array(pairs).squeeze()\n",
        "    X_train = pairs[:,0]\n",
        "    y_train = pairs[:,1]\n",
        "    \n",
        "    # Generate reversed pairs for test\n",
        "    pairs = [get_reversed_pairs(time_steps,vocabulary_size) for _ in range(test_size)]\n",
        "    pairs= np.array(pairs).squeeze()\n",
        "    X_test = pairs[:,0]\n",
        "    y_test = pairs[:,1]\t\n",
        "\n",
        "    return X_train, y_train, X_test, y_test\n",
        "\n",
        "\n",
        "def train_test(model, X_train, y_train , X_test, y_test, epochs=500, batch_size=32, patience=5):\n",
        "    \"\"\"\n",
        "    It trains a model and evaluates the result on the test dataset\n",
        "    \n",
        "    :model: Model to be fit\n",
        "    :X_train, y_train: Train samples and labels \n",
        "    :X_test y_test: Test samples and labels \n",
        "    :epochs: Maximum number of iterations that the model will perform\n",
        "    :batch_size: Samples per batch\n",
        "    :patience: Number of rounds without improvement that the model can perform. If there is no improvement on the loss, it will stop the trainning process.\n",
        "    \"\"\"\n",
        "    \n",
        "    # Train the model\n",
        "    history=model.fit(X_train, y_train, \n",
        "                      validation_split= 0.1, \n",
        "                      epochs=epochs,\n",
        "                      batch_size=batch_size, \n",
        "                      callbacks=[EarlyStopping(monitor='val_loss', patience=patience, restore_best_weights=True)])\n",
        "    \n",
        "    _, train_acc = model.evaluate(X_train, y_train, batch_size=batch_size)\n",
        "    _, test_acc = model.evaluate(X_test, y_test, batch_size=batch_size)\n",
        "    \n",
        "    print('\\nPREDICTION ACCURACY (%):')\n",
        "    print('Train: %.3f, Test: %.3f' % (train_acc*100, test_acc*100))\n",
        "    \n",
        "    fig, axs = plt.subplots(1,2, figsize=(12,5))\n",
        "    # summarize history for loss\n",
        "    axs[0].plot(history.history['loss'])\n",
        "    axs[0].plot(history.history['val_loss'])\n",
        "    axs[0].set_title(model.name+' loss')\n",
        "    axs[0].set_ylabel('loss')\n",
        "    axs[0].set_xlabel('epoch')\n",
        "    axs[0].legend(['train', 'val'], loc='upper left')\n",
        "    \n",
        "    # summarize history for accuracy\n",
        "    axs[1].plot(history.history['accuracy'])\n",
        "    axs[1].plot(history.history['val_accuracy'])\n",
        "    axs[1].set_title(model.name+' accuracy')\n",
        "    axs[1].set_ylabel('accuracy')\n",
        "    axs[1].set_xlabel('epoch')\n",
        "    axs[1].legend(['train', 'val'], loc='upper left')\n",
        "    plt.show()\n",
        "    \n",
        "    \n",
        "def predict(model, n_timesteps_in,n_features, x, y_real=None, ):\n",
        "    pred=model.predict(x.reshape(1,n_timesteps_in,n_features), batch_size=1)\n",
        "    print('input', one_hot_decode(x))    \n",
        "    print('predicted', one_hot_decode(pred[0]))\n",
        "    if y_real is not None:\n",
        "        print('expected', one_hot_decode(y_real))"
      ],
      "execution_count": 2,
      "outputs": []
    },
    {
      "cell_type": "code",
      "metadata": {
        "id": "9nOz2xOeRfWv"
      },
      "source": [
        "import tensorflow as tf\n",
        "import numpy as np\n",
        "\n",
        "from tensorflow.keras.layers import Input, Dense, LSTM, Lambda\n",
        "from tensorflow.keras.models import Model\n",
        "from tensorflow.keras import backend as K\n",
        "\n",
        "tf.keras.backend.set_floatx('float64')\n",
        "\n",
        "#attention model\n",
        "def build_attention_model(attention, batch_size, rnn_units):\n",
        "    \n",
        "    # ENCODER STEP\n",
        "    # ------------\n",
        "    # Same encoder as before with one and only difference. Now we need all the lstm states so we\n",
        "    # set return_sequences=True and return_state=True.\n",
        "    encoder_inputs = Input(shape=(n_timesteps_in, n_features), name='encoder_inputs')\n",
        "    encoder_lstm = LSTM(rnn_units, return_sequences=True, return_state=True, name='encoder_lstm')\n",
        "    encoder_outputs, encoder_state_h, encoder_state_c = encoder_lstm(encoder_inputs)\n",
        "    \n",
        "    states = [encoder_state_h, encoder_state_c]\n",
        "    \n",
        "    # DECODER STEP\n",
        "    # ------------\n",
        "    # Set up the decoder layers\n",
        "    # input shape: (1, n_features + rnn_units)\n",
        "    decoder_lstm = LSTM(rnn_units, return_state=True, name='decoder_lstm')\n",
        "    decoder_dense = Dense(n_features, activation='softmax', name='decoder_dense')\n",
        "    \n",
        "    # As before, we use as first input the 0-sequence\n",
        "    all_outputs = []\n",
        "    inputs = np.zeros((batch_size, 1, n_features))\n",
        "    \n",
        "    # Decoder_outputs is the last hidden state of the encoder. Encoder_outputs are all the states\n",
        "    decoder_outputs = encoder_state_h\n",
        "    \n",
        "    # Decoder will only process one time step at a time.\n",
        "    for _ in range(n_timesteps_in):\n",
        "\n",
        "        # Pay attention!\n",
        "        # decoder_outputs (last hidden state) + encoder_outputs (all hidden states)\n",
        "        context_vector, attention_weights = attention(decoder_outputs, encoder_outputs)\n",
        "        context_vector = tf.expand_dims(context_vector, 1)\n",
        "\n",
        "        # create the context vector by applying attention to \n",
        "        # Concatenate the input + context vectore to find the next decoder's input\n",
        "        inputs = tf.concat([context_vector, inputs], axis=-1)\n",
        "\n",
        "        # Passing the concatenated vector to the LSTM\n",
        "        # Run the decoder on one timestep with attended input and previous states\n",
        "        decoder_outputs, state_h, state_c = decoder_lstm(inputs, initial_state=states)        \n",
        "        outputs = decoder_dense(decoder_outputs)\n",
        "        \n",
        "        # Use the last hidden state for prediction the output\n",
        "        # save the current prediction\n",
        "        # we will concatenate all predictions later\n",
        "        outputs = tf.expand_dims(outputs, 1)\n",
        "        all_outputs.append(outputs)\n",
        "        \n",
        "        # Reinject the output (prediction) as inputs for the next loop iteration\n",
        "        # as well as update the states\n",
        "        inputs = outputs\n",
        "        states = [state_h, state_c]\n",
        "        \n",
        "    decoder_outputs = Lambda(lambda x: K.concatenate(x, axis=1))(all_outputs)\n",
        "    model = Model(encoder_inputs, decoder_outputs, name='model_encoder_decoder')\n",
        "    model.compile(optimizer='adam', loss='categorical_crossentropy', metrics=['accuracy'])\n",
        "    \n",
        "    return model\n",
        "\n",
        "\n",
        "class LuongDotAttention(tf.keras.layers.Layer):\n",
        "    def __init__(self):\n",
        "        super(LuongDotAttention, self).__init__()\n",
        "\n",
        "    def call(self, query, values):\n",
        "        query_with_time_axis = tf.expand_dims(query, 1)\n",
        "        values_transposed = tf.transpose(values, perm=[0, 2, 1])\n",
        "\n",
        "        # LUONGH Dot-product\n",
        "        score = tf.transpose(tf.matmul(query_with_time_axis, \n",
        "                                       values_transposed), perm=[0, 2, 1])\n",
        "\n",
        "        # attention_weights shape == (batch_size, max_length, 1)\n",
        "        attention_weights = tf.nn.softmax(score, axis=1)\n",
        "        \n",
        "        # context_vector shape after sum == (batch_size, hidden_size)\n",
        "        context_vector = attention_weights * values\n",
        "        context_vector = tf.reduce_sum(context_vector, axis=1)\n",
        "\n",
        "        return context_vector, attention_weights\n",
        "\n"
      ],
      "execution_count": 3,
      "outputs": []
    },
    {
      "cell_type": "code",
      "metadata": {
        "id": "lutvtkrYTR7r"
      },
      "source": [
        "# dataset \n",
        "n_timesteps_in = 100  # Sequence length\n",
        "n_features = 20     # Maximum number allowed-1 (length of the one-hot-encoded vector)\n",
        "train_size = 2000 \n",
        "test_size = 200\n",
        "X_train, y_train, X_test, y_test = create_dataset(train_size, test_size, n_timesteps_in,n_features )\n",
        "\n",
        "# training parameters\n",
        "batch_size = 100\n",
        "\n",
        "# model parameters\n",
        "rnn_units = 100\n",
        "\n",
        "# attention model\n",
        "attention = LuongDotAttention()\n",
        "model_attention = build_attention_model(attention, batch_size, rnn_units)"
      ],
      "execution_count": 4,
      "outputs": []
    },
    {
      "cell_type": "code",
      "metadata": {
        "colab": {
          "base_uri": "https://localhost:8080/",
          "height": 1000
        },
        "id": "AggCVRldXsW7",
        "outputId": "3fbf3e6d-2c52-4dbe-8c93-12ee76215b5d"
      },
      "source": [
        "#training\n",
        "train_test(model_attention, X_train, y_train , X_test,\n",
        "           y_test, batch_size=batch_size, epochs=50, patience=3)"
      ],
      "execution_count": null,
      "outputs": [
        {
          "output_type": "stream",
          "name": "stdout",
          "text": [
            "Epoch 1/50\n",
            "18/18 [==============================] - 229s 5s/step - loss: 2.9659 - accuracy: 0.0534 - val_loss: 2.9474 - val_accuracy: 0.0523\n",
            "Epoch 2/50\n",
            "18/18 [==============================] - 46s 3s/step - loss: 2.9456 - accuracy: 0.0570 - val_loss: 2.9450 - val_accuracy: 0.0544\n",
            "Epoch 3/50\n",
            "18/18 [==============================] - 45s 3s/step - loss: 2.9425 - accuracy: 0.0609 - val_loss: 2.9381 - val_accuracy: 0.0654\n",
            "Epoch 4/50\n",
            "18/18 [==============================] - 45s 3s/step - loss: 2.9372 - accuracy: 0.0699 - val_loss: 2.9334 - val_accuracy: 0.0679\n",
            "Epoch 5/50\n",
            "18/18 [==============================] - 46s 3s/step - loss: 2.9269 - accuracy: 0.0754 - val_loss: 2.9227 - val_accuracy: 0.0768\n",
            "Epoch 6/50\n",
            "18/18 [==============================] - 46s 3s/step - loss: 2.9160 - accuracy: 0.0821 - val_loss: 2.9111 - val_accuracy: 0.0843\n",
            "Epoch 7/50\n",
            "18/18 [==============================] - 46s 3s/step - loss: 2.9058 - accuracy: 0.0868 - val_loss: 2.9020 - val_accuracy: 0.0903\n",
            "Epoch 8/50\n",
            "18/18 [==============================] - 47s 3s/step - loss: 2.8963 - accuracy: 0.0909 - val_loss: 2.8920 - val_accuracy: 0.0953\n",
            "Epoch 9/50\n",
            "18/18 [==============================] - 47s 3s/step - loss: 2.8850 - accuracy: 0.0958 - val_loss: 2.8794 - val_accuracy: 0.0956\n",
            "Epoch 10/50\n",
            "18/18 [==============================] - 47s 3s/step - loss: 2.8696 - accuracy: 0.1013 - val_loss: 2.8622 - val_accuracy: 0.1016\n",
            "Epoch 11/50\n",
            "18/18 [==============================] - 46s 3s/step - loss: 2.8438 - accuracy: 0.1112 - val_loss: 2.8239 - val_accuracy: 0.1173\n",
            "Epoch 12/50\n",
            "18/18 [==============================] - 46s 3s/step - loss: 2.8090 - accuracy: 0.1245 - val_loss: 2.7830 - val_accuracy: 0.1328\n",
            "Epoch 13/50\n",
            "18/18 [==============================] - 46s 3s/step - loss: 2.7604 - accuracy: 0.1384 - val_loss: 2.7258 - val_accuracy: 0.1504\n",
            "Epoch 14/50\n",
            "18/18 [==============================] - 47s 3s/step - loss: 2.7081 - accuracy: 0.1530 - val_loss: 2.7060 - val_accuracy: 0.1542\n",
            "Epoch 15/50\n",
            "18/18 [==============================] - 47s 3s/step - loss: 2.6572 - accuracy: 0.1650 - val_loss: 2.6244 - val_accuracy: 0.1752\n",
            "Epoch 16/50\n",
            "18/18 [==============================] - 47s 3s/step - loss: 2.6077 - accuracy: 0.1763 - val_loss: 2.5718 - val_accuracy: 0.1909\n",
            "Epoch 17/50\n",
            "18/18 [==============================] - 52s 3s/step - loss: 2.5482 - accuracy: 0.1924 - val_loss: 2.5062 - val_accuracy: 0.2019\n",
            "Epoch 18/50\n",
            "18/18 [==============================] - 72s 4s/step - loss: 2.5008 - accuracy: 0.2022 - val_loss: 2.5269 - val_accuracy: 0.1946\n",
            "Epoch 19/50\n",
            "18/18 [==============================] - 77s 4s/step - loss: 2.4341 - accuracy: 0.2177 - val_loss: 2.4031 - val_accuracy: 0.2224\n",
            "Epoch 20/50\n",
            "18/18 [==============================] - 74s 4s/step - loss: 2.3769 - accuracy: 0.2296 - val_loss: 2.3261 - val_accuracy: 0.2417\n",
            "Epoch 21/50\n",
            "18/18 [==============================] - 63s 3s/step - loss: 2.3428 - accuracy: 0.2367 - val_loss: 2.3609 - val_accuracy: 0.2311\n",
            "Epoch 22/50\n",
            "18/18 [==============================] - 57s 3s/step - loss: 2.3091 - accuracy: 0.2436 - val_loss: 2.3323 - val_accuracy: 0.2368\n",
            "Epoch 23/50\n",
            "18/18 [==============================] - 63s 3s/step - loss: 2.3540 - accuracy: 0.2340 - val_loss: 2.2753 - val_accuracy: 0.2572\n",
            "Epoch 24/50\n",
            "18/18 [==============================] - 62s 3s/step - loss: 2.2178 - accuracy: 0.2648 - val_loss: 2.1887 - val_accuracy: 0.2692\n",
            "Epoch 25/50\n",
            "18/18 [==============================] - 64s 4s/step - loss: 2.1826 - accuracy: 0.2684 - val_loss: 2.1441 - val_accuracy: 0.2764\n",
            "Epoch 26/50\n",
            "18/18 [==============================] - 68s 4s/step - loss: 2.0720 - accuracy: 0.2932 - val_loss: 2.1435 - val_accuracy: 0.2713\n",
            "Epoch 27/50\n",
            "18/18 [==============================] - 62s 3s/step - loss: 2.0374 - accuracy: 0.2984 - val_loss: 1.9636 - val_accuracy: 0.3191\n",
            "Epoch 28/50\n",
            "18/18 [==============================] - 61s 3s/step - loss: 1.9761 - accuracy: 0.3114 - val_loss: 1.9150 - val_accuracy: 0.3287\n",
            "Epoch 29/50\n",
            "18/18 [==============================] - 60s 3s/step - loss: 1.9655 - accuracy: 0.3122 - val_loss: 1.9115 - val_accuracy: 0.3274\n",
            "Epoch 30/50\n",
            "18/18 [==============================] - 59s 3s/step - loss: 1.8788 - accuracy: 0.3337 - val_loss: 1.8158 - val_accuracy: 0.3488\n",
            "Epoch 31/50\n",
            "18/18 [==============================] - 59s 3s/step - loss: 1.8511 - accuracy: 0.3385 - val_loss: 1.8726 - val_accuracy: 0.3300\n",
            "Epoch 32/50\n",
            "18/18 [==============================] - 65s 4s/step - loss: 2.2067 - accuracy: 0.2772 - val_loss: 3.1084 - val_accuracy: 0.1308\n",
            "Epoch 33/50\n",
            "18/18 [==============================] - 60s 3s/step - loss: 2.7945 - accuracy: 0.1627 - val_loss: 2.5985 - val_accuracy: 0.1875\n",
            "20/20 [==============================] - 19s 957ms/step - loss: 1.7979 - accuracy: 0.3551\n",
            "2/2 [==============================] - 2s 900ms/step - loss: 1.8105 - accuracy: 0.3539\n",
            "\n",
            "PREDICTION ACCURACY (%):\n",
            "Train: 35.511, Test: 35.395\n"
          ]
        },
        {
          "output_type": "display_data",
          "data": {
            "image/png": "[encoded data removed]",
            "text/plain": [
              "<Figure size 864x360 with 2 Axes>"
            ]
          },
          "metadata": {
            "needs_background": "light"
          }
        }
      ]
    },
    {
      "cell_type": "code",
      "source": [
        "# attention model\n",
        "attentionBahdanau = BahdanauAttention(16, verbose = 0)\n",
        "model_attentionBahdanau = build_attention_model(attention, batch_size, rnn_units)\n",
        "\n",
        "\n",
        "#training\n",
        "train_test(model_attentionBahdanau, X_train, y_train , X_test,\n",
        "           y_test, batch_size=batch_size, epochs=50, patience=3)"
      ],
      "metadata": {
        "id": "Otn-DZRJ38_Y",
        "outputId": "94e360e0-ef15-4f1a-bfc8-5d764dc3ddea",
        "colab": {
          "base_uri": "https://localhost:8080/",
          "height": 1000
        }
      },
      "execution_count": null,
      "outputs": [
        {
          "output_type": "stream",
          "name": "stdout",
          "text": [
            "Epoch 1/50\n",
            "18/18 [==============================] - 230s 5s/step - loss: 2.9649 - accuracy: 0.0529 - val_loss: 2.9459 - val_accuracy: 0.0534\n",
            "Epoch 2/50\n",
            "18/18 [==============================] - 45s 3s/step - loss: 2.9456 - accuracy: 0.0537 - val_loss: 2.9447 - val_accuracy: 0.0536\n",
            "Epoch 3/50\n",
            "18/18 [==============================] - 47s 3s/step - loss: 2.9428 - accuracy: 0.0596 - val_loss: 2.9439 - val_accuracy: 0.0586\n",
            "Epoch 4/50\n",
            "18/18 [==============================] - 50s 3s/step - loss: 2.9390 - accuracy: 0.0656 - val_loss: 2.9346 - val_accuracy: 0.0733\n",
            "Epoch 5/50\n",
            "18/18 [==============================] - 48s 3s/step - loss: 2.9284 - accuracy: 0.0741 - val_loss: 2.9250 - val_accuracy: 0.0756\n",
            "Epoch 6/50\n",
            "18/18 [==============================] - 48s 3s/step - loss: 2.9168 - accuracy: 0.0819 - val_loss: 2.9102 - val_accuracy: 0.0839\n",
            "Epoch 7/50\n",
            "18/18 [==============================] - 46s 3s/step - loss: 2.9052 - accuracy: 0.0862 - val_loss: 2.9014 - val_accuracy: 0.0880\n",
            "Epoch 8/50\n",
            "18/18 [==============================] - 45s 2s/step - loss: 2.8941 - accuracy: 0.0908 - val_loss: 2.8894 - val_accuracy: 0.0941\n",
            "Epoch 9/50\n",
            "18/18 [==============================] - 45s 3s/step - loss: 2.8779 - accuracy: 0.0978 - val_loss: 2.8695 - val_accuracy: 0.1022\n",
            "Epoch 10/50\n",
            "18/18 [==============================] - 45s 3s/step - loss: 2.8495 - accuracy: 0.1095 - val_loss: 2.8343 - val_accuracy: 0.1133\n",
            "Epoch 11/50\n",
            "18/18 [==============================] - 45s 3s/step - loss: 2.8183 - accuracy: 0.1211 - val_loss: 2.7967 - val_accuracy: 0.1278\n",
            "Epoch 12/50\n",
            "18/18 [==============================] - 45s 3s/step - loss: 2.7700 - accuracy: 0.1355 - val_loss: 2.7374 - val_accuracy: 0.1457\n",
            "Epoch 13/50\n",
            "18/18 [==============================] - 46s 3s/step - loss: 2.7156 - accuracy: 0.1518 - val_loss: 2.6664 - val_accuracy: 0.1617\n",
            "Epoch 14/50\n",
            "18/18 [==============================] - 49s 3s/step - loss: 2.6544 - accuracy: 0.1685 - val_loss: 2.6028 - val_accuracy: 0.1837\n",
            "Epoch 15/50\n",
            "18/18 [==============================] - 49s 3s/step - loss: 2.5932 - accuracy: 0.1828 - val_loss: 2.5707 - val_accuracy: 0.1881\n",
            "Epoch 16/50\n",
            "18/18 [==============================] - 47s 3s/step - loss: 2.5369 - accuracy: 0.1967 - val_loss: 2.5212 - val_accuracy: 0.2004\n",
            "Epoch 17/50\n",
            "18/18 [==============================] - 48s 3s/step - loss: 2.4695 - accuracy: 0.2125 - val_loss: 2.4588 - val_accuracy: 0.2140\n",
            "Epoch 18/50\n",
            "18/18 [==============================] - 47s 3s/step - loss: 2.4163 - accuracy: 0.2238 - val_loss: 2.3798 - val_accuracy: 0.2328\n",
            "Epoch 19/50\n",
            "18/18 [==============================] - 47s 3s/step - loss: 2.3613 - accuracy: 0.2369 - val_loss: 2.3509 - val_accuracy: 0.2392\n",
            "Epoch 20/50\n",
            "18/18 [==============================] - 48s 3s/step - loss: 2.3366 - accuracy: 0.2394 - val_loss: 2.2932 - val_accuracy: 0.2515\n",
            "Epoch 21/50\n",
            "18/18 [==============================] - 47s 3s/step - loss: 2.2634 - accuracy: 0.2570 - val_loss: 2.2090 - val_accuracy: 0.2698\n",
            "Epoch 22/50\n",
            "18/18 [==============================] - 47s 3s/step - loss: 2.2010 - accuracy: 0.2694 - val_loss: 2.1793 - val_accuracy: 0.2714\n",
            "Epoch 23/50\n",
            "18/18 [==============================] - 49s 3s/step - loss: 2.2062 - accuracy: 0.2646 - val_loss: 2.3324 - val_accuracy: 0.2301\n",
            "Epoch 24/50\n",
            "18/18 [==============================] - 53s 3s/step - loss: 2.7820 - accuracy: 0.1339 - val_loss: 2.6692 - val_accuracy: 0.1670\n",
            "Epoch 25/50\n",
            "18/18 [==============================] - 53s 3s/step - loss: 2.5564 - accuracy: 0.1921 - val_loss: 2.5737 - val_accuracy: 0.1799\n",
            "20/20 [==============================] - 18s 918ms/step - loss: 2.1708 - accuracy: 0.2749\n",
            "2/2 [==============================] - 2s 971ms/step - loss: 2.1760 - accuracy: 0.2737\n",
            "\n",
            "PREDICTION ACCURACY (%):\n",
            "Train: 27.489, Test: 27.370\n"
          ]
        },
        {
          "output_type": "display_data",
          "data": {
            "image/png": "[encoded data removed]",
            "text/plain": [
              "<Figure size 864x360 with 2 Axes>"
            ]
          },
          "metadata": {
            "needs_background": "light"
          }
        }
      ]
    },
    {
      "cell_type": "markdown",
      "source": [
        "# Bahdanau Attention"
      ],
      "metadata": {
        "id": "yRia99WFsiRz"
      }
    },
    {
      "cell_type": "code",
      "source": [
        "class BahdanauAttention(tf.keras.layers.Layer):\n",
        "  def __init__(self, units, verbose=0):\n",
        "    super(BahdanauAttention, self).__init__()\n",
        "    self.W1 = tf.keras.layers.Dense(units)\n",
        "    self.W2 = tf.keras.layers.Dense(units)\n",
        "    self.V = tf.keras.layers.Dense(1)\n",
        "    self.verbose= verbose\n",
        "\n",
        "  def call(self, query, values):\n",
        "    if self.verbose:\n",
        "      print('\\n******* Bahdanau Attention STARTS******')\n",
        "      print('query (decoder hidden state): (batch_size, hidden size) ', query.shape)\n",
        "      print('values (encoder all hidden state): (batch_size, max_len, hidden size) ', values.shape)\n",
        "\n",
        "    # query hidden state shape == (batch_size, hidden size)\n",
        "    # query_with_time_axis shape == (batch_size, 1, hidden size)\n",
        "    # values shape == (batch_size, max_len, hidden size)\n",
        "    # we are doing this to broadcast addition along the time axis to calculate the score\n",
        "    query_with_time_axis = tf.expand_dims(query, 1)\n",
        "    \n",
        "    if self.verbose:\n",
        "      print('query_with_time_axis:(batch_size, 1, hidden size) ', query_with_time_axis.shape)\n",
        "\n",
        "    # score shape == (batch_size, max_length, 1)\n",
        "    # we get 1 at the last axis because we are applying score to self.V\n",
        "    # the shape of the tensor before applying self.V is (batch_size, max_length, units)\n",
        "    score = self.V(tf.nn.tanh(\n",
        "        self.W1(query_with_time_axis) + self.W2(values)))\n",
        "    if self.verbose:\n",
        "      print('score: (batch_size, max_length, 1) ',score.shape)\n",
        "    # attention_weights shape == (batch_size, max_length, 1)\n",
        "    attention_weights = tf.nn.softmax(score, axis=1)\n",
        "    if self.verbose:\n",
        "      print('attention_weights: (batch_size, max_length, 1) ',attention_weights.shape)\n",
        "    # context_vector shape after sum == (batch_size, hidden_size)\n",
        "    context_vector = attention_weights * values\n",
        "    if self.verbose:\n",
        "      print('context_vector before reduce_sum: (batch_size, max_length, hidden_size) ',context_vector.shape)\n",
        "    context_vector = tf.reduce_sum(context_vector, axis=1)\n",
        "    if self.verbose:\n",
        "      print('context_vector after reduce_sum: (batch_size, hidden_size) ',context_vector.shape)\n",
        "      print('\\n******* Bahdanau Attention ENDS******')\n",
        "    return context_vector, attention_weights"
      ],
      "metadata": {
        "id": "ot6Ibbvq3zlw"
      },
      "execution_count": null,
      "outputs": []
    },
    {
      "cell_type": "code",
      "source": [
        "class BahdanauAttention(tf.keras.layers.Layer):\n",
        "  def __init__(self, units, verbose=0):\n",
        "    super(BahdanauAttention, self).__init__()\n",
        "    self.W1 = tf.keras.layers.Dense(units)\n",
        "    self.W2 = tf.keras.layers.Dense(units)\n",
        "    self.V = tf.keras.layers.Dense(1)\n",
        "    self.verbose= verbose\n",
        "\n",
        "  def call(self, query, values):\n",
        "    # query hidden state shape == (batch_size, hidden size)\n",
        "    # query_with_time_axis shape == (batch_size, 1, hidden size)\n",
        "    # values shape == (batch_size, max_len, hidden size)\n",
        "    # we are doing this to broadcast addition along the time axis to calculate the score\n",
        "    query_with_time_axis = tf.expand_dims(query, 1)\n",
        "\n",
        "    # score shape == (batch_size, max_length, 1)\n",
        "    # we get 1 at the last axis because we are applying score to self.V\n",
        "    # the shape of the tensor before applying self.V is (batch_size, max_length, units)\n",
        "    score = self.V(tf.nn.tanh(self.W1(query_with_time_axis) + self.W2(values)))\n",
        "\n",
        "    # attention_weights shape == (batch_size, max_length, 1)\n",
        "    attention_weights = tf.nn.softmax(score, axis=1)\n",
        "\n",
        "    # context_vector shape after sum == (batch_size, hidden_size)\n",
        "    context_vector = attention_weights * values\n",
        "\n",
        "    context_vector = tf.reduce_sum(context_vector, axis=1)\n",
        "\n",
        "    return context_vector, attention_weights"
      ],
      "metadata": {
        "id": "rsIOQvmtsqCh"
      },
      "execution_count": 5,
      "outputs": []
    },
    {
      "cell_type": "code",
      "source": [
        "    encoder_inputs = Input(shape=(n_timesteps_in, n_features), name='encoder_inputs')\n",
        "    encoder_lstm = LSTM(rnn_units, return_sequences=True, return_state=True, name='encoder_lstm')\n",
        "    encoder_outputs, encoder_state_h, encoder_state_c = encoder_lstm(encoder_inputs)\n",
        "    \n",
        "    states = [encoder_state_h, encoder_state_c]\n",
        "    \n",
        "    # DECODER STEP\n",
        "    # ------------\n",
        "    # Set up the decoder layers\n",
        "    # input shape: (1, n_features + rnn_units)\n",
        "    decoder_lstm = LSTM(rnn_units, return_state=True, name='decoder_lstm')\n",
        "    decoder_dense = Dense(n_features, activation='softmax', name='decoder_dense')\n",
        "    \n",
        "    # As before, we use as first input the 0-sequence\n",
        "    all_outputs = []\n",
        "    inputs = np.zeros((batch_size, 1, n_features))\n",
        "    \n",
        "    # Decoder_outputs is the last hidden state of the encoder. Encoder_outputs are all the states\n",
        "    decoder_outputs = encoder_state_h"
      ],
      "metadata": {
        "id": "mOTECqDlvGCa"
      },
      "execution_count": 6,
      "outputs": []
    },
    {
      "cell_type": "code",
      "source": [
        "query_with_time_axis = tf.expand_dims(decoder_outputs, 1)\n",
        "values_transposed = tf.transpose(encoder_outputs, perm=[0, 2, 1])"
      ],
      "metadata": {
        "id": "kc2clEnDvLu5"
      },
      "execution_count": 8,
      "outputs": []
    },
    {
      "cell_type": "markdown",
      "source": [
        "## Luong dot"
      ],
      "metadata": {
        "id": "Mif5vRm5zc4h"
      }
    },
    {
      "cell_type": "code",
      "source": [
        "score = tf.transpose(tf.matmul(query_with_time_axis, \n",
        "                                       values_transposed), perm=[0, 2, 1])"
      ],
      "metadata": {
        "id": "JTGzGWuRtjSp"
      },
      "execution_count": 9,
      "outputs": []
    },
    {
      "cell_type": "markdown",
      "source": [
        "## Luong multiplicative"
      ],
      "metadata": {
        "id": "lgwmIdl3zgCQ"
      }
    },
    {
      "cell_type": "code",
      "source": [
        "W1 = tf.keras.layers.Dense(units) # we need a W as training paramater\n",
        "\n",
        "score = tf.transpose( tf.matmul(query_with_time_axis, \n",
        "                                       values_transposed), perm=[0, 2, 1])"
      ],
      "metadata": {
        "id": "EH1pF2O7ziQ4"
      },
      "execution_count": null,
      "outputs": []
    },
    {
      "cell_type": "code",
      "source": [
        "(score)"
      ],
      "metadata": {
        "id": "PobXk9j_zMjh",
        "outputId": "2809024f-3c9c-44f4-bcc3-6e746692a7b6",
        "colab": {
          "base_uri": "https://localhost:8080/"
        }
      },
      "execution_count": 13,
      "outputs": [
        {
          "output_type": "execute_result",
          "data": {
            "text/plain": [
              "<KerasTensor: shape=(None, 100, 1) dtype=float64 (created by layer 'tf.compat.v1.transpose_1')>"
            ]
          },
          "metadata": {},
          "execution_count": 13
        }
      ]
    },
    {
      "cell_type": "markdown",
      "source": [
        "# Luong multiplicative"
      ],
      "metadata": {
        "id": "f5L650gOslBi"
      }
    },
    {
      "cell_type": "code",
      "source": [
        "class LuongDotAttention(tf.keras.layers.Layer):\n",
        "    def __init__(self):\n",
        "        super(LuongDotAttention, self).__init__()\n",
        "\n",
        "    def call(self, query, values):\n",
        "        query_with_time_axis = tf.expand_dims(query, 1)\n",
        "        values_transposed = tf.transpose(values, perm=[0, 2, 1])\n",
        "\n",
        "        # LUONGH Dot-product\n",
        "        score = tf.transpose(tf.matmul(query_with_time_axis, \n",
        "                                       values_transposed), perm=[0, 2, 1])\n",
        "\n",
        "        # attention_weights shape == (batch_size, max_length, 1)\n",
        "        attention_weights = tf.nn.softmax(score, axis=1)\n",
        "        \n",
        "        # context_vector shape after sum == (batch_size, hidden_size)\n",
        "        context_vector = attention_weights * values\n",
        "        context_vector = tf.reduce_sum(context_vector, axis=1)\n",
        "\n",
        "        return context_vector, attention_weights"
      ],
      "metadata": {
        "id": "_lckLJRcsoEi"
      },
      "execution_count": null,
      "outputs": []
    },
    {
      "cell_type": "markdown",
      "source": [
        "# Plot the Matrix Weigth"
      ],
      "metadata": {
        "id": "DH--MxhJ_0t1"
      }
    },
    {
      "cell_type": "code",
      "source": [
        "def evaluate(seq_in):\n",
        "  attention_plot = np.zeros((n_timesteps_in, n_timesteps_in))\n",
        "  print ('attention_plot shape: (n_timesteps_in, n_timesteps_in) {}'.format(attention_plot.shape))\n",
        "\n",
        "\n",
        "  #sequence = [7, 9, 8, 5]\n",
        "  sequence = one_hot_encode(seq_in,n_features)\n",
        "  encoder_inputs=array(sequence).reshape(1,n_timesteps_in,n_features)\n",
        "  \n",
        "  encoder_inputs = tf.convert_to_tensor(encoder_inputs,dtype=tf.float32)\n",
        "  print ('Encoder input shape: (batch size, sequence length, n_features) {}'.format(encoder_inputs.shape))\n",
        "\n",
        "\n",
        "  encoder_outputs, state_h, state_c = encoder_lstm(encoder_inputs)\n",
        "\n",
        "  print ('Encoder output shape: (batch size, sequence length, latentSpaceDimension) {}'.format(encoder_outputs.shape))\n",
        "  print ('Encoder Hidden state shape: (batch size, latentSpaceDimension) {}'.format(state_h.shape))\n",
        "  print ('Encoder Cell state shape: (batch size, latentSpaceDimension) {}'.format(state_c.shape))\n",
        "  # initial context vector is the states of the encoder\n",
        "  states = [state_h, state_c]\n",
        "  \n",
        "  # Set up the attention layer\n",
        "  #attention= BahdanauAttention(latentSpaceDimension)\n",
        "\n",
        "\n",
        "  # Set up the decoder layers\n",
        "  #decoder_inputs = Input(shape=(1, (n_features+latentSpaceDimension)))\n",
        "  #decoder_lstm = LSTM(latentSpaceDimension,  return_state=True, name='decoder_lstm')\n",
        "  #decoder_dense = Dense(n_features, activation='softmax',  name='decoder_dense')\n",
        "\n",
        "  all_outputs = []\n",
        "\n",
        "  #INIT DECODER\n",
        "  # Prepare decoder input data that just contains the start character 0\n",
        "  # Note that we made it a constant one-hot-encoded in the model\n",
        "  # that is, [1 0 0 0 0 0 0 0 0 0] is the first input for each loop\n",
        "  decoder_input_data = np.zeros((1, 1, n_features))\n",
        "  decoder_input_data[:, 0, 0] = 1 \n",
        "  # that is, [1 0 0 0 0 0 0 0 0 0] is the first input for each loop\n",
        "  inputs = decoder_input_data\n",
        "  #initial hiiden state\n",
        "  decoder_outputs = state_h\n",
        "\n",
        "  print('initial decoder inputs: ', inputs.shape)\n",
        "\n",
        "  # decoder will only process one timestep at a time.\n",
        "  for t in range(n_timesteps_in):\n",
        "\n",
        "      # pay attention\n",
        "      context_vector, attention_weights=attention(decoder_outputs, encoder_outputs)\n",
        "\n",
        "\n",
        "\n",
        "      print(\"Attention context_vector: (batch size, units) {}\".format(context_vector.shape))\n",
        "      print(\"Attention weights : (batch_size, sequence_length, 1) {}\".format(attention_weights.shape))\n",
        "\n",
        "      # storing the attention weights to plot later on\n",
        "      attention_weights = tf.reshape(attention_weights, (-1, ))\n",
        "      attention_plot[t] = attention_weights.numpy()\n",
        "\n",
        "      \n",
        "      decoder_outputs=tf.expand_dims(decoder_outputs, 1)\n",
        "      print('decoder_outputs: (batch_size, 1, latentSpaceDimension) ', decoder_outputs.shape )\n",
        "\n",
        "      context_vector = tf.expand_dims(context_vector, 1)\n",
        "      print('Reshaped context_vector: ', context_vector.shape )\n",
        "      inputs = tf.concat([context_vector, inputs], axis=-1)\n",
        "      #inputs = tf.concat([context_vector, inputs], axis=-1)\n",
        "      print('After concat inputs: (batch_size, 1, n_features + hidden_size): ',inputs.shape )\n",
        "\n",
        "      # passing the concatenated vector to the LSTM\n",
        "      # Run the decoder on one timestep\n",
        "      decoder_outputs, state_h, state_c = decoder_lstm(inputs,\n",
        "                                              initial_state=states)\n",
        "      #decoder_outputs = tf.reshape(decoder_outputs, (-1, decoder_outputs.shape[2]))\n",
        "    \n",
        "      outputs = decoder_dense(decoder_outputs)\n",
        "      # Store the current prediction (we will concatenate all predictions later)\n",
        "      outputs = tf.expand_dims(outputs, 1)\n",
        "      all_outputs.append(outputs)\n",
        "      # Reinject the outputs as inputs for the next loop iteration\n",
        "      # as well as update the states\n",
        "      inputs = outputs\n",
        "      states = [state_h, state_c]\n",
        "\n",
        "\n",
        "\n",
        "  # Concatenate all predictions such as [batch_size, timesteps, features]\n",
        "  decoder_outputs = Lambda(lambda x: K.concatenate(x, axis=1))(all_outputs)\n",
        "  seq_out=one_hot_decode(decoder_outputs[0])\n",
        "  \n",
        "  return seq_in, seq_out, attention_plot"
      ],
      "metadata": {
        "id": "kikS9pOnAl9t"
      },
      "execution_count": null,
      "outputs": []
    },
    {
      "cell_type": "code",
      "source": [
        "# function for plotting the attention weights\n",
        "def plot_attention(attention, sequence, predicted_sequence):\n",
        "  fig = plt.figure(figsize=(8,8))\n",
        "  ax = fig.add_subplot(1, 1, 1)\n",
        "  ax.matshow(attention, cmap='viridis')\n",
        "\n",
        "  fontdict = {'fontsize': 14}\n",
        "\n",
        "  ax.set_xticklabels([''] + sequence, fontdict=fontdict, rotation=90)\n",
        "  ax.set_yticklabels([''] + predicted_sequence, fontdict=fontdict)\n",
        "\n",
        "  ax.xaxis.set_major_locator(ticker.MultipleLocator(1))\n",
        "  ax.yaxis.set_major_locator(ticker.MultipleLocator(1))\n",
        "\n",
        "  plt.show()"
      ],
      "metadata": {
        "id": "z9GsNF6E_4Ou"
      },
      "execution_count": null,
      "outputs": []
    },
    {
      "cell_type": "code",
      "source": [
        "def translate(seq_in):\n",
        "  seq_in, seq_out, attention_plot = evaluate(seq_in)\n",
        "\n",
        "  print('Input: %s' % (seq_in))\n",
        "  print('Predicted translation: {}'.format(seq_out))\n",
        "\n",
        "  attention_plot = attention_plot[:len(seq_out), :len(seq_in)]\n",
        "  plot_attention(attention_plot, seq_in, seq_out)"
      ],
      "metadata": {
        "id": "dCDovcQ2_6CV"
      },
      "execution_count": null,
      "outputs": []
    },
    {
      "cell_type": "code",
      "source": [
        "translate([1, 2, 3 ,4])"
      ],
      "metadata": {
        "id": "aQMvUmOVAbpB",
        "outputId": "7622b632-535b-4b65-bb55-b4711306d771",
        "colab": {
          "base_uri": "https://localhost:8080/",
          "height": 324
        }
      },
      "execution_count": null,
      "outputs": [
        {
          "output_type": "stream",
          "name": "stdout",
          "text": [
            "attention_plot shape: (n_timesteps_in, n_timesteps_in) (100, 100)\n"
          ]
        },
        {
          "output_type": "error",
          "ename": "NameError",
          "evalue": "ignored",
          "traceback": [
            "\u001b[0;31m---------------------------------------------------------------------------\u001b[0m",
            "\u001b[0;31mNameError\u001b[0m                                 Traceback (most recent call last)",
            "\u001b[0;32m<ipython-input-39-581282c2143c>\u001b[0m in \u001b[0;36m<module>\u001b[0;34m()\u001b[0m\n\u001b[0;32m----> 1\u001b[0;31m \u001b[0mtranslate\u001b[0m\u001b[0;34m(\u001b[0m\u001b[0;34m[\u001b[0m\u001b[0;36m1\u001b[0m\u001b[0;34m,\u001b[0m \u001b[0;36m2\u001b[0m\u001b[0;34m,\u001b[0m \u001b[0;36m3\u001b[0m \u001b[0;34m,\u001b[0m\u001b[0;36m4\u001b[0m\u001b[0;34m]\u001b[0m\u001b[0;34m)\u001b[0m\u001b[0;34m\u001b[0m\u001b[0;34m\u001b[0m\u001b[0m\n\u001b[0m",
            "\u001b[0;32m<ipython-input-36-060bbc524f68>\u001b[0m in \u001b[0;36mtranslate\u001b[0;34m(seq_in)\u001b[0m\n\u001b[1;32m      1\u001b[0m \u001b[0;32mdef\u001b[0m \u001b[0mtranslate\u001b[0m\u001b[0;34m(\u001b[0m\u001b[0mseq_in\u001b[0m\u001b[0;34m)\u001b[0m\u001b[0;34m:\u001b[0m\u001b[0;34m\u001b[0m\u001b[0;34m\u001b[0m\u001b[0m\n\u001b[0;32m----> 2\u001b[0;31m   \u001b[0mseq_in\u001b[0m\u001b[0;34m,\u001b[0m \u001b[0mseq_out\u001b[0m\u001b[0;34m,\u001b[0m \u001b[0mattention_plot\u001b[0m \u001b[0;34m=\u001b[0m \u001b[0mevaluate\u001b[0m\u001b[0;34m(\u001b[0m\u001b[0mseq_in\u001b[0m\u001b[0;34m)\u001b[0m\u001b[0;34m\u001b[0m\u001b[0;34m\u001b[0m\u001b[0m\n\u001b[0m\u001b[1;32m      3\u001b[0m \u001b[0;34m\u001b[0m\u001b[0m\n\u001b[1;32m      4\u001b[0m   \u001b[0mprint\u001b[0m\u001b[0;34m(\u001b[0m\u001b[0;34m'Input: %s'\u001b[0m \u001b[0;34m%\u001b[0m \u001b[0;34m(\u001b[0m\u001b[0mseq_in\u001b[0m\u001b[0;34m)\u001b[0m\u001b[0;34m)\u001b[0m\u001b[0;34m\u001b[0m\u001b[0;34m\u001b[0m\u001b[0m\n\u001b[1;32m      5\u001b[0m   \u001b[0mprint\u001b[0m\u001b[0;34m(\u001b[0m\u001b[0;34m'Predicted translation: {}'\u001b[0m\u001b[0;34m.\u001b[0m\u001b[0mformat\u001b[0m\u001b[0;34m(\u001b[0m\u001b[0mseq_out\u001b[0m\u001b[0;34m)\u001b[0m\u001b[0;34m)\u001b[0m\u001b[0;34m\u001b[0m\u001b[0;34m\u001b[0m\u001b[0m\n",
            "\u001b[0;32m<ipython-input-38-50c335a85c6d>\u001b[0m in \u001b[0;36mevaluate\u001b[0;34m(seq_in)\u001b[0m\n\u001b[1;32m      6\u001b[0m   \u001b[0;31m#sequence = [7, 9, 8, 5]\u001b[0m\u001b[0;34m\u001b[0m\u001b[0;34m\u001b[0m\u001b[0;34m\u001b[0m\u001b[0m\n\u001b[1;32m      7\u001b[0m   \u001b[0msequence\u001b[0m \u001b[0;34m=\u001b[0m \u001b[0mone_hot_encode\u001b[0m\u001b[0;34m(\u001b[0m\u001b[0mseq_in\u001b[0m\u001b[0;34m,\u001b[0m\u001b[0mn_features\u001b[0m\u001b[0;34m)\u001b[0m\u001b[0;34m\u001b[0m\u001b[0;34m\u001b[0m\u001b[0m\n\u001b[0;32m----> 8\u001b[0;31m   \u001b[0mencoder_inputs\u001b[0m\u001b[0;34m=\u001b[0m\u001b[0marray\u001b[0m\u001b[0;34m(\u001b[0m\u001b[0msequence\u001b[0m\u001b[0;34m)\u001b[0m\u001b[0;34m.\u001b[0m\u001b[0mreshape\u001b[0m\u001b[0;34m(\u001b[0m\u001b[0;36m1\u001b[0m\u001b[0;34m,\u001b[0m\u001b[0mn_timesteps_in\u001b[0m\u001b[0;34m,\u001b[0m\u001b[0mn_features\u001b[0m\u001b[0;34m)\u001b[0m\u001b[0;34m\u001b[0m\u001b[0;34m\u001b[0m\u001b[0m\n\u001b[0m\u001b[1;32m      9\u001b[0m \u001b[0;34m\u001b[0m\u001b[0m\n\u001b[1;32m     10\u001b[0m   \u001b[0mencoder_inputs\u001b[0m \u001b[0;34m=\u001b[0m \u001b[0mtf\u001b[0m\u001b[0;34m.\u001b[0m\u001b[0mconvert_to_tensor\u001b[0m\u001b[0;34m(\u001b[0m\u001b[0mencoder_inputs\u001b[0m\u001b[0;34m,\u001b[0m\u001b[0mdtype\u001b[0m\u001b[0;34m=\u001b[0m\u001b[0mtf\u001b[0m\u001b[0;34m.\u001b[0m\u001b[0mfloat32\u001b[0m\u001b[0;34m)\u001b[0m\u001b[0;34m\u001b[0m\u001b[0;34m\u001b[0m\u001b[0m\n",
            "\u001b[0;31mNameError\u001b[0m: name 'array' is not defined"
          ]
        }
      ]
    },
    {
      "cell_type": "code",
      "metadata": {
        "id": "mD1hYuduSP1W"
      },
      "source": [
        "class BahdanauAttention(tf.keras.layers.Layer):\n",
        "    \n",
        "    def __init__(self, units):\n",
        "        super(BahdanauAttention, self).__init__()\n",
        "\n",
        "        ##################\n",
        "        # YOUR CODE HERE #\n",
        "        ##################\n",
        "\n",
        "\n",
        "    def call(self, query, values):\n",
        "        query_with_time_axis = tf.expand_dims(query, 1)\n",
        "        values_transposed = tf.transpose(values, perm=[0, 2, 1])\n",
        "\n",
        "        # LUONGH Dot-product\n",
        "        score = tf.transpose(tf.matmul(query_with_time_axis, \n",
        "                                       values_transposed), perm=[0, 2, 1])\n",
        "\n",
        "        # attention_weights shape == (batch_size, max_length, 1)\n",
        "        attention_weights = tf.nn.softmax(score, axis=1)\n",
        "        \n",
        "        \n",
        "\n",
        "        ##################\n",
        "        # YOUR CODE HERE #\n",
        "        ##################\n",
        "\n",
        "\n",
        "        return context_vector, attention_weights\n",
        "\n",
        "\n",
        "\n",
        "# LuongSimpleAttention:\n",
        "        query_with_time_axis = tf.expand_dims(query, 1)\n",
        "        values_transposed = tf.transpose(values, perm=[0, 2, 1])\n",
        "\n",
        "        # LUONGH Dot-product\n",
        "        score = tf.transpose(tf.matmul(query_with_time_axis, \n",
        "                                       values_transposed), perm=[0, 2, 1])\n",
        "\n",
        "        # attention_weights shape == (batch_size, max_length, 1)\n",
        "        attention_weights = tf.nn.softmax(score, axis=1)\n",
        "        \n",
        "        # context_vector shape after sum == (batch_size, hidden_size)\n",
        "        context_vector = attention_weights * values\n",
        "        context_vector = tf.reduce_sum(context_vector, axis=1)\n",
        "\n",
        "        return context_vector, attention_weights"
      ],
      "execution_count": null,
      "outputs": []
    },
    {
      "cell_type": "code",
      "metadata": {
        "id": "zHRDRW5rS2uQ"
      },
      "source": [
        "class LuongGeneralAttention(tf.keras.layers.Layer):\n",
        "    def __init__(self, units):\n",
        "        super(LuongGeneralAttention, self).__init__()\n",
        "        \n",
        "        ##################\n",
        "        # YOUR CODE HERE #\n",
        "        ##################\n",
        "        \n",
        "\n",
        "    def call(self, query, values):\n",
        "        query_with_time_axis = tf.expand_dims(query, 1)\n",
        "        values_transposed = tf.transpose(values, perm=[0, 2, 1])\n",
        "\n",
        "        ##################\n",
        "        # YOUR CODE HERE #\n",
        "        ##################\n",
        "\n",
        "        return context_vector, attention_weights"
      ],
      "execution_count": null,
      "outputs": []
    },
    {
      "cell_type": "markdown",
      "metadata": {
        "id": "cUW9fn5w3tPU"
      },
      "source": [
        "# Report\n",
        "\n",
        "+ Bahdanau Attention and Luong General Attention implementation.\n",
        "+ Comparative.\n",
        "+ Weight visualization. \n",
        "+ Blog site.\n",
        "\n"
      ]
    }
  ]
}
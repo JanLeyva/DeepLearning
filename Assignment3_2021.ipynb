{
  "nbformat": 4,
  "nbformat_minor": 0,
  "metadata": {
    "colab": {
      "name": "Assignment3_2021.ipynb",
      "provenance": [],
      "collapsed_sections": [],
      "include_colab_link": true
    },
    "kernelspec": {
      "name": "python3",
      "display_name": "Python 3"
    },
    "language_info": {
      "name": "python"
    },
    "accelerator": "GPU"
  },
  "cells": [
    {
      "cell_type": "markdown",
      "metadata": {
        "id": "view-in-github",
        "colab_type": "text"
      },
      "source": [
        "<a href=\"https://colab.research.google.com/github/JanLeyva/DeepLearning/blob/main/Assignment3_2021.ipynb\" target=\"_parent\"><img src=\"https://colab.research.google.com/assets/colab-badge.svg\" alt=\"Open In Colab\"/></a>"
      ]
    },
    {
      "cell_type": "markdown",
      "metadata": {
        "id": "Mr06uR9YTUvq"
      },
      "source": [
        "# Assignment 3: Attention\n",
        "\n",
        "The objectives of this assignment are:\n",
        "\n",
        "+ To implement Bahdanau Attention and Luong General Attention classes.\n",
        "+ To do a comparative (# of steps to converge, test error) of the three methods we have seen. Use these values for the comparative (the training datset size and `rnn_units` and `batch_size` values are up to you): \n",
        "    + `n_timesteps_in = 100`\n",
        "    + `n_features = 20`.   \n",
        "+ To implement a function to visualize the attention weights for one example. You can visualize them as in this figure (that corresponds to a machine translation task):\n",
        "\n",
        "<div>\n",
        "<center>\n",
        "<img src=\"https://jalammar.github.io/images/attention_sentence.png\" width=\"200\">\n",
        "</center>\n",
        "</div>\n",
        "\n",
        "+ To write a blog entry explaining in your words how does attention work. You can do it in your favourite blog site. If you do not have a favourite blog site, you can start one here: https://hackmd.io/\n",
        "\n",
        "You have to report all your work at the end of this notebook.\n",
        "\n"
      ]
    },
    {
      "cell_type": "markdown",
      "metadata": {
        "id": "LCzOe5TW3pT9"
      },
      "source": [
        "# Code"
      ]
    },
    {
      "cell_type": "code",
      "metadata": {
        "id": "NMIL6Mz-SaB_"
      },
      "source": [
        "#@title Some utils\n",
        "from random import randint\n",
        "from matplotlib import pyplot as plt\n",
        "from tensorflow.keras.callbacks import EarlyStopping\n",
        "\n",
        "import numpy as np\n",
        "\n",
        "def generate_sequence(length, n_unique):\n",
        "    \"\"\"\n",
        "    Generate a sequence of random integers.\n",
        "    \n",
        "    :length: Total length of the generated sequence\n",
        "    :n_unique: Maximum number allowed\n",
        "    \"\"\"\n",
        "    return [randint(1, n_unique-1) for _ in range(length)]\n",
        "\n",
        "def one_hot_encode(sequence, n_unique):\n",
        "    \"\"\"\n",
        "    Transform a sequence of integers into a one-hot-encoding vector\n",
        "    \n",
        "    :sequence: The sequence we want to transform\n",
        "    :n_unique: Maximum number allowed (length of the one-hot-encoded vector)\n",
        "    \"\"\"\n",
        "    encoding = list()\n",
        "    for value in sequence:\n",
        "        vector = [0 for _ in range(n_unique)]\n",
        "        vector[value] = 1\n",
        "        encoding.append(vector)\n",
        "    return np.array(encoding)\n",
        "\n",
        "def one_hot_decode(encoded_seq):\n",
        "    \"\"\"\n",
        "    Transorm a one-hot-encoded vector into a list of integers\n",
        "    \n",
        "    :encoded_seq: One hot encoded sequence to be transformed\n",
        "    \"\"\"\n",
        "    return [np.argmax(vector) for vector in encoded_seq]\n",
        "\n",
        "\n",
        "def get_reversed_pairs(time_steps,vocabulary_size):\n",
        "    \"\"\"\n",
        "    Generate a pair X, y where y is the 'reversed' version of X.\n",
        "    \n",
        "    :time_steps: Sequence length\n",
        "    :vocabulary_size: Maximum number allowed\n",
        "    \"\"\"\n",
        "    # generate random sequence and reverse it\n",
        "    sequence_in = generate_sequence(time_steps, vocabulary_size)\n",
        "    sequence_out = sequence_in[::-1]\n",
        "\n",
        "    # one hot encode both sequences\n",
        "    X = one_hot_encode(sequence_in, vocabulary_size)\n",
        "    y = one_hot_encode(sequence_out, vocabulary_size)\n",
        "    \n",
        "    # reshape as 3D so it can be inputed to the LSTM\n",
        "    X = X.reshape((1, X.shape[0], X.shape[1]))\n",
        "    y = y.reshape((1, y.shape[0], y.shape[1]))\n",
        "    return X,y\n",
        "\n",
        "\n",
        "def create_dataset(train_size, test_size, time_steps,vocabulary_size):\n",
        "    \"\"\"\n",
        "    Generates a datset of reversed pairs X, y.\n",
        "    \n",
        "    :train_size: Number of train pairs\n",
        "    :test_size: Number of test pairs\n",
        "    :time_steps: Sequence length\n",
        "    :vocabulary_size: Maximum number allowed\n",
        "    \"\"\"\n",
        "    \n",
        "    # Generate reversed pairs for training\n",
        "    pairs = [get_reversed_pairs(time_steps,vocabulary_size) for _ in range(train_size)]\n",
        "    pairs= np.array(pairs).squeeze()\n",
        "    X_train = pairs[:,0]\n",
        "    y_train = pairs[:,1]\n",
        "    \n",
        "    # Generate reversed pairs for test\n",
        "    pairs = [get_reversed_pairs(time_steps,vocabulary_size) for _ in range(test_size)]\n",
        "    pairs= np.array(pairs).squeeze()\n",
        "    X_test = pairs[:,0]\n",
        "    y_test = pairs[:,1]\t\n",
        "\n",
        "    return X_train, y_train, X_test, y_test\n",
        "\n",
        "\n",
        "def train_test(model, X_train, y_train , X_test, y_test, epochs=500, batch_size=32, patience=5):\n",
        "    \"\"\"\n",
        "    It trains a model and evaluates the result on the test dataset\n",
        "    \n",
        "    :model: Model to be fit\n",
        "    :X_train, y_train: Train samples and labels \n",
        "    :X_test y_test: Test samples and labels \n",
        "    :epochs: Maximum number of iterations that the model will perform\n",
        "    :batch_size: Samples per batch\n",
        "    :patience: Number of rounds without improvement that the model can perform. If there is no improvement on the loss, it will stop the trainning process.\n",
        "    \"\"\"\n",
        "    \n",
        "    # Train the model\n",
        "    history=model.fit(X_train, y_train, \n",
        "                      validation_split= 0.1, \n",
        "                      epochs=epochs,\n",
        "                      batch_size=batch_size, \n",
        "                      callbacks=[EarlyStopping(monitor='val_loss', patience=patience, restore_best_weights=True)])\n",
        "    \n",
        "    _, train_acc = model.evaluate(X_train, y_train, batch_size=batch_size)\n",
        "    _, test_acc = model.evaluate(X_test, y_test, batch_size=batch_size)\n",
        "    \n",
        "    print('\\nPREDICTION ACCURACY (%):')\n",
        "    print('Train: %.3f, Test: %.3f' % (train_acc*100, test_acc*100))\n",
        "    \n",
        "    fig, axs = plt.subplots(1,2, figsize=(12,5))\n",
        "    # summarize history for loss\n",
        "    axs[0].plot(history.history['loss'])\n",
        "    axs[0].plot(history.history['val_loss'])\n",
        "    axs[0].set_title(model.name+' loss')\n",
        "    axs[0].set_ylabel('loss')\n",
        "    axs[0].set_xlabel('epoch')\n",
        "    axs[0].legend(['train', 'val'], loc='upper left')\n",
        "    \n",
        "    # summarize history for accuracy\n",
        "    axs[1].plot(history.history['accuracy'])\n",
        "    axs[1].plot(history.history['val_accuracy'])\n",
        "    axs[1].set_title(model.name+' accuracy')\n",
        "    axs[1].set_ylabel('accuracy')\n",
        "    axs[1].set_xlabel('epoch')\n",
        "    axs[1].legend(['train', 'val'], loc='upper left')\n",
        "    plt.show()\n",
        "    \n",
        "    \n",
        "def predict(model, n_timesteps_in,n_features, x, y_real=None, ):\n",
        "    pred=model.predict(x.reshape(1,n_timesteps_in,n_features), batch_size=1)\n",
        "    print('input', one_hot_decode(x))    \n",
        "    print('predicted', one_hot_decode(pred[0]))\n",
        "    if y_real is not None:\n",
        "        print('expected', one_hot_decode(y_real))"
      ],
      "execution_count": 1,
      "outputs": []
    },
    {
      "cell_type": "code",
      "metadata": {
        "id": "9nOz2xOeRfWv"
      },
      "source": [
        "import tensorflow as tf\n",
        "import numpy as np\n",
        "\n",
        "from tensorflow.keras.layers import Input, Dense, LSTM, Lambda\n",
        "from tensorflow.keras.models import Model\n",
        "from tensorflow.keras import backend as K\n",
        "\n",
        "tf.keras.backend.set_floatx('float64')\n",
        "\n",
        "#attention model\n",
        "def build_attention_model(attention, batch_size, rnn_units):\n",
        "    \n",
        "    # ENCODER STEP\n",
        "    # ------------\n",
        "    # Same encoder as before with one and only difference. Now we need all the lstm states so we\n",
        "    # set return_sequences=True and return_state=True.\n",
        "    encoder_inputs = Input(shape=(n_timesteps_in, n_features), name='encoder_inputs')\n",
        "    encoder_lstm = LSTM(rnn_units, return_sequences=True, return_state=True, name='encoder_lstm')\n",
        "    encoder_outputs, encoder_state_h, encoder_state_c = encoder_lstm(encoder_inputs)\n",
        "    \n",
        "    states = [encoder_state_h, encoder_state_c]\n",
        "    \n",
        "    # DECODER STEP\n",
        "    # ------------\n",
        "    # Set up the decoder layers\n",
        "    # input shape: (1, n_features + rnn_units)\n",
        "    decoder_lstm = LSTM(rnn_units, return_state=True, name='decoder_lstm')\n",
        "    decoder_dense = Dense(n_features, activation='softmax', name='decoder_dense')\n",
        "    \n",
        "    # As before, we use as first input the 0-sequence\n",
        "    all_outputs = []\n",
        "    inputs = np.zeros((batch_size, 1, n_features))\n",
        "    \n",
        "    # Decoder_outputs is the last hidden state of the encoder. Encoder_outputs are all the states\n",
        "    decoder_outputs = encoder_state_h\n",
        "    \n",
        "    # Decoder will only process one time step at a time.\n",
        "    for _ in range(n_timesteps_in):\n",
        "\n",
        "        # Pay attention!\n",
        "        # decoder_outputs (last hidden state) + encoder_outputs (all hidden states)\n",
        "        context_vector, attention_weights = attention(decoder_outputs, encoder_outputs)\n",
        "        context_vector = tf.expand_dims(context_vector, 1)\n",
        "\n",
        "        # create the context vector by applying attention to \n",
        "        # Concatenate the input + context vectore to find the next decoder's input\n",
        "        inputs = tf.concat([context_vector, inputs], axis=-1)\n",
        "\n",
        "        # Passing the concatenated vector to the LSTM\n",
        "        # Run the decoder on one timestep with attended input and previous states\n",
        "        decoder_outputs, state_h, state_c = decoder_lstm(inputs, initial_state=states)        \n",
        "        outputs = decoder_dense(decoder_outputs)\n",
        "        \n",
        "        # Use the last hidden state for prediction the output\n",
        "        # save the current prediction\n",
        "        # we will concatenate all predictions later\n",
        "        outputs = tf.expand_dims(outputs, 1)\n",
        "        all_outputs.append(outputs)\n",
        "        \n",
        "        # Reinject the output (prediction) as inputs for the next loop iteration\n",
        "        # as well as update the states\n",
        "        inputs = outputs\n",
        "        states = [state_h, state_c]\n",
        "        \n",
        "    decoder_outputs = Lambda(lambda x: K.concatenate(x, axis=1))(all_outputs)\n",
        "    model = Model(encoder_inputs, decoder_outputs, name='model_encoder_decoder')\n",
        "    model.compile(optimizer='adam', loss='categorical_crossentropy', metrics=['accuracy'])\n",
        "    \n",
        "    return model\n",
        "\n",
        "\n",
        "class LuongDotAttention(tf.keras.layers.Layer):\n",
        "    def __init__(self):\n",
        "        super(LuongDotAttention, self).__init__()\n",
        "\n",
        "    def call(self, query, values):\n",
        "        query_with_time_axis = tf.expand_dims(query, 1)\n",
        "        values_transposed = tf.transpose(values, perm=[0, 2, 1])\n",
        "\n",
        "        # LUONGH Dot-product\n",
        "        score = tf.transpose(tf.matmul(query_with_time_axis, \n",
        "                                       values_transposed), perm=[0, 2, 1])\n",
        "\n",
        "        # attention_weights shape == (batch_size, max_length, 1)\n",
        "        attention_weights = tf.nn.softmax(score, axis=1)\n",
        "        \n",
        "        # context_vector shape after sum == (batch_size, hidden_size)\n",
        "        context_vector = attention_weights * values\n",
        "        context_vector = tf.reduce_sum(context_vector, axis=1)\n",
        "\n",
        "        return context_vector, attention_weights\n",
        "\n"
      ],
      "execution_count": 2,
      "outputs": []
    },
    {
      "cell_type": "code",
      "metadata": {
        "id": "lutvtkrYTR7r"
      },
      "source": [
        "# dataset \n",
        "n_timesteps_in = 100  # Sequence length\n",
        "n_features = 20     # Maximum number allowed-1 (length of the one-hot-encoded vector)\n",
        "train_size = 2000 \n",
        "test_size = 200\n",
        "X_train, y_train, X_test, y_test = create_dataset(train_size, test_size, n_timesteps_in,n_features )\n",
        "\n",
        "# training parameters\n",
        "batch_size = 100\n",
        "\n",
        "# model parameters\n",
        "rnn_units = 100\n",
        "\n",
        "# attention model\n",
        "attention = LuongDotAttention()\n",
        "model_attention = build_attention_model(attention, batch_size, rnn_units)"
      ],
      "execution_count": 3,
      "outputs": []
    },
    {
      "cell_type": "code",
      "metadata": {
        "colab": {
          "base_uri": "https://localhost:8080/",
          "height": 1000
        },
        "id": "AggCVRldXsW7",
        "outputId": "1f96b48d-3553-40cb-e2a9-dfdb7a335e53"
      },
      "source": [
        "#training\n",
        "train_test(model_attention, X_train, y_train , X_test,\n",
        "           y_test, batch_size=batch_size, epochs=50, patience=3)"
      ],
      "execution_count": 13,
      "outputs": [
        {
          "output_type": "stream",
          "name": "stdout",
          "text": [
            "Epoch 1/50\n",
            "18/18 [==============================] - 211s 3s/step - loss: 2.9637 - accuracy: 0.0530 - val_loss: 2.9469 - val_accuracy: 0.0545\n",
            "Epoch 2/50\n",
            "18/18 [==============================] - 12s 686ms/step - loss: 2.9451 - accuracy: 0.0580 - val_loss: 2.9440 - val_accuracy: 0.0544\n",
            "Epoch 3/50\n",
            "18/18 [==============================] - 12s 675ms/step - loss: 2.9408 - accuracy: 0.0625 - val_loss: 2.9367 - val_accuracy: 0.0660\n",
            "Epoch 4/50\n",
            "18/18 [==============================] - 12s 675ms/step - loss: 2.9315 - accuracy: 0.0718 - val_loss: 2.9264 - val_accuracy: 0.0741\n",
            "Epoch 5/50\n",
            "18/18 [==============================] - 12s 688ms/step - loss: 2.9213 - accuracy: 0.0776 - val_loss: 2.9190 - val_accuracy: 0.0796\n",
            "Epoch 6/50\n",
            "18/18 [==============================] - 12s 676ms/step - loss: 2.9127 - accuracy: 0.0822 - val_loss: 2.9104 - val_accuracy: 0.0830\n",
            "Epoch 7/50\n",
            "18/18 [==============================] - 12s 676ms/step - loss: 2.9048 - accuracy: 0.0866 - val_loss: 2.9042 - val_accuracy: 0.0866\n",
            "Epoch 8/50\n",
            "18/18 [==============================] - 12s 676ms/step - loss: 2.8987 - accuracy: 0.0885 - val_loss: 2.8998 - val_accuracy: 0.0868\n",
            "Epoch 9/50\n",
            "18/18 [==============================] - 12s 677ms/step - loss: 2.8924 - accuracy: 0.0919 - val_loss: 2.8913 - val_accuracy: 0.0915\n",
            "Epoch 10/50\n",
            "18/18 [==============================] - 12s 688ms/step - loss: 2.8795 - accuracy: 0.0963 - val_loss: 2.8811 - val_accuracy: 0.0964\n",
            "Epoch 11/50\n",
            "18/18 [==============================] - 12s 676ms/step - loss: 2.8641 - accuracy: 0.1035 - val_loss: 2.8523 - val_accuracy: 0.1096\n",
            "Epoch 12/50\n",
            "18/18 [==============================] - 12s 689ms/step - loss: 2.8303 - accuracy: 0.1160 - val_loss: 2.8031 - val_accuracy: 0.1244\n",
            "Epoch 13/50\n",
            "18/18 [==============================] - 12s 687ms/step - loss: 2.7819 - accuracy: 0.1326 - val_loss: 2.7563 - val_accuracy: 0.1414\n",
            "Epoch 14/50\n",
            "18/18 [==============================] - 12s 688ms/step - loss: 2.7242 - accuracy: 0.1495 - val_loss: 2.6937 - val_accuracy: 0.1553\n",
            "Epoch 15/50\n",
            "18/18 [==============================] - 12s 675ms/step - loss: 2.6583 - accuracy: 0.1675 - val_loss: 2.6526 - val_accuracy: 0.1651\n",
            "Epoch 16/50\n",
            "18/18 [==============================] - 12s 688ms/step - loss: 2.6145 - accuracy: 0.1773 - val_loss: 2.5956 - val_accuracy: 0.1784\n",
            "Epoch 17/50\n",
            "18/18 [==============================] - 12s 676ms/step - loss: 2.5410 - accuracy: 0.1941 - val_loss: 2.4964 - val_accuracy: 0.2031\n",
            "Epoch 18/50\n",
            "18/18 [==============================] - 12s 676ms/step - loss: 2.5047 - accuracy: 0.2015 - val_loss: 2.4566 - val_accuracy: 0.2106\n",
            "Epoch 19/50\n",
            "18/18 [==============================] - 12s 692ms/step - loss: 2.4233 - accuracy: 0.2209 - val_loss: 2.4367 - val_accuracy: 0.2117\n",
            "Epoch 20/50\n",
            "18/18 [==============================] - 12s 678ms/step - loss: 2.3946 - accuracy: 0.2242 - val_loss: 2.4060 - val_accuracy: 0.2208\n",
            "Epoch 21/50\n",
            "18/18 [==============================] - 12s 691ms/step - loss: 2.4672 - accuracy: 0.2083 - val_loss: 2.3845 - val_accuracy: 0.2301\n",
            "Epoch 22/50\n",
            "18/18 [==============================] - 12s 676ms/step - loss: 2.3281 - accuracy: 0.2392 - val_loss: 2.2613 - val_accuracy: 0.2503\n",
            "Epoch 23/50\n",
            "18/18 [==============================] - 12s 677ms/step - loss: 2.2602 - accuracy: 0.2526 - val_loss: 2.2642 - val_accuracy: 0.2485\n",
            "Epoch 24/50\n",
            "18/18 [==============================] - 12s 686ms/step - loss: 2.2099 - accuracy: 0.2620 - val_loss: 2.1634 - val_accuracy: 0.2715\n",
            "Epoch 25/50\n",
            "18/18 [==============================] - 12s 674ms/step - loss: 2.1581 - accuracy: 0.2722 - val_loss: 2.2992 - val_accuracy: 0.2400\n",
            "Epoch 26/50\n",
            "18/18 [==============================] - 12s 674ms/step - loss: 2.3601 - accuracy: 0.2266 - val_loss: 2.2835 - val_accuracy: 0.2445\n",
            "Epoch 27/50\n",
            "18/18 [==============================] - 12s 685ms/step - loss: 2.1878 - accuracy: 0.2639 - val_loss: 2.0947 - val_accuracy: 0.2798\n",
            "Epoch 28/50\n",
            "18/18 [==============================] - 12s 673ms/step - loss: 2.0753 - accuracy: 0.2860 - val_loss: 2.0736 - val_accuracy: 0.2804\n",
            "Epoch 29/50\n",
            "18/18 [==============================] - 12s 686ms/step - loss: 2.0172 - accuracy: 0.2979 - val_loss: 2.0122 - val_accuracy: 0.2927\n",
            "Epoch 30/50\n",
            "18/18 [==============================] - 12s 675ms/step - loss: 1.9849 - accuracy: 0.3033 - val_loss: 1.9439 - val_accuracy: 0.3097\n",
            "Epoch 31/50\n",
            "18/18 [==============================] - 12s 673ms/step - loss: 1.9327 - accuracy: 0.3149 - val_loss: 2.0567 - val_accuracy: 0.2783\n",
            "Epoch 32/50\n",
            "18/18 [==============================] - 12s 673ms/step - loss: 1.9358 - accuracy: 0.3109 - val_loss: 1.9080 - val_accuracy: 0.3167\n",
            "Epoch 33/50\n",
            "18/18 [==============================] - 12s 673ms/step - loss: 1.9068 - accuracy: 0.3174 - val_loss: 1.8310 - val_accuracy: 0.3373\n",
            "Epoch 34/50\n",
            "18/18 [==============================] - 12s 674ms/step - loss: 1.7926 - accuracy: 0.3463 - val_loss: 1.7480 - val_accuracy: 0.3572\n",
            "Epoch 35/50\n",
            "18/18 [==============================] - 12s 673ms/step - loss: 1.8167 - accuracy: 0.3349 - val_loss: 1.7504 - val_accuracy: 0.3508\n",
            "Epoch 36/50\n",
            "18/18 [==============================] - 12s 673ms/step - loss: 2.9757 - accuracy: 0.1421 - val_loss: 2.9380 - val_accuracy: 0.1138\n",
            "Epoch 37/50\n",
            "18/18 [==============================] - 12s 673ms/step - loss: 2.7522 - accuracy: 0.1471 - val_loss: 2.6145 - val_accuracy: 0.1865\n",
            "20/20 [==============================] - 4s 205ms/step - loss: 1.7357 - accuracy: 0.3611\n",
            "2/2 [==============================] - 0s 206ms/step - loss: 1.7442 - accuracy: 0.3608\n",
            "\n",
            "PREDICTION ACCURACY (%):\n",
            "Train: 36.108, Test: 36.080\n"
          ]
        },
        {
          "output_type": "display_data",
          "data": {
            "image/png": "[encoded data removed]",
            "text/plain": [
              "<Figure size 864x360 with 2 Axes>"
            ]
          },
          "metadata": {
            "needs_background": "light"
          }
        }
      ]
    },
    {
      "cell_type": "markdown",
      "source": [
        "# Bahdanau Attention"
      ],
      "metadata": {
        "id": "yRia99WFsiRz"
      }
    },
    {
      "cell_type": "code",
      "source": [
        "class BahdanauAttention(tf.keras.layers.Layer):\n",
        "  def __init__(self, units, verbose=0):\n",
        "    super(BahdanauAttention, self).__init__()\n",
        "    self.W1 = tf.keras.layers.Dense(units)\n",
        "    self.W2 = tf.keras.layers.Dense(units)\n",
        "    self.V = tf.keras.layers.Dense(1)\n",
        "    self.verbose= verbose\n",
        "\n",
        "  def call(self, query, values):\n",
        "    if self.verbose:\n",
        "      print('\\n******* Bahdanau Attention STARTS******')\n",
        "      print('query (decoder hidden state): (batch_size, hidden size) ', query.shape)\n",
        "      print('values (encoder all hidden state): (batch_size, max_len, hidden size) ', values.shape)\n",
        "\n",
        "    # query hidden state shape == (batch_size, hidden size)\n",
        "    # query_with_time_axis shape == (batch_size, 1, hidden size)\n",
        "    # values shape == (batch_size, max_len, hidden size)\n",
        "    # we are doing this to broadcast addition along the time axis to calculate the score\n",
        "    query_with_time_axis = tf.expand_dims(query, 1)\n",
        "    \n",
        "    if self.verbose:\n",
        "      print('query_with_time_axis:(batch_size, 1, hidden size) ', query_with_time_axis.shape)\n",
        "\n",
        "    # score shape == (batch_size, max_length, 1)\n",
        "    # we get 1 at the last axis because we are applying score to self.V\n",
        "    # the shape of the tensor before applying self.V is (batch_size, max_length, units)\n",
        "    score = self.V(tf.nn.tanh(\n",
        "        self.W1(query_with_time_axis) + self.W2(values)))\n",
        "    if self.verbose:\n",
        "      print('score: (batch_size, max_length, 1) ',score.shape)\n",
        "    # attention_weights shape == (batch_size, max_length, 1)\n",
        "    attention_weights = tf.nn.softmax(score, axis=1)\n",
        "    if self.verbose:\n",
        "      print('attention_weights: (batch_size, max_length, 1) ',attention_weights.shape)\n",
        "    # context_vector shape after sum == (batch_size, hidden_size)\n",
        "    context_vector = attention_weights * values\n",
        "    if self.verbose:\n",
        "      print('context_vector before reduce_sum: (batch_size, max_length, hidden_size) ',context_vector.shape)\n",
        "    context_vector = tf.reduce_sum(context_vector, axis=1)\n",
        "    if self.verbose:\n",
        "      print('context_vector after reduce_sum: (batch_size, hidden_size) ',context_vector.shape)\n",
        "      print('\\n******* Bahdanau Attention ENDS******')\n",
        "    return context_vector, attention_weights"
      ],
      "metadata": {
        "id": "ot6Ibbvq3zlw"
      },
      "execution_count": null,
      "outputs": []
    },
    {
      "cell_type": "code",
      "source": [
        "class BahdanauAttention(tf.keras.layers.Layer):\n",
        "  def __init__(self, units, verbose=0):\n",
        "    super(BahdanauAttention, self).__init__()\n",
        "    self.W1 = tf.keras.layers.Dense(units)\n",
        "    self.W2 = tf.keras.layers.Dense(units)\n",
        "    self.V = tf.keras.layers.Dense(1)\n",
        "    self.verbose= verbose\n",
        "\n",
        "  def call(self, query, values):\n",
        "    # query hidden state shape == (batch_size, hidden size)\n",
        "    # query_with_time_axis shape == (batch_size, 1, hidden size)\n",
        "    # values shape == (batch_size, max_len, hidden size)\n",
        "    # we are doing this to broadcast addition along the time axis to calculate the score\n",
        "    query_with_time_axis = tf.expand_dims(query, 1)\n",
        "\n",
        "    # score shape == (batch_size, max_length, 1)\n",
        "    # we get 1 at the last axis because we are applying score to self.V\n",
        "    # the shape of the tensor before applying self.V is (batch_size, max_length, units)\n",
        "    score = self.V(tf.nn.tanh(self.W1(query_with_time_axis) + self.W2(values)))\n",
        "\n",
        "    # attention_weights shape == (batch_size, max_length, 1)\n",
        "    attention_weights = tf.nn.softmax(score, axis=1)\n",
        "\n",
        "    # context_vector shape after sum == (batch_size, hidden_size)\n",
        "    context_vector = attention_weights * values\n",
        "\n",
        "    context_vector = tf.reduce_sum(context_vector, axis=1)\n",
        "\n",
        "    return context_vector, attention_weights"
      ],
      "metadata": {
        "id": "rsIOQvmtsqCh"
      },
      "execution_count": 5,
      "outputs": []
    },
    {
      "cell_type": "markdown",
      "source": [
        "\n",
        "\n",
        "# Run Attention Bahdanau\n",
        "\n"
      ],
      "metadata": {
        "id": "323IrjbPghNN"
      }
    },
    {
      "cell_type": "code",
      "source": [
        "# attention model\n",
        "attentionBahdanau = BahdanauAttention(100, verbose = 0)\n",
        "model_attentionBahdanau = build_attention_model(attentionBahdanau, batch_size, rnn_units)\n",
        "\n",
        "\n",
        "#training\n",
        "train_test(model_attentionBahdanau, X_train, y_train , X_test,\n",
        "           y_test, batch_size=batch_size, epochs=50, patience=3)"
      ],
      "metadata": {
        "id": "u2HwY7alghaE",
        "outputId": "131e0666-d668-4aee-9db9-5e6ea16d7245",
        "colab": {
          "base_uri": "https://localhost:8080/",
          "height": 1000
        }
      },
      "execution_count": 8,
      "outputs": [
        {
          "output_type": "stream",
          "name": "stdout",
          "text": [
            "Epoch 1/50\n",
            "18/18 [==============================] - 233s 4s/step - loss: 2.9647 - accuracy: 0.0528 - val_loss: 2.9473 - val_accuracy: 0.0541\n",
            "Epoch 2/50\n",
            "18/18 [==============================] - 19s 1s/step - loss: 2.9449 - accuracy: 0.0566 - val_loss: 2.9438 - val_accuracy: 0.0671\n",
            "Epoch 3/50\n",
            "18/18 [==============================] - 19s 1s/step - loss: 2.9414 - accuracy: 0.0617 - val_loss: 2.9422 - val_accuracy: 0.0613\n",
            "Epoch 4/50\n",
            "18/18 [==============================] - 20s 1s/step - loss: 2.9358 - accuracy: 0.0681 - val_loss: 2.9330 - val_accuracy: 0.0717\n",
            "Epoch 5/50\n",
            "18/18 [==============================] - 19s 1s/step - loss: 2.9268 - accuracy: 0.0759 - val_loss: 2.9249 - val_accuracy: 0.0760\n",
            "Epoch 6/50\n",
            "18/18 [==============================] - 19s 1s/step - loss: 2.9165 - accuracy: 0.0817 - val_loss: 2.9146 - val_accuracy: 0.0846\n",
            "Epoch 7/50\n",
            "18/18 [==============================] - 19s 1s/step - loss: 2.9095 - accuracy: 0.0854 - val_loss: 2.9087 - val_accuracy: 0.0849\n",
            "Epoch 8/50\n",
            "18/18 [==============================] - 19s 1s/step - loss: 2.9028 - accuracy: 0.0886 - val_loss: 2.9035 - val_accuracy: 0.0881\n",
            "Epoch 9/50\n",
            "18/18 [==============================] - 19s 1s/step - loss: 2.8968 - accuracy: 0.0908 - val_loss: 2.8987 - val_accuracy: 0.0903\n",
            "Epoch 10/50\n",
            "18/18 [==============================] - 19s 1s/step - loss: 2.8905 - accuracy: 0.0930 - val_loss: 2.8931 - val_accuracy: 0.0914\n",
            "Epoch 11/50\n",
            "18/18 [==============================] - 19s 1s/step - loss: 2.8841 - accuracy: 0.0955 - val_loss: 2.8870 - val_accuracy: 0.0950\n",
            "Epoch 12/50\n",
            "18/18 [==============================] - 19s 1s/step - loss: 2.8778 - accuracy: 0.0980 - val_loss: 2.8764 - val_accuracy: 0.1001\n",
            "Epoch 13/50\n",
            "18/18 [==============================] - 20s 1s/step - loss: 2.8669 - accuracy: 0.1019 - val_loss: 2.8639 - val_accuracy: 0.1006\n",
            "Epoch 14/50\n",
            "18/18 [==============================] - 19s 1s/step - loss: 2.8543 - accuracy: 0.1061 - val_loss: 2.8494 - val_accuracy: 0.1085\n",
            "Epoch 15/50\n",
            "18/18 [==============================] - 20s 1s/step - loss: 2.8304 - accuracy: 0.1152 - val_loss: 2.8323 - val_accuracy: 0.1120\n",
            "Epoch 16/50\n",
            "18/18 [==============================] - 19s 1s/step - loss: 2.7977 - accuracy: 0.1262 - val_loss: 2.7738 - val_accuracy: 0.1322\n",
            "Epoch 17/50\n",
            "18/18 [==============================] - 19s 1s/step - loss: 2.7423 - accuracy: 0.1426 - val_loss: 2.7066 - val_accuracy: 0.1532\n",
            "Epoch 18/50\n",
            "18/18 [==============================] - 19s 1s/step - loss: 2.6665 - accuracy: 0.1640 - val_loss: 2.6579 - val_accuracy: 0.1618\n",
            "Epoch 19/50\n",
            "18/18 [==============================] - 19s 1s/step - loss: 2.6356 - accuracy: 0.1710 - val_loss: 2.5855 - val_accuracy: 0.1847\n",
            "Epoch 20/50\n",
            "18/18 [==============================] - 19s 1s/step - loss: 2.5565 - accuracy: 0.1890 - val_loss: 2.4990 - val_accuracy: 0.2046\n",
            "Epoch 21/50\n",
            "18/18 [==============================] - 20s 1s/step - loss: 2.4679 - accuracy: 0.2088 - val_loss: 2.4375 - val_accuracy: 0.2123\n",
            "Epoch 22/50\n",
            "18/18 [==============================] - 19s 1s/step - loss: 2.4170 - accuracy: 0.2188 - val_loss: 2.3978 - val_accuracy: 0.2234\n",
            "Epoch 23/50\n",
            "18/18 [==============================] - 19s 1s/step - loss: 2.3449 - accuracy: 0.2347 - val_loss: 2.4676 - val_accuracy: 0.2052\n",
            "Epoch 24/50\n",
            "18/18 [==============================] - 19s 1s/step - loss: 2.3710 - accuracy: 0.2274 - val_loss: 2.2459 - val_accuracy: 0.2583\n",
            "Epoch 25/50\n",
            "18/18 [==============================] - 19s 1s/step - loss: 2.2142 - accuracy: 0.2625 - val_loss: 2.1323 - val_accuracy: 0.2765\n",
            "Epoch 26/50\n",
            "18/18 [==============================] - 19s 1s/step - loss: 2.1591 - accuracy: 0.2705 - val_loss: 2.0824 - val_accuracy: 0.2897\n",
            "Epoch 27/50\n",
            "18/18 [==============================] - 19s 1s/step - loss: 2.1353 - accuracy: 0.2740 - val_loss: 2.1782 - val_accuracy: 0.2631\n",
            "Epoch 28/50\n",
            "18/18 [==============================] - 19s 1s/step - loss: 2.1112 - accuracy: 0.2784 - val_loss: 2.1153 - val_accuracy: 0.2739\n",
            "Epoch 29/50\n",
            "18/18 [==============================] - 20s 1s/step - loss: 1.9838 - accuracy: 0.3074 - val_loss: 2.0182 - val_accuracy: 0.2898\n",
            "Epoch 30/50\n",
            "18/18 [==============================] - 19s 1s/step - loss: 1.9989 - accuracy: 0.2970 - val_loss: 2.0138 - val_accuracy: 0.2819\n",
            "Epoch 31/50\n",
            "18/18 [==============================] - 19s 1s/step - loss: 1.9675 - accuracy: 0.3025 - val_loss: 1.9337 - val_accuracy: 0.3085\n",
            "Epoch 32/50\n",
            "18/18 [==============================] - 19s 1s/step - loss: 1.8550 - accuracy: 0.3328 - val_loss: 1.7481 - val_accuracy: 0.3619\n",
            "Epoch 33/50\n",
            "18/18 [==============================] - 19s 1s/step - loss: 1.7603 - accuracy: 0.3576 - val_loss: 1.8502 - val_accuracy: 0.3086\n",
            "Epoch 34/50\n",
            "18/18 [==============================] - 19s 1s/step - loss: 1.7371 - accuracy: 0.3578 - val_loss: 2.0290 - val_accuracy: 0.2972\n",
            "Epoch 35/50\n",
            "18/18 [==============================] - 19s 1s/step - loss: 1.7117 - accuracy: 0.3645 - val_loss: 1.5267 - val_accuracy: 0.4336\n",
            "Epoch 36/50\n",
            "18/18 [==============================] - 19s 1s/step - loss: 1.6164 - accuracy: 0.3902 - val_loss: 1.4883 - val_accuracy: 0.4393\n",
            "Epoch 37/50\n",
            "18/18 [==============================] - 19s 1s/step - loss: 1.6019 - accuracy: 0.3919 - val_loss: 1.6169 - val_accuracy: 0.3855\n",
            "Epoch 38/50\n",
            "18/18 [==============================] - 20s 1s/step - loss: 2.0619 - accuracy: 0.2898 - val_loss: 1.7972 - val_accuracy: 0.3336\n",
            "Epoch 39/50\n",
            "18/18 [==============================] - 19s 1s/step - loss: 1.6186 - accuracy: 0.4067 - val_loss: 1.5588 - val_accuracy: 0.4102\n",
            "20/20 [==============================] - 7s 324ms/step - loss: 1.4753 - accuracy: 0.4465\n",
            "2/2 [==============================] - 1s 334ms/step - loss: 1.4854 - accuracy: 0.4435\n",
            "\n",
            "PREDICTION ACCURACY (%):\n",
            "Train: 44.648, Test: 44.350\n"
          ]
        },
        {
          "output_type": "display_data",
          "data": {
            "image/png": "[encoded data removed]",
            "text/plain": [
              "<Figure size 864x360 with 2 Axes>"
            ]
          },
          "metadata": {
            "needs_background": "light"
          }
        }
      ]
    },
    {
      "cell_type": "markdown",
      "source": [
        "## Predict:"
      ],
      "metadata": {
        "id": "NXCeYU6bgq2i"
      }
    },
    {
      "cell_type": "code",
      "source": [
        "    encoder_inputs = Input(shape=(n_timesteps_in, n_features), name='encoder_inputs')\n",
        "    encoder_lstm = LSTM(rnn_units, return_sequences=True, return_state=True, name='encoder_lstm')\n",
        "    encoder_outputs, encoder_state_h, encoder_state_c = encoder_lstm(encoder_inputs)\n",
        "    \n",
        "    states = [encoder_state_h, encoder_state_c]\n",
        "    \n",
        "    # DECODER STEP\n",
        "    # ------------\n",
        "    # Set up the decoder layers\n",
        "    # input shape: (1, n_features + rnn_units)\n",
        "    decoder_lstm = LSTM(rnn_units, return_state=True, name='decoder_lstm')\n",
        "    decoder_dense = Dense(n_features, activation='softmax', name='decoder_dense')\n",
        "    \n",
        "    # As before, we use as first input the 0-sequence\n",
        "    all_outputs = []\n",
        "    inputs = np.zeros((batch_size, 1, n_features))\n",
        "    \n",
        "    # Decoder_outputs is the last hidden state of the encoder. Encoder_outputs are all the states\n",
        "    decoder_outputs = encoder_state_h"
      ],
      "metadata": {
        "id": "mOTECqDlvGCa"
      },
      "execution_count": 44,
      "outputs": []
    },
    {
      "cell_type": "code",
      "source": [
        "query_with_time_axis = tf.expand_dims(decoder_outputs, 1)\n",
        "values_transposed = tf.transpose(encoder_outputs, perm=[0, 2, 1])"
      ],
      "metadata": {
        "id": "kc2clEnDvLu5"
      },
      "execution_count": 45,
      "outputs": []
    },
    {
      "cell_type": "code",
      "source": [
        "BahdanauAttention"
      ],
      "metadata": {
        "id": "7xy-28Zq7JZg",
        "outputId": "88d6035e-8f50-48ae-de7e-3df30153bdab",
        "colab": {
          "base_uri": "https://localhost:8080/"
        }
      },
      "execution_count": 55,
      "outputs": [
        {
          "output_type": "execute_result",
          "data": {
            "text/plain": [
              "__main__.BahdanauAttention"
            ]
          },
          "metadata": {},
          "execution_count": 55
        }
      ]
    },
    {
      "cell_type": "code",
      "source": [
        "model_attentionBahdanau.trainable_weights[0].shape"
      ],
      "metadata": {
        "id": "PJ7hDdd57dZg",
        "outputId": "cb94d3b0-b953-4cad-a236-c9d98def0378",
        "colab": {
          "base_uri": "https://localhost:8080/"
        }
      },
      "execution_count": 64,
      "outputs": [
        {
          "output_type": "execute_result",
          "data": {
            "text/plain": [
              "TensorShape([20, 400])"
            ]
          },
          "metadata": {},
          "execution_count": 64
        }
      ]
    },
    {
      "cell_type": "markdown",
      "source": [
        "## Luong dot"
      ],
      "metadata": {
        "id": "Mif5vRm5zc4h"
      }
    },
    {
      "cell_type": "code",
      "source": [
        "score = tf.transpose(tf.matmul(query_with_time_axis, \n",
        "                                       values_transposed), perm=[0, 2, 1])"
      ],
      "metadata": {
        "id": "JTGzGWuRtjSp"
      },
      "execution_count": 46,
      "outputs": []
    },
    {
      "cell_type": "code",
      "source": [
        "(score)"
      ],
      "metadata": {
        "id": "z52WmPS45PIq",
        "outputId": "96e3422a-bee3-4225-ec91-f5f9e87355cc",
        "colab": {
          "base_uri": "https://localhost:8080/"
        }
      },
      "execution_count": 50,
      "outputs": [
        {
          "output_type": "execute_result",
          "data": {
            "text/plain": [
              "<KerasTensor: shape=(None, 100, 1) dtype=float64 (created by layer 'tf.compat.v1.transpose_1')>"
            ]
          },
          "metadata": {},
          "execution_count": 50
        }
      ]
    },
    {
      "cell_type": "code",
      "source": [
        "plt.imshow(np.array(score), vmin=0.0)"
      ],
      "metadata": {
        "id": "SnQoilk55C0d",
        "outputId": "2584b7b5-e882-4aaf-e276-0b50e1e21432",
        "colab": {
          "base_uri": "https://localhost:8080/",
          "height": 351
        }
      },
      "execution_count": 48,
      "outputs": [
        {
          "output_type": "error",
          "ename": "TypeError",
          "evalue": "ignored",
          "traceback": [
            "\u001b[0;31m---------------------------------------------------------------------------\u001b[0m",
            "\u001b[0;31mTypeError\u001b[0m                                 Traceback (most recent call last)",
            "\u001b[0;32m<ipython-input-48-a7998f6aa7ee>\u001b[0m in \u001b[0;36m<module>\u001b[0;34m()\u001b[0m\n\u001b[0;32m----> 1\u001b[0;31m \u001b[0mplt\u001b[0m\u001b[0;34m.\u001b[0m\u001b[0mimshow\u001b[0m\u001b[0;34m(\u001b[0m\u001b[0mnp\u001b[0m\u001b[0;34m.\u001b[0m\u001b[0marray\u001b[0m\u001b[0;34m(\u001b[0m\u001b[0mscore\u001b[0m\u001b[0;34m)\u001b[0m\u001b[0;34m,\u001b[0m \u001b[0mvmin\u001b[0m\u001b[0;34m=\u001b[0m\u001b[0;36m0.0\u001b[0m\u001b[0;34m)\u001b[0m\u001b[0;34m\u001b[0m\u001b[0;34m\u001b[0m\u001b[0m\n\u001b[0m",
            "\u001b[0;32m/usr/local/lib/python3.7/dist-packages/keras/engine/keras_tensor.py\u001b[0m in \u001b[0;36m__array__\u001b[0;34m(self, dtype)\u001b[0m\n\u001b[1;32m    254\u001b[0m   \u001b[0;32mdef\u001b[0m \u001b[0m__array__\u001b[0m\u001b[0;34m(\u001b[0m\u001b[0mself\u001b[0m\u001b[0;34m,\u001b[0m \u001b[0mdtype\u001b[0m\u001b[0;34m=\u001b[0m\u001b[0;32mNone\u001b[0m\u001b[0;34m)\u001b[0m\u001b[0;34m:\u001b[0m\u001b[0;34m\u001b[0m\u001b[0;34m\u001b[0m\u001b[0m\n\u001b[1;32m    255\u001b[0m     raise TypeError(\n\u001b[0;32m--> 256\u001b[0;31m         \u001b[0;34mf'You are passing {self}, an intermediate Keras symbolic input/output, '\u001b[0m\u001b[0;34m\u001b[0m\u001b[0;34m\u001b[0m\u001b[0m\n\u001b[0m\u001b[1;32m    257\u001b[0m         \u001b[0;34m'to a TF API that does not allow registering custom dispatchers, such '\u001b[0m\u001b[0;34m\u001b[0m\u001b[0;34m\u001b[0m\u001b[0m\n\u001b[1;32m    258\u001b[0m         \u001b[0;34m'as `tf.cond`, `tf.function`, gradient tapes, or `tf.map_fn`. '\u001b[0m\u001b[0;34m\u001b[0m\u001b[0;34m\u001b[0m\u001b[0m\n",
            "\u001b[0;31mTypeError\u001b[0m: You are passing KerasTensor(type_spec=TensorSpec(shape=(None, 100, 1), dtype=tf.float64, name=None), name='tf.compat.v1.transpose_1/transpose:0', description=\"created by layer 'tf.compat.v1.transpose_1'\"), an intermediate Keras symbolic input/output, to a TF API that does not allow registering custom dispatchers, such as `tf.cond`, `tf.function`, gradient tapes, or `tf.map_fn`. Keras Functional model construction only supports TF API calls that *do* support dispatching, such as `tf.math.add` or `tf.reshape`. Other APIs cannot be called directly on symbolic Kerasinputs/outputs. You can work around this limitation by putting the operation in a custom Keras layer `call` and calling that layer on this symbolic input/output."
          ]
        }
      ]
    },
    {
      "cell_type": "markdown",
      "source": [
        "## Luong multiplicative"
      ],
      "metadata": {
        "id": "lgwmIdl3zgCQ"
      }
    },
    {
      "cell_type": "code",
      "source": [
        "W1 = tf.keras.layers.Dense(units) # we need a W as training paramater"
      ],
      "metadata": {
        "id": "i5du5v6n0aC6"
      },
      "execution_count": null,
      "outputs": []
    },
    {
      "cell_type": "code",
      "source": [
        "units = 100\n",
        "W1 = tf.keras.layers.Dense(units) # we need a W as training paramater\n",
        "\n",
        "score = tf.transpose(tf.matmul(query_with_time_axis, \n",
        "                                       W1(values_transposed)), perm=[0, 2, 1])"
      ],
      "metadata": {
        "id": "EH1pF2O7ziQ4"
      },
      "execution_count": null,
      "outputs": []
    },
    {
      "cell_type": "code",
      "source": [
        "(score) # luong dot result"
      ],
      "metadata": {
        "colab": {
          "base_uri": "https://localhost:8080/"
        },
        "id": "PobXk9j_zMjh",
        "outputId": "2809024f-3c9c-44f4-bcc3-6e746692a7b6"
      },
      "execution_count": null,
      "outputs": [
        {
          "output_type": "execute_result",
          "data": {
            "text/plain": [
              "<KerasTensor: shape=(None, 100, 1) dtype=float64 (created by layer 'tf.compat.v1.transpose_1')>"
            ]
          },
          "metadata": {},
          "execution_count": 13
        }
      ]
    },
    {
      "cell_type": "code",
      "source": [
        "score # luong multiplicative result"
      ],
      "metadata": {
        "id": "K_QcZpRO0zsh",
        "outputId": "14e98ee4-0bb5-4f99-c665-5cbf0300ff50",
        "colab": {
          "base_uri": "https://localhost:8080/"
        }
      },
      "execution_count": null,
      "outputs": [
        {
          "output_type": "execute_result",
          "data": {
            "text/plain": [
              "<KerasTensor: shape=(None, 100, 1) dtype=float64 (created by layer 'tf.compat.v1.transpose_3')>"
            ]
          },
          "metadata": {},
          "execution_count": 23
        }
      ]
    },
    {
      "cell_type": "markdown",
      "source": [
        "### Luong multiplicative implementation"
      ],
      "metadata": {
        "id": "8mjEOWH61CTw"
      }
    },
    {
      "cell_type": "code",
      "source": [
        "class LuongGeneralAttention(tf.keras.layers.Layer):\n",
        "    def __init__(self, units):\n",
        "        super(LuongGeneralAttention, self).__init__()\n",
        "        self.W1 = tf.keras.layers.Dense(units)\n",
        "\n",
        "\n",
        "    def call(self, query, values):\n",
        "        query_with_time_axis = tf.expand_dims(query, 1)\n",
        "        values_transposed = tf.transpose(values, perm=[0, 2, 1])\n",
        "\n",
        "        # LUONGH Dot-product\n",
        "        score = tf.transpose(tf.matmul(query_with_time_axis, \n",
        "                                       self.W1(values_transposed)), perm=[0, 2, 1])\n",
        "\n",
        "        # attention_weights shape == (batch_size, max_length, 1)\n",
        "        attention_weights = tf.nn.softmax(score, axis=1)\n",
        "        \n",
        "        # context_vector shape after sum == (batch_size, hidden_size)\n",
        "        context_vector = attention_weights * values\n",
        "        context_vector = tf.reduce_sum(context_vector, axis=1)\n",
        "\n",
        "        return context_vector, attention_weights"
      ],
      "metadata": {
        "id": "cy6X1dxZ1OU5"
      },
      "execution_count": 11,
      "outputs": []
    },
    {
      "cell_type": "markdown",
      "source": [
        "### Train `LuongGeneralAttention`"
      ],
      "metadata": {
        "id": "5eGGd-xE1mcR"
      }
    },
    {
      "cell_type": "code",
      "source": [
        "# attention model\n",
        "attentionLuongGeneral = LuongGeneralAttention(units = 100)\n",
        "model_attentionLuongGeneral = build_attention_model(attentionLuongGeneral, batch_size, rnn_units)\n",
        "\n",
        "\n",
        "#training\n",
        "train_test(model_attentionLuongGeneral, X_train, y_train , X_test,\n",
        "           y_test, batch_size=batch_size, epochs=50, patience=3)"
      ],
      "metadata": {
        "id": "2kUgfRR51qqg",
        "outputId": "02d0231a-f12e-4446-911c-378dbfa3f292",
        "colab": {
          "base_uri": "https://localhost:8080/",
          "height": 1000
        }
      },
      "execution_count": 12,
      "outputs": [
        {
          "output_type": "stream",
          "name": "stdout",
          "text": [
            "Epoch 1/50\n",
            "18/18 [==============================] - 219s 4s/step - loss: 2.9633 - accuracy: 0.0533 - val_loss: 2.9475 - val_accuracy: 0.0587\n",
            "Epoch 2/50\n",
            "18/18 [==============================] - 17s 956ms/step - loss: 2.9453 - accuracy: 0.0573 - val_loss: 2.9425 - val_accuracy: 0.0633\n",
            "Epoch 3/50\n",
            "18/18 [==============================] - 17s 954ms/step - loss: 2.9410 - accuracy: 0.0622 - val_loss: 2.9390 - val_accuracy: 0.0602\n",
            "Epoch 4/50\n",
            "18/18 [==============================] - 17s 955ms/step - loss: 2.9338 - accuracy: 0.0702 - val_loss: 2.9277 - val_accuracy: 0.0785\n",
            "Epoch 5/50\n",
            "18/18 [==============================] - 17s 955ms/step - loss: 2.9192 - accuracy: 0.0809 - val_loss: 2.9100 - val_accuracy: 0.0851\n",
            "Epoch 6/50\n",
            "18/18 [==============================] - 17s 956ms/step - loss: 2.8940 - accuracy: 0.0930 - val_loss: 2.8800 - val_accuracy: 0.0979\n",
            "Epoch 7/50\n",
            "18/18 [==============================] - 17s 958ms/step - loss: 2.8869 - accuracy: 0.0967 - val_loss: 2.8718 - val_accuracy: 0.1018\n",
            "Epoch 8/50\n",
            "18/18 [==============================] - 17s 951ms/step - loss: 2.8563 - accuracy: 0.1074 - val_loss: 2.8572 - val_accuracy: 0.1039\n",
            "Epoch 9/50\n",
            "18/18 [==============================] - 17s 951ms/step - loss: 2.8280 - accuracy: 0.1172 - val_loss: 2.8048 - val_accuracy: 0.1250\n",
            "Epoch 10/50\n",
            "18/18 [==============================] - 17s 956ms/step - loss: 2.8083 - accuracy: 0.1244 - val_loss: 2.7852 - val_accuracy: 0.1270\n",
            "Epoch 11/50\n",
            "18/18 [==============================] - 17s 956ms/step - loss: 2.7486 - accuracy: 0.1408 - val_loss: 2.7493 - val_accuracy: 0.1379\n",
            "Epoch 12/50\n",
            "18/18 [==============================] - 17s 952ms/step - loss: 2.7355 - accuracy: 0.1448 - val_loss: 2.6954 - val_accuracy: 0.1529\n",
            "Epoch 13/50\n",
            "18/18 [==============================] - 17s 951ms/step - loss: 2.6647 - accuracy: 0.1625 - val_loss: 2.6338 - val_accuracy: 0.1694\n",
            "Epoch 14/50\n",
            "18/18 [==============================] - 17s 957ms/step - loss: 2.6152 - accuracy: 0.1744 - val_loss: 2.5886 - val_accuracy: 0.1832\n",
            "Epoch 15/50\n",
            "18/18 [==============================] - 17s 951ms/step - loss: 2.6518 - accuracy: 0.1645 - val_loss: 2.6776 - val_accuracy: 0.1535\n",
            "Epoch 16/50\n",
            "18/18 [==============================] - 17s 956ms/step - loss: 2.5851 - accuracy: 0.1827 - val_loss: 2.5300 - val_accuracy: 0.1964\n",
            "Epoch 17/50\n",
            "18/18 [==============================] - 17s 952ms/step - loss: 2.4961 - accuracy: 0.2021 - val_loss: 2.5522 - val_accuracy: 0.1848\n",
            "Epoch 18/50\n",
            "18/18 [==============================] - 17s 952ms/step - loss: 2.5490 - accuracy: 0.1868 - val_loss: 2.5082 - val_accuracy: 0.1977\n",
            "Epoch 19/50\n",
            "18/18 [==============================] - 17s 953ms/step - loss: 2.4444 - accuracy: 0.2118 - val_loss: 2.4102 - val_accuracy: 0.2191\n",
            "Epoch 20/50\n",
            "18/18 [==============================] - 17s 950ms/step - loss: 2.3843 - accuracy: 0.2243 - val_loss: 2.3614 - val_accuracy: 0.2296\n",
            "Epoch 21/50\n",
            "18/18 [==============================] - 17s 953ms/step - loss: 2.4037 - accuracy: 0.2175 - val_loss: 2.4668 - val_accuracy: 0.1979\n",
            "Epoch 22/50\n",
            "18/18 [==============================] - 17s 955ms/step - loss: 2.3604 - accuracy: 0.2265 - val_loss: 2.3485 - val_accuracy: 0.2248\n",
            "Epoch 23/50\n",
            "18/18 [==============================] - 17s 955ms/step - loss: 2.3003 - accuracy: 0.2376 - val_loss: 2.2872 - val_accuracy: 0.2379\n",
            "Epoch 24/50\n",
            "18/18 [==============================] - 17s 949ms/step - loss: 2.2481 - accuracy: 0.2480 - val_loss: 2.2992 - val_accuracy: 0.2356\n",
            "Epoch 25/50\n",
            "18/18 [==============================] - 17s 955ms/step - loss: 2.2373 - accuracy: 0.2478 - val_loss: 2.2423 - val_accuracy: 0.2402\n",
            "Epoch 26/50\n",
            "18/18 [==============================] - 17s 951ms/step - loss: 2.2016 - accuracy: 0.2552 - val_loss: 2.3373 - val_accuracy: 0.2264\n",
            "Epoch 27/50\n",
            "18/18 [==============================] - 17s 953ms/step - loss: 2.1976 - accuracy: 0.2542 - val_loss: 2.1431 - val_accuracy: 0.2633\n",
            "Epoch 28/50\n",
            "18/18 [==============================] - 17s 949ms/step - loss: 2.1291 - accuracy: 0.2679 - val_loss: 2.1008 - val_accuracy: 0.2739\n",
            "Epoch 29/50\n",
            "18/18 [==============================] - 17s 947ms/step - loss: 2.1146 - accuracy: 0.2696 - val_loss: 2.0838 - val_accuracy: 0.2765\n",
            "Epoch 30/50\n",
            "18/18 [==============================] - 17s 955ms/step - loss: 2.0989 - accuracy: 0.2708 - val_loss: 2.0985 - val_accuracy: 0.2684\n",
            "Epoch 31/50\n",
            "18/18 [==============================] - 17s 955ms/step - loss: 2.0394 - accuracy: 0.2848 - val_loss: 2.1049 - val_accuracy: 0.2653\n",
            "Epoch 32/50\n",
            "18/18 [==============================] - 17s 957ms/step - loss: 2.0773 - accuracy: 0.2720 - val_loss: 2.0003 - val_accuracy: 0.2933\n",
            "Epoch 33/50\n",
            "18/18 [==============================] - 17s 957ms/step - loss: 1.9872 - accuracy: 0.2940 - val_loss: 1.9736 - val_accuracy: 0.2974\n",
            "Epoch 34/50\n",
            "18/18 [==============================] - 17s 950ms/step - loss: 2.0302 - accuracy: 0.2799 - val_loss: 2.0045 - val_accuracy: 0.2883\n",
            "Epoch 35/50\n",
            "18/18 [==============================] - 17s 943ms/step - loss: 1.9687 - accuracy: 0.2972 - val_loss: 1.9334 - val_accuracy: 0.3056\n",
            "Epoch 36/50\n",
            "18/18 [==============================] - 17s 956ms/step - loss: 1.9157 - accuracy: 0.3099 - val_loss: 1.8912 - val_accuracy: 0.3153\n",
            "Epoch 37/50\n",
            "18/18 [==============================] - 17s 955ms/step - loss: 1.9779 - accuracy: 0.2909 - val_loss: 1.9763 - val_accuracy: 0.2856\n",
            "Epoch 38/50\n",
            "18/18 [==============================] - 17s 957ms/step - loss: 1.9697 - accuracy: 0.2905 - val_loss: 1.8947 - val_accuracy: 0.3120\n",
            "Epoch 39/50\n",
            "18/18 [==============================] - 17s 956ms/step - loss: 1.9254 - accuracy: 0.3011 - val_loss: 1.8547 - val_accuracy: 0.3227\n",
            "Epoch 40/50\n",
            "18/18 [==============================] - 17s 949ms/step - loss: 1.8543 - accuracy: 0.3199 - val_loss: 1.8215 - val_accuracy: 0.3289\n",
            "Epoch 41/50\n",
            "18/18 [==============================] - 17s 955ms/step - loss: 1.8061 - accuracy: 0.3362 - val_loss: 1.8696 - val_accuracy: 0.2994\n",
            "Epoch 42/50\n",
            "18/18 [==============================] - 17s 956ms/step - loss: 1.8253 - accuracy: 0.3243 - val_loss: 1.9288 - val_accuracy: 0.2819\n",
            "Epoch 43/50\n",
            "18/18 [==============================] - 17s 956ms/step - loss: 1.8115 - accuracy: 0.3274 - val_loss: 1.7628 - val_accuracy: 0.3443\n",
            "Epoch 44/50\n",
            "18/18 [==============================] - 17s 956ms/step - loss: 1.7933 - accuracy: 0.3329 - val_loss: 1.7948 - val_accuracy: 0.3307\n",
            "Epoch 45/50\n",
            "18/18 [==============================] - 17s 956ms/step - loss: 1.7479 - accuracy: 0.3464 - val_loss: 1.8060 - val_accuracy: 0.3267\n",
            "Epoch 46/50\n",
            "18/18 [==============================] - 17s 956ms/step - loss: 1.7417 - accuracy: 0.3471 - val_loss: 1.7578 - val_accuracy: 0.3284\n",
            "Epoch 47/50\n",
            "18/18 [==============================] - 17s 953ms/step - loss: 1.7252 - accuracy: 0.3506 - val_loss: 1.6819 - val_accuracy: 0.3701\n",
            "Epoch 48/50\n",
            "18/18 [==============================] - 17s 949ms/step - loss: 1.7313 - accuracy: 0.3471 - val_loss: 1.7691 - val_accuracy: 0.3277\n",
            "Epoch 49/50\n",
            "18/18 [==============================] - 17s 953ms/step - loss: 1.7113 - accuracy: 0.3535 - val_loss: 1.6985 - val_accuracy: 0.3555\n",
            "Epoch 50/50\n",
            "18/18 [==============================] - 17s 956ms/step - loss: 1.7036 - accuracy: 0.3546 - val_loss: 1.6615 - val_accuracy: 0.3689\n",
            "20/20 [==============================] - 5s 270ms/step - loss: 1.6463 - accuracy: 0.3777\n",
            "2/2 [==============================] - 1s 272ms/step - loss: 1.6731 - accuracy: 0.3669\n",
            "\n",
            "PREDICTION ACCURACY (%):\n",
            "Train: 37.770, Test: 36.695\n"
          ]
        },
        {
          "output_type": "display_data",
          "data": {
            "image/png": "[encoded data removed]",
            "text/plain": [
              "<Figure size 864x360 with 2 Axes>"
            ]
          },
          "metadata": {
            "needs_background": "light"
          }
        }
      ]
    },
    {
      "cell_type": "markdown",
      "source": [
        "# Luong multiplicative"
      ],
      "metadata": {
        "id": "f5L650gOslBi"
      }
    },
    {
      "cell_type": "code",
      "source": [
        "class LuongDotAttention(tf.keras.layers.Layer):\n",
        "    def __init__(self):\n",
        "        super(LuongDotAttention, self).__init__()\n",
        "\n",
        "    def call(self, query, values):\n",
        "        query_with_time_axis = tf.expand_dims(query, 1)\n",
        "        values_transposed = tf.transpose(values, perm=[0, 2, 1])\n",
        "\n",
        "        # LUONGH Dot-product\n",
        "        score = tf.transpose(tf.matmul(query_with_time_axis, \n",
        "                                       values_transposed), perm=[0, 2, 1])\n",
        "\n",
        "        # attention_weights shape == (batch_size, max_length, 1)\n",
        "        attention_weights = tf.nn.softmax(score, axis=1)\n",
        "        \n",
        "        # context_vector shape after sum == (batch_size, hidden_size)\n",
        "        context_vector = attention_weights * values\n",
        "        context_vector = tf.reduce_sum(context_vector, axis=1)\n",
        "\n",
        "        return context_vector, attention_weights"
      ],
      "metadata": {
        "id": "_lckLJRcsoEi"
      },
      "execution_count": null,
      "outputs": []
    },
    {
      "cell_type": "markdown",
      "source": [
        "# Plot the Matrix Weigth"
      ],
      "metadata": {
        "id": "DH--MxhJ_0t1"
      }
    },
    {
      "cell_type": "code",
      "source": [
        "def evaluate(seq_in):\n",
        "  attention_plot = np.zeros((n_timesteps_in, n_timesteps_in))\n",
        "  print ('attention_plot shape: (n_timesteps_in, n_timesteps_in) {}'.format(attention_plot.shape))\n",
        "\n",
        "\n",
        "  #sequence = [7, 9, 8, 5]\n",
        "  sequence = one_hot_encode(seq_in,n_features)\n",
        "  encoder_inputs=array(sequence).reshape(1,n_timesteps_in,n_features)\n",
        "  \n",
        "  encoder_inputs = tf.convert_to_tensor(encoder_inputs,dtype=tf.float32)\n",
        "  print ('Encoder input shape: (batch size, sequence length, n_features) {}'.format(encoder_inputs.shape))\n",
        "\n",
        "\n",
        "  encoder_outputs, state_h, state_c = encoder_lstm(encoder_inputs)\n",
        "\n",
        "  print ('Encoder output shape: (batch size, sequence length, latentSpaceDimension) {}'.format(encoder_outputs.shape))\n",
        "  print ('Encoder Hidden state shape: (batch size, latentSpaceDimension) {}'.format(state_h.shape))\n",
        "  print ('Encoder Cell state shape: (batch size, latentSpaceDimension) {}'.format(state_c.shape))\n",
        "  # initial context vector is the states of the encoder\n",
        "  states = [state_h, state_c]\n",
        "  \n",
        "  # Set up the attention layer\n",
        "  #attention= BahdanauAttention(latentSpaceDimension)\n",
        "\n",
        "\n",
        "  # Set up the decoder layers\n",
        "  #decoder_inputs = Input(shape=(1, (n_features+latentSpaceDimension)))\n",
        "  #decoder_lstm = LSTM(latentSpaceDimension,  return_state=True, name='decoder_lstm')\n",
        "  #decoder_dense = Dense(n_features, activation='softmax',  name='decoder_dense')\n",
        "\n",
        "  all_outputs = []\n",
        "\n",
        "  #INIT DECODER\n",
        "  # Prepare decoder input data that just contains the start character 0\n",
        "  # Note that we made it a constant one-hot-encoded in the model\n",
        "  # that is, [1 0 0 0 0 0 0 0 0 0] is the first input for each loop\n",
        "  decoder_input_data = np.zeros((1, 1, n_features))\n",
        "  decoder_input_data[:, 0, 0] = 1 \n",
        "  # that is, [1 0 0 0 0 0 0 0 0 0] is the first input for each loop\n",
        "  inputs = decoder_input_data\n",
        "  #initial hiiden state\n",
        "  decoder_outputs = state_h\n",
        "\n",
        "  print('initial decoder inputs: ', inputs.shape)\n",
        "\n",
        "  # decoder will only process one timestep at a time.\n",
        "  for t in range(n_timesteps_in):\n",
        "\n",
        "      # pay attention\n",
        "      context_vector, attention_weights=attention(decoder_outputs, encoder_outputs)\n",
        "\n",
        "\n",
        "\n",
        "      print(\"Attention context_vector: (batch size, units) {}\".format(context_vector.shape))\n",
        "      print(\"Attention weights : (batch_size, sequence_length, 1) {}\".format(attention_weights.shape))\n",
        "\n",
        "      # storing the attention weights to plot later on\n",
        "      attention_weights = tf.reshape(attention_weights, (-1, ))\n",
        "      attention_plot[t] = attention_weights.numpy()\n",
        "\n",
        "      \n",
        "      decoder_outputs=tf.expand_dims(decoder_outputs, 1)\n",
        "      print('decoder_outputs: (batch_size, 1, latentSpaceDimension) ', decoder_outputs.shape )\n",
        "\n",
        "      context_vector = tf.expand_dims(context_vector, 1)\n",
        "      print('Reshaped context_vector: ', context_vector.shape )\n",
        "      inputs = tf.concat([context_vector, inputs], axis=-1)\n",
        "      #inputs = tf.concat([context_vector, inputs], axis=-1)\n",
        "      print('After concat inputs: (batch_size, 1, n_features + hidden_size): ',inputs.shape )\n",
        "\n",
        "      # passing the concatenated vector to the LSTM\n",
        "      # Run the decoder on one timestep\n",
        "      decoder_outputs, state_h, state_c = decoder_lstm(inputs,\n",
        "                                              initial_state=states)\n",
        "      #decoder_outputs = tf.reshape(decoder_outputs, (-1, decoder_outputs.shape[2]))\n",
        "    \n",
        "      outputs = decoder_dense(decoder_outputs)\n",
        "      # Store the current prediction (we will concatenate all predictions later)\n",
        "      outputs = tf.expand_dims(outputs, 1)\n",
        "      all_outputs.append(outputs)\n",
        "      # Reinject the outputs as inputs for the next loop iteration\n",
        "      # as well as update the states\n",
        "      inputs = outputs\n",
        "      states = [state_h, state_c]\n",
        "\n",
        "\n",
        "\n",
        "  # Concatenate all predictions such as [batch_size, timesteps, features]\n",
        "  decoder_outputs = Lambda(lambda x: K.concatenate(x, axis=1))(all_outputs)\n",
        "  seq_out=one_hot_decode(decoder_outputs[0])\n",
        "  \n",
        "  return seq_in, seq_out, attention_plot"
      ],
      "metadata": {
        "id": "kikS9pOnAl9t"
      },
      "execution_count": null,
      "outputs": []
    },
    {
      "cell_type": "code",
      "source": [
        "# function for plotting the attention weights\n",
        "def plot_attention(attention, sequence, predicted_sequence):\n",
        "  fig = plt.figure(figsize=(8,8))\n",
        "  ax = fig.add_subplot(1, 1, 1)\n",
        "  ax.matshow(attention, cmap='viridis')\n",
        "\n",
        "  fontdict = {'fontsize': 14}\n",
        "\n",
        "  ax.set_xticklabels([''] + sequence, fontdict=fontdict, rotation=90)\n",
        "  ax.set_yticklabels([''] + predicted_sequence, fontdict=fontdict)\n",
        "\n",
        "  ax.xaxis.set_major_locator(ticker.MultipleLocator(1))\n",
        "  ax.yaxis.set_major_locator(ticker.MultipleLocator(1))\n",
        "\n",
        "  plt.show()"
      ],
      "metadata": {
        "id": "z9GsNF6E_4Ou"
      },
      "execution_count": null,
      "outputs": []
    },
    {
      "cell_type": "code",
      "metadata": {
        "id": "mD1hYuduSP1W"
      },
      "source": [
        "class BahdanauAttention(tf.keras.layers.Layer):\n",
        "    \n",
        "    def __init__(self, units):\n",
        "        super(BahdanauAttention, self).__init__()\n",
        "\n",
        "        ##################\n",
        "        # YOUR CODE HERE #\n",
        "        ##################\n",
        "\n",
        "\n",
        "    def call(self, query, values):\n",
        "        query_with_time_axis = tf.expand_dims(query, 1)\n",
        "        values_transposed = tf.transpose(values, perm=[0, 2, 1])\n",
        "\n",
        "        # LUONGH Dot-product\n",
        "        score = tf.transpose(tf.matmul(query_with_time_axis, \n",
        "                                       values_transposed), perm=[0, 2, 1])\n",
        "\n",
        "        # attention_weights shape == (batch_size, max_length, 1)\n",
        "        attention_weights = tf.nn.softmax(score, axis=1)\n",
        "        \n",
        "        \n",
        "\n",
        "        ##################\n",
        "        # YOUR CODE HERE #\n",
        "        ##################\n",
        "\n",
        "\n",
        "        return context_vector, attention_weights\n",
        "\n",
        "\n",
        "\n",
        "# LuongSimpleAttention:\n",
        "        query_with_time_axis = tf.expand_dims(query, 1)\n",
        "        values_transposed = tf.transpose(values, perm=[0, 2, 1])\n",
        "\n",
        "        # LUONGH Dot-product\n",
        "        score = tf.transpose(tf.matmul(query_with_time_axis, \n",
        "                                       values_transposed), perm=[0, 2, 1])\n",
        "\n",
        "        # attention_weights shape == (batch_size, max_length, 1)\n",
        "        attention_weights = tf.nn.softmax(score, axis=1)\n",
        "        \n",
        "        # context_vector shape after sum == (batch_size, hidden_size)\n",
        "        context_vector = attention_weights * values\n",
        "        context_vector = tf.reduce_sum(context_vector, axis=1)\n",
        "\n",
        "        return context_vector, attention_weights"
      ],
      "execution_count": null,
      "outputs": []
    },
    {
      "cell_type": "markdown",
      "metadata": {
        "id": "cUW9fn5w3tPU"
      },
      "source": [
        "# Report\n",
        "\n",
        "+ Bahdanau Attention and Luong General Attention implementation.\n",
        "+ Comparative.\n",
        "+ Weight visualization. \n",
        "+ Blog site.\n",
        "\n"
      ]
    }
  ]
}
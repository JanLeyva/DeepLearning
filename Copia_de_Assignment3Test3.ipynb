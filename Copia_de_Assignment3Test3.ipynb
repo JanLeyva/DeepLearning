{
  "nbformat": 4,
  "nbformat_minor": 0,
  "metadata": {
    "colab": {
      "name": "Copia de Assignment3Test1.ipynb",
      "provenance": [],
      "collapsed_sections": [],
      "include_colab_link": true
    },
    "kernelspec": {
      "name": "python3",
      "display_name": "Python 3"
    },
    "language_info": {
      "name": "python"
    },
    "accelerator": "TPU"
  },
  "cells": [
    {
      "cell_type": "markdown",
      "metadata": {
        "id": "view-in-github",
        "colab_type": "text"
      },
      "source": [
        "<a href=\"https://colab.research.google.com/github/JanLeyva/DeepLearning/blob/main/Copia_de_Assignment3Test3.ipynb\" target=\"_parent\"><img src=\"https://colab.research.google.com/assets/colab-badge.svg\" alt=\"Open In Colab\"/></a>"
      ]
    },
    {
      "cell_type": "code",
      "execution_count": null,
      "metadata": {
        "colab": {
          "base_uri": "https://localhost:8080/"
        },
        "id": "ZdR1zsqQsazR",
        "outputId": "1c412fa2-5597-472e-859c-eb7c5ed4037a"
      },
      "outputs": [
        {
          "output_type": "stream",
          "name": "stdout",
          "text": [
            "Python 3.7.12\n"
          ]
        }
      ],
      "source": [
        "!python --version"
      ]
    },
    {
      "cell_type": "code",
      "source": [
        ""
      ],
      "metadata": {
        "id": "h0OJrYPesj8u"
      },
      "execution_count": null,
      "outputs": []
    },
    {
      "cell_type": "markdown",
      "source": [
        "# Assignment 3: Attention\n",
        "\n",
        "The objectives of this assignment are:\n",
        "\n",
        "+ To implement Bahdanau Attention and Luong General Attention classes.\n",
        "+ To do a comparative (# of steps to converge, test error) of the three methods we have seen. Use these values for the comparative (the training datset size and `rnn_units` and `batch_size` values are up to you): \n",
        "    + `n_timesteps_in = 100`\n",
        "    + `n_features = 20`.   \n",
        "+ To implement a function to visualize the attention weights for one example. You can visualize them as in this figure (that corresponds to a machine translation task):\n",
        "\n",
        "<div>\n",
        "<center>\n",
        "<img src=\"https://jalammar.github.io/images/attention_sentence.png\" width=\"200\">\n",
        "</center>\n",
        "</div>\n",
        "\n",
        "+ To write a blog entry explaining in your words how does attention work. You can do it in your favourite blog site. If you do not have a favourite blog site, you can start one here: https://hackmd.io/\n",
        "\n",
        "You have to report all your work at the end of this notebook.\n",
        "\n"
      ],
      "metadata": {
        "id": "5C9JWiVgse-D"
      }
    },
    {
      "cell_type": "markdown",
      "source": [
        "# Code"
      ],
      "metadata": {
        "id": "4Vi4ikWNshOi"
      }
    },
    {
      "cell_type": "code",
      "source": [
        "#@title Some utils\n",
        "from random import randint\n",
        "from matplotlib import pyplot as plt\n",
        "from tensorflow.keras.callbacks import EarlyStopping\n",
        "import numpy as np\n",
        "\n",
        "def generate_sequence(length, n_unique):\n",
        "    \"\"\"\n",
        "    Generate a sequence of random integers.\n",
        "    \n",
        "    :length: Total length of the generated sequence\n",
        "    :n_unique: Maximum number allowed\n",
        "    \"\"\"\n",
        "    return [randint(1, n_unique-1) for _ in range(length)]\n",
        "\n",
        "def one_hot_encode(sequence, n_unique):\n",
        "    \"\"\"\n",
        "    Transform a sequence of integers into a one-hot-encoding vector\n",
        "    \n",
        "    :sequence: The sequence we want to transform\n",
        "    :n_unique: Maximum number allowed (length of the one-hot-encoded vector)\n",
        "    \"\"\"\n",
        "    encoding = list()\n",
        "    for value in sequence:\n",
        "        vector = [0 for _ in range(n_unique)]\n",
        "        vector[value] = 1\n",
        "        encoding.append(vector)\n",
        "    return np.array(encoding)\n",
        "\n",
        "def one_hot_decode(encoded_seq):\n",
        "    \"\"\"\n",
        "    Transorm a one-hot-encoded vector into a list of integers\n",
        "    \n",
        "    :encoded_seq: One hot encoded sequence to be transformed\n",
        "    \"\"\"\n",
        "    return [np.argmax(vector) for vector in encoded_seq]\n",
        "\n",
        "\n",
        "def get_reversed_pairs(time_steps,vocabulary_size):\n",
        "    \"\"\"\n",
        "    Generate a pair X, y where y is the 'reversed' version of X.\n",
        "    \n",
        "    :time_steps: Sequence length\n",
        "    :vocabulary_size: Maximum number allowed\n",
        "    \"\"\"\n",
        "    # generate random sequence and reverse it\n",
        "    sequence_in = generate_sequence(time_steps, vocabulary_size)\n",
        "    sequence_out = sequence_in[::-1]\n",
        "\n",
        "    # one hot encode both sequences\n",
        "    X = one_hot_encode(sequence_in, vocabulary_size)\n",
        "    y = one_hot_encode(sequence_out, vocabulary_size)\n",
        "    \n",
        "    # reshape as 3D so it can be inputed to the LSTM\n",
        "    X = X.reshape((1, X.shape[0], X.shape[1]))\n",
        "    y = y.reshape((1, y.shape[0], y.shape[1]))\n",
        "    return X,y\n",
        "\n",
        "\n",
        "def create_dataset(train_size, test_size, time_steps,vocabulary_size):\n",
        "    \"\"\"\n",
        "    Generates a datset of reversed pairs X, y.\n",
        "    \n",
        "    :train_size: Number of train pairs\n",
        "    :test_size: Number of test pairs\n",
        "    :time_steps: Sequence length\n",
        "    :vocabulary_size: Maximum number allowed\n",
        "    \"\"\"\n",
        "    \n",
        "    # Generate reversed pairs for training\n",
        "    pairs = [get_reversed_pairs(time_steps,vocabulary_size) for _ in range(train_size)]\n",
        "    pairs= np.array(pairs).squeeze()\n",
        "    X_train = pairs[:,0]\n",
        "    y_train = pairs[:,1]\n",
        "    \n",
        "    # Generate reversed pairs for test\n",
        "    pairs = [get_reversed_pairs(time_steps,vocabulary_size) for _ in range(test_size)]\n",
        "    pairs= np.array(pairs).squeeze()\n",
        "    X_test = pairs[:,0]\n",
        "    y_test = pairs[:,1]\t\n",
        "\n",
        "    return X_train, y_train, X_test, y_test\n",
        "\n",
        "\n",
        "def train_test(model, X_train, y_train , X_test, y_test, epochs=500, batch_size=32, patience=5):\n",
        "    \"\"\"\n",
        "    It trains a model and evaluates the result on the test dataset\n",
        "    \n",
        "    :model: Model to be fit\n",
        "    :X_train, y_train: Train samples and labels \n",
        "    :X_test y_test: Test samples and labels \n",
        "    :epochs: Maximum number of iterations that the model will perform\n",
        "    :batch_size: Samples per batch\n",
        "    :patience: Number of rounds without improvement that the model can perform. If there is no improvement on the loss, it will stop the trainning process.\n",
        "    \"\"\"\n",
        "    \n",
        "    # Train the model\n",
        "    history=model.fit(X_train, y_train, \n",
        "                      validation_split= 0.1, \n",
        "                      epochs=epochs,\n",
        "                      batch_size=batch_size, \n",
        "                      callbacks=[EarlyStopping(monitor='val_loss', patience=patience, restore_best_weights=True)])\n",
        "    \n",
        "    _, train_acc = model.evaluate(X_train, y_train, batch_size=batch_size)\n",
        "    _, test_acc = model.evaluate(X_test, y_test, batch_size=batch_size)\n",
        "    \n",
        "    print('\\nPREDICTION ACCURACY (%):')\n",
        "    print('Train: %.3f, Test: %.3f' % (train_acc*100, test_acc*100))\n",
        "    \n",
        "    fig, axs = plt.subplots(1,2, figsize=(12,5))\n",
        "    # summarize history for loss\n",
        "    axs[0].plot(history.history['loss'])\n",
        "    axs[0].plot(history.history['val_loss'])\n",
        "    axs[0].set_title(model.name+' loss')\n",
        "    axs[0].set_ylabel('loss')\n",
        "    axs[0].set_xlabel('epoch')\n",
        "    axs[0].legend(['train', 'val'], loc='upper left')\n",
        "    \n",
        "    # summarize history for accuracy\n",
        "    axs[1].plot(history.history['accuracy'])\n",
        "    axs[1].plot(history.history['val_accuracy'])\n",
        "    axs[1].set_title(model.name+' accuracy')\n",
        "    axs[1].set_ylabel('accuracy')\n",
        "    axs[1].set_xlabel('epoch')\n",
        "    axs[1].legend(['train', 'val'], loc='upper left')\n",
        "    plt.show()\n",
        "    \n",
        "    \n",
        "def predict(model, n_timesteps_in,n_features, x, y_real=None, ):\n",
        "    pred=model.predict(x.reshape(1,n_timesteps_in,n_features), batch_size=1)\n",
        "    print('input', one_hot_decode(x))    \n",
        "    print('predicted', one_hot_decode(pred[0]))\n",
        "    if y_real is not None:\n",
        "        print('expected', one_hot_decode(y_real))"
      ],
      "metadata": {
        "id": "0UJOa-BVsc6A"
      },
      "execution_count": 1,
      "outputs": []
    },
    {
      "cell_type": "code",
      "source": [
        "# @title build_attention_model function\n",
        "\n",
        "import tensorflow as tf\n",
        "import numpy as np\n",
        "\n",
        "from tensorflow.keras.layers import Input, Dense, LSTM, Lambda\n",
        "from tensorflow.keras.models import Model\n",
        "from tensorflow.keras import backend as K\n",
        "\n",
        "tf.keras.backend.set_floatx('float64')\n",
        "\n",
        "#attention model\n",
        "def build_attention_model(attention, batch_size, rnn_units):\n",
        "    \n",
        "    # ENCODER STEP\n",
        "    # ------------\n",
        "    # Same encoder as before with one and only difference. Now we need all the lstm states so we\n",
        "    # set return_sequences=True and return_state=True.\n",
        "    encoder_inputs = Input(shape=(n_timesteps_in, n_features), name='encoder_inputs')\n",
        "    encoder_lstm = LSTM(rnn_units, return_sequences=True, return_state=True, name='encoder_lstm')\n",
        "    encoder_outputs, encoder_state_h, encoder_state_c = encoder_lstm(encoder_inputs)\n",
        "    \n",
        "    states = [encoder_state_h, encoder_state_c]\n",
        "    \n",
        "    # DECODER STEP\n",
        "    # ------------\n",
        "    # Set up the decoder layers\n",
        "    # input shape: (1, n_features + rnn_units)\n",
        "    decoder_lstm = LSTM(rnn_units, return_state=True, name='decoder_lstm')\n",
        "    decoder_dense = Dense(n_features, activation='softmax', name='decoder_dense')\n",
        "    \n",
        "    # As before, we use as first input the 0-sequence\n",
        "    all_outputs = []\n",
        "    inputs = np.zeros((batch_size, 1, n_features))\n",
        "    \n",
        "    # Decoder_outputs is the last hidden state of the encoder. Encoder_outputs are all the states\n",
        "    decoder_outputs = encoder_state_h\n",
        "    \n",
        "    # Decoder will only process one time step at a time.\n",
        "    for _ in range(n_timesteps_in):\n",
        "\n",
        "        # Pay attention!\n",
        "        # decoder_outputs (last hidden state) + encoder_outputs (all hidden states)\n",
        "        context_vector, attention_weights = attention(decoder_outputs, encoder_outputs)\n",
        "        context_vector = tf.expand_dims(context_vector, 1)\n",
        "\n",
        "        # create the context vector by applying attention to \n",
        "        # Concatenate the input + context vectore to find the next decoder's input\n",
        "        inputs = tf.concat([context_vector, inputs], axis=-1)\n",
        "\n",
        "        # Passing the concatenated vector to the LSTM\n",
        "        # Run the decoder on one timestep with attended input and previous states\n",
        "        decoder_outputs, state_h, state_c = decoder_lstm(inputs, initial_state=states)        \n",
        "        outputs = decoder_dense(decoder_outputs)\n",
        "        \n",
        "        # Use the last hidden state for prediction the output\n",
        "        # save the current prediction\n",
        "        # we will concatenate all predictions later\n",
        "        outputs = tf.expand_dims(outputs, 1)\n",
        "        all_outputs.append(outputs)\n",
        "        \n",
        "        # Reinject the output (prediction) as inputs for the next loop iteration\n",
        "        # as well as update the states\n",
        "        inputs = outputs\n",
        "        states = [state_h, state_c]\n",
        "        \n",
        "    decoder_outputs = Lambda(lambda x: K.concatenate(x, axis=1))(all_outputs)\n",
        "    model = Model(encoder_inputs, decoder_outputs, name='model_encoder_decoder')\n",
        "    model.compile(optimizer='adam', loss='categorical_crossentropy', metrics=['accuracy'])\n",
        "    \n",
        "    return model, encoder_lstm, decoder_lstm, decoder_dense"
      ],
      "metadata": {
        "id": "yg0fB9TW_Khq"
      },
      "execution_count": 2,
      "outputs": []
    },
    {
      "cell_type": "markdown",
      "source": [
        "## LuongDotAttention\n",
        "\n",
        "Luong Dot Attention score is defined by:\n",
        "\n",
        "$$score(h_t,\\hat{h}_s)= h_t^T \\hat{h}_s$$\n",
        "\n",
        "Notice that this attention function don't have training paramaters.\n"
      ],
      "metadata": {
        "id": "AgMqNtrjtThd"
      }
    },
    {
      "cell_type": "code",
      "source": [
        "class LuongDotAttention(tf.keras.layers.Layer):\n",
        "    def __init__(self):\n",
        "        super(LuongDotAttention, self).__init__()\n",
        "\n",
        "    def call(self, query, values):\n",
        "        query_with_time_axis = tf.expand_dims(query, 1)\n",
        "        values_transposed = tf.transpose(values, perm=[0, 2, 1])\n",
        "\n",
        "        # LUONGH Dot-product\n",
        "        score = tf.transpose(tf.matmul(query_with_time_axis, \n",
        "                                       values_transposed), perm=[0, 2, 1])\n",
        "\n",
        "        # attention_weights shape == (batch_size, max_length, 1)\n",
        "        attention_weights = tf.nn.softmax(score, axis=1)\n",
        "        \n",
        "        # context_vector shape after sum == (batch_size, hidden_size)\n",
        "        context_vector = attention_weights * values\n",
        "        context_vector = tf.reduce_sum(context_vector, axis=1)\n",
        "\n",
        "        return context_vector, attention_weights"
      ],
      "metadata": {
        "id": "0EbLRNfRtTsI"
      },
      "execution_count": 3,
      "outputs": []
    },
    {
      "cell_type": "markdown",
      "source": [
        "### Defining parameters"
      ],
      "metadata": {
        "id": "2pnqN_aXtLef"
      }
    },
    {
      "cell_type": "code",
      "source": [
        "#@title changed part n_timesteps_in, n_features\n",
        "# dataset \n",
        "n_timesteps_in = 4  # Sequence length                                                 ## changed from 100 to 4\n",
        "n_features = 10     # Maximum number allowed-1 (length of the one-hot-encoded vector) ## changed from 20 to 10\n",
        "train_size = 2000 \n",
        "test_size = 200\n",
        "X_train, y_train, X_test, y_test = create_dataset(train_size, test_size, n_timesteps_in,n_features)\n",
        "\n",
        "# training parameters\n",
        "batch_size = 1\n",
        "\n",
        "# model parameters\n",
        "rnn_units = 16       # changed from 100 to 16"
      ],
      "metadata": {
        "id": "dJTg3km6tDMV"
      },
      "execution_count": 5,
      "outputs": []
    },
    {
      "cell_type": "code",
      "source": [
        "#@title parameters for the assignment\n",
        "# dataset \n",
        "n_timesteps_in = 100  # Sequence length\n",
        "n_features = 20     # Maximum number allowed-1 (length of the one-hot-encoded vector)\n",
        "train_sizeA = 2000 \n",
        "test_sizeA = 200\n",
        "X_trainA, y_trainA, X_testA, y_testA = create_dataset(train_sizeA, test_sizeA, n_timesteps_inA, n_featuresA )"
      ],
      "metadata": {
        "id": "CElYGCTfGrov"
      },
      "execution_count": 9,
      "outputs": []
    },
    {
      "cell_type": "code",
      "source": [
        "# training parameters\n",
        "batch_sizeA = 100\n",
        "\n",
        "# model parameters\n",
        "rnn_unitsA = 100"
      ],
      "metadata": {
        "id": "j8kAt03pLfGG"
      },
      "execution_count": 5,
      "outputs": []
    },
    {
      "cell_type": "markdown",
      "source": [
        "## Attention model - Luong Dot"
      ],
      "metadata": {
        "id": "Iq9gjmwXteDV"
      }
    },
    {
      "cell_type": "code",
      "source": [
        "# attention model\n",
        "attention = LuongDotAttention()\n",
        "model_attention, encoder_lstm, decoder_lstm, decoder_dense  = build_attention_model(attention, batch_size, rnn_units) \n",
        "# we need this encoder/decoder for the weight representation"
      ],
      "metadata": {
        "id": "q1uQmyPA_gMm"
      },
      "execution_count": 6,
      "outputs": []
    },
    {
      "cell_type": "markdown",
      "source": [
        "* Model with the assignment paramenters"
      ],
      "metadata": {
        "id": "ZfX7XRUXHZL9"
      }
    },
    {
      "cell_type": "code",
      "source": [
        "# attention model\n",
        "attentionA = LuongDotAttention()\n",
        "model_attentionA, encoder_lstm, decoder_lstm, decoder_dense  = build_attention_model(attentionA, batch_sizeA, rnn_unitsA) \n",
        "# we need this encoder/decoder for the weight representation"
      ],
      "metadata": {
        "id": "A9u3mEj2HKUm"
      },
      "execution_count": 10,
      "outputs": []
    },
    {
      "cell_type": "markdown",
      "source": [
        "### Training model"
      ],
      "metadata": {
        "id": "74Ewf25dtmjb"
      }
    },
    {
      "cell_type": "code",
      "source": [
        "train_test(model_attention, X_train, y_train , X_test,\n",
        "           y_test, batch_size=batch_size,epochs=5, patience=3)"
      ],
      "metadata": {
        "colab": {
          "base_uri": "https://localhost:8080/",
          "height": 610
        },
        "id": "yEGPiy9gtDjm",
        "outputId": "8c6514ce-3156-4fee-c130-aa054eeb19dc"
      },
      "execution_count": 7,
      "outputs": [
        {
          "output_type": "stream",
          "name": "stdout",
          "text": [
            "Epoch 1/5\n",
            "1800/1800 [==============================] - 63s 26ms/step - loss: 1.6039 - accuracy: 0.3675 - val_loss: 1.3365 - val_accuracy: 0.4150\n",
            "Epoch 2/5\n",
            "1800/1800 [==============================] - 26s 15ms/step - loss: 1.2121 - accuracy: 0.4707 - val_loss: 1.1124 - val_accuracy: 0.5312\n",
            "Epoch 3/5\n",
            "1800/1800 [==============================] - 26s 14ms/step - loss: 0.9207 - accuracy: 0.6224 - val_loss: 0.7795 - val_accuracy: 0.6825\n",
            "Epoch 4/5\n",
            "1800/1800 [==============================] - 34s 19ms/step - loss: 0.5059 - accuracy: 0.8393 - val_loss: 0.3154 - val_accuracy: 0.9300\n",
            "Epoch 5/5\n",
            "1800/1800 [==============================] - 41s 23ms/step - loss: 0.1821 - accuracy: 0.9712 - val_loss: 0.1214 - val_accuracy: 0.9900\n",
            "2000/2000 [==============================] - 20s 10ms/step - loss: 0.1018 - accuracy: 0.9941\n",
            "200/200 [==============================] - 2s 11ms/step - loss: 0.1272 - accuracy: 0.9850\n",
            "\n",
            "PREDICTION ACCURACY (%):\n",
            "Train: 99.413, Test: 98.500\n"
          ]
        },
        {
          "output_type": "display_data",
          "data": {
            "image/png": "[encoded data removed]",
            "text/plain": [
              "<Figure size 864x360 with 2 Axes>"
            ]
          },
          "metadata": {
            "needs_background": "light"
          }
        }
      ]
    },
    {
      "cell_type": "markdown",
      "source": [
        "* Train the model with assginment paramenters"
      ],
      "metadata": {
        "id": "bvfzANjFHhwc"
      }
    },
    {
      "cell_type": "code",
      "source": [
        "# Assignment paramenters\n",
        "train_test(model_attentionA, X_trainA, y_trainA , X_testA,\n",
        "           y_testA, batch_size=batch_sizeA,epochs=5, patience=3)"
      ],
      "metadata": {
        "colab": {
          "base_uri": "https://localhost:8080/",
          "height": 610
        },
        "id": "KvQRsNL_Heat",
        "outputId": "b254f215-495b-466e-8668-fc584a2bb839"
      },
      "execution_count": 11,
      "outputs": [
        {
          "output_type": "stream",
          "name": "stdout",
          "text": [
            "Epoch 1/5\n",
            "18/18 [==============================] - 253s 6s/step - loss: 2.9629 - accuracy: 0.0528 - val_loss: 2.9466 - val_accuracy: 0.0556\n",
            "Epoch 2/5\n",
            "18/18 [==============================] - 61s 3s/step - loss: 2.9453 - accuracy: 0.0551 - val_loss: 2.9440 - val_accuracy: 0.0578\n",
            "Epoch 3/5\n",
            "18/18 [==============================] - 56s 3s/step - loss: 2.9408 - accuracy: 0.0624 - val_loss: 2.9345 - val_accuracy: 0.0693\n",
            "Epoch 4/5\n",
            "18/18 [==============================] - 56s 3s/step - loss: 2.9329 - accuracy: 0.0684 - val_loss: 2.9307 - val_accuracy: 0.0704\n",
            "Epoch 5/5\n",
            "18/18 [==============================] - 57s 3s/step - loss: 2.9259 - accuracy: 0.0752 - val_loss: 2.9262 - val_accuracy: 0.0740\n",
            "20/20 [==============================] - 18s 879ms/step - loss: 2.9243 - accuracy: 0.0753\n",
            "2/2 [==============================] - 2s 903ms/step - loss: 2.9251 - accuracy: 0.0735\n",
            "\n",
            "PREDICTION ACCURACY (%):\n",
            "Train: 7.526, Test: 7.350\n"
          ]
        },
        {
          "output_type": "display_data",
          "data": {
            "image/png": "[encoded data removed]",
            "text/plain": [
              "<Figure size 864x360 with 2 Axes>"
            ]
          },
          "metadata": {
            "needs_background": "light"
          }
        }
      ]
    },
    {
      "cell_type": "markdown",
      "source": [
        "* Test with:\n",
        "- Batch = 1\n",
        "- RNN = 1"
      ],
      "metadata": {
        "id": "WvFEfbKqPYBk"
      }
    },
    {
      "cell_type": "code",
      "source": [
        "# training parameters\n",
        "batch_sizeA = 1\n",
        "\n",
        "# model parameters\n",
        "rnn_unitsA = 1\n",
        "\n",
        "attentionA = LuongDotAttention()\n",
        "model_attentionA, encoder_lstm, decoder_lstm, decoder_dense  = build_attention_model(attentionA, batch_sizeA, rnn_unitsA) \n",
        "# Assignment paramenters\n",
        "train_test(model_attentionA, X_trainA, y_trainA , X_testA,\n",
        "           y_testA, batch_size=batch_sizeA, epochs=1, patience=3)"
      ],
      "metadata": {
        "colab": {
          "base_uri": "https://localhost:8080/",
          "height": 454
        },
        "id": "l5eZ3OIRPbYL",
        "outputId": "9a50c2f5-75e4-4b28-9bc3-65b3860512ee"
      },
      "execution_count": 16,
      "outputs": [
        {
          "output_type": "stream",
          "name": "stdout",
          "text": [
            "1800/1800 [==============================] - 427s 147ms/step - loss: 2.9622 - accuracy: 0.0515 - val_loss: 2.9482 - val_accuracy: 0.0539\n",
            "2000/2000 [==============================] - 74s 37ms/step - loss: 2.9483 - accuracy: 0.0533\n",
            "200/200 [==============================] - 8s 37ms/step - loss: 2.9484 - accuracy: 0.0549\n",
            "\n",
            "PREDICTION ACCURACY (%):\n",
            "Train: 5.327, Test: 5.485\n"
          ]
        },
        {
          "output_type": "display_data",
          "data": {
            "image/png": "[encoded data removed]",
            "text/plain": [
              "<Figure size 864x360 with 2 Axes>"
            ]
          },
          "metadata": {
            "needs_background": "light"
          }
        }
      ]
    },
    {
      "cell_type": "markdown",
      "source": [
        "### Prediction\n",
        "* Test parameters"
      ],
      "metadata": {
        "id": "EaOtyCDSttgl"
      }
    },
    {
      "cell_type": "code",
      "source": [
        "Xtest = one_hot_encode(np.array([1,2,3,4]), n_features)\n",
        "predict(model_attention, n_timesteps_in, n_features, Xtest)"
      ],
      "metadata": {
        "colab": {
          "base_uri": "https://localhost:8080/"
        },
        "id": "FgK5uf3pCCQ0",
        "outputId": "ebc7dec2-15b2-496d-cea9-d9f98a4fbdfa"
      },
      "execution_count": null,
      "outputs": [
        {
          "output_type": "stream",
          "name": "stdout",
          "text": [
            "input [1, 2, 3, 4]\n",
            "predicted [4, 3, 1, 1]\n"
          ]
        }
      ]
    },
    {
      "cell_type": "code",
      "source": [
        "one_hot_decode(X_test[0])"
      ],
      "metadata": {
        "colab": {
          "base_uri": "https://localhost:8080/"
        },
        "id": "K6fooW41DVq4",
        "outputId": "67186b8c-b984-4737-8065-0a82e2ee4ff9"
      },
      "execution_count": null,
      "outputs": [
        {
          "output_type": "execute_result",
          "data": {
            "text/plain": [
              "[1, 8, 1, 5]"
            ]
          },
          "metadata": {},
          "execution_count": 56
        }
      ]
    },
    {
      "cell_type": "code",
      "source": [
        "predict(model_attention, n_timesteps_in, n_features, X_test[0])"
      ],
      "metadata": {
        "colab": {
          "base_uri": "https://localhost:8080/"
        },
        "id": "Kr05AN9EtzZP",
        "outputId": "bd584507-bfa7-489b-e870-def089b2c9f4"
      },
      "execution_count": null,
      "outputs": [
        {
          "output_type": "stream",
          "name": "stdout",
          "text": [
            "input [1, 8, 1, 5]\n",
            "predicted [5, 1, 8, 1]\n"
          ]
        }
      ]
    },
    {
      "cell_type": "code",
      "source": [
        "predict(model_attention, n_timesteps_in, n_features, X_test[1])"
      ],
      "metadata": {
        "colab": {
          "base_uri": "https://localhost:8080/"
        },
        "id": "FpRWZeru7KQo",
        "outputId": "53f02084-e622-4130-f9fa-32f2f3cbc369"
      },
      "execution_count": null,
      "outputs": [
        {
          "output_type": "stream",
          "name": "stdout",
          "text": [
            "input [4, 9, 7, 7]\n",
            "predicted [7, 7, 9, 4]\n"
          ]
        }
      ]
    },
    {
      "cell_type": "markdown",
      "source": [
        "* Assignment parameters"
      ],
      "metadata": {
        "id": "11xLoe5oH_TF"
      }
    },
    {
      "cell_type": "code",
      "source": [
        "predict(model_attentionA, n_timesteps_in, n_features, X_testA[0])"
      ],
      "metadata": {
        "colab": {
          "base_uri": "https://localhost:8080/"
        },
        "id": "cWEzWgeUIBRl",
        "outputId": "bd7b0df3-e68f-4948-93b4-6477b4a61487"
      },
      "execution_count": 17,
      "outputs": [
        {
          "output_type": "stream",
          "name": "stdout",
          "text": [
            "input [8, 14, 11, 14, 15, 16, 6, 5, 15, 18, 13, 19, 11, 5, 3, 15, 13, 4, 19, 15, 1, 12, 3, 12, 12, 3, 2, 15, 5, 5, 14, 16, 19, 7, 10, 12, 14, 15, 13, 8, 10, 4, 12, 11, 16, 5, 14, 6, 17, 19, 19, 16, 11, 3, 17, 4, 8, 3, 1, 7, 15, 8, 16, 12, 5, 9, 3, 17, 2, 14, 6, 15, 5, 18, 9, 12, 16, 4, 4, 19, 6, 16, 5, 6, 11, 13, 10, 12, 6, 4, 11, 9, 12, 18, 8, 14, 3, 10, 15, 14]\n",
            "predicted [12, 12, 12, 12, 12, 12, 12, 12, 12, 12, 12, 12, 12, 12, 12, 12, 12, 12, 12, 12, 12, 12, 12, 12, 12, 12, 12, 12, 12, 12, 12, 12, 12, 12, 12, 12, 12, 12, 12, 12, 12, 12, 12, 12, 12, 12, 12, 12, 12, 12, 12, 12, 12, 12, 12, 12, 12, 12, 12, 12, 12, 12, 12, 12, 12, 12, 12, 12, 12, 12, 12, 12, 12, 12, 12, 12, 12, 12, 12, 12, 12, 12, 12, 12, 12, 12, 12, 12, 12, 12, 12, 12, 12, 12, 12, 12, 12, 12, 12, 12]\n"
          ]
        }
      ]
    },
    {
      "cell_type": "markdown",
      "source": [
        "### Visualization the Weight\n",
        "\n",
        "#### function to Plot Weight\n",
        "\n",
        "The idea is take the `build_function` and modify in order to get the `attention_weightPlot` and the `input_seq` and `out_seq`. For do that we need to take into account the following from our model:\n",
        "* `attention`: the Attention function (LuongDot, LuongGeneral, Bahdanau).\n",
        "* `encoder_lstm`: encoder used\n",
        "* `decoder_lstm`: decoder used\n",
        "* `decoder_dense`: decoder used"
      ],
      "metadata": {
        "id": "ptqvRuQm8Byk"
      }
    },
    {
      "cell_type": "code",
      "source": [
        " #@title function to Compute and Plot the weight\n",
        "# function to Compute and Plot the weight\n",
        "\n",
        "import tensorflow as tf\n",
        "import numpy as np\n",
        "\n",
        "from tensorflow.keras.layers import Input, Dense, LSTM, Lambda\n",
        "from tensorflow.keras.models import Model\n",
        "from tensorflow.keras import backend as K\n",
        "\n",
        "\n",
        "\n",
        "def build_attention_weight(seq_in, attention, encoder_lstm, decoder_lstm, decoder_dense):\n",
        "    \n",
        "    # ENCODER STEP\n",
        "    # ------------\n",
        "    # Same encoder as before with one and only difference. Now we need all the lstm states so we\n",
        "    # set return_sequences=True and return_state=True.\n",
        "    #encoder_inputs = Input(shape=(n_timesteps_in, n_features), name='encoder_inputs')\n",
        "    #encoder_lstm = LSTM(rnn_units, return_sequences=True, return_state=True, name='encoder_lstm')\n",
        "    attention_plot = np.zeros((n_timesteps_in, n_timesteps_in))\n",
        "    sequence = one_hot_encode(seq_in,n_features)\n",
        "\n",
        "    encoder_inputs=np.array(sequence).reshape(1,n_timesteps_in,n_features)\n",
        "    encoder_inputs = tf.convert_to_tensor(encoder_inputs,dtype=tf.float32)\n",
        "\n",
        "    # Def encoder_lstm\n",
        "    #encoder_lstm = LSTM(rnn_units, return_sequences=True, return_state=True, name='encoder_lstm') <--------- Usamos los entrenados\n",
        "    encoder_outputs, encoder_state_h, encoder_state_c = encoder_lstm(encoder_inputs)\n",
        "    \n",
        "    states = [encoder_state_h, encoder_state_c]\n",
        "    \n",
        "    # DECODER STEP\n",
        "    # ------------\n",
        "    # Set up the decoder layers\n",
        "    # input shape: (1, n_features + rnn_units)\n",
        "    #decoder_lstm = LSTM(rnn_units, return_state=True, name='decoder_lstm')        # <--------- Usamos los entrenados\n",
        "    #decoder_dense = Dense(n_features, activation='softmax', name='decoder_dense') # <--------- Usamos los entrenados\n",
        "    decoder_input_data = np.zeros((1, 1, n_features))\n",
        "    decoder_input_data[:, 0, 0] = 1 \n",
        "    # As before, we use as first input the 0-sequence\n",
        "    all_outputs = []\n",
        "    inputs = decoder_input_data\n",
        "    \n",
        "    # Decoder_outputs is the last hidden state of the encoder. Encoder_outputs are all the states\n",
        "    decoder_outputs = encoder_state_h\n",
        "    \n",
        "    # Decoder will only process one time step at a time.\n",
        "    for i in range(n_timesteps_in):\n",
        "\n",
        "        # Pay attention!\n",
        "        # decoder_outputs (last hidden state) + encoder_outputs (all hidden states) <---------\n",
        "        context_vector, attention_weights = attention(decoder_outputs, encoder_outputs)\n",
        "        \n",
        "        attention_weights = tf.reshape(attention_weights, (-1, ))\n",
        "        attention_plot[i] = attention_weights.numpy()\n",
        "        #context_vector = tf.expand_dims(context_vector, 1) <---------\n",
        "\n",
        "        decoder_outputs=tf.expand_dims(decoder_outputs, 1)\n",
        "\n",
        "        context_vector = tf.expand_dims(context_vector, 1)\n",
        "\n",
        "\n",
        "        # create the context vector by applying attention to \n",
        "        # Concatenate the input + context vectore to find the next decoder's input\n",
        "        inputs = tf.concat([context_vector, inputs], axis=-1)\n",
        "\n",
        "        # Passing the concatenated vector to the LSTM\n",
        "        # Run the decoder on one timestep with attended input and previous states\n",
        "        decoder_outputs, state_h, state_c = decoder_lstm(inputs, initial_state=states)      \n",
        "        \n",
        "        outputs = decoder_dense(decoder_outputs)\n",
        "        \n",
        "        # Use the last hidden state for prediction the output\n",
        "        # save the current prediction\n",
        "        # we will concatenate all predictions later\n",
        "        outputs = tf.expand_dims(outputs, 1)\n",
        "        all_outputs.append(outputs)\n",
        "        \n",
        "        # Reinject the output (prediction) as inputs for the next loop iteration\n",
        "        # as well as update the states\n",
        "        inputs = outputs\n",
        "        states = [state_h, state_c]\n",
        "        \n",
        "    decoder_outputs = Lambda(lambda x: K.concatenate(x, axis=1))(all_outputs)\n",
        "    seq_out=one_hot_decode(decoder_outputs[0])  # <---------\n",
        "\n",
        "    \n",
        "    #model = Model(encoder_inputs, decoder_outputs, name='model_encoder_decoder')  <---------\n",
        "    #model.compile(optimizer='adam', loss='categorical_crossentropy', metrics=['accuracy']) <---------\n",
        "    \n",
        "    return seq_in, seq_out, attention_plot"
      ],
      "metadata": {
        "id": "lKH3NlhlJHBQ"
      },
      "execution_count": 18,
      "outputs": []
    },
    {
      "cell_type": "markdown",
      "source": [
        "### Plot attention function"
      ],
      "metadata": {
        "id": "nNk09W5NQXqI"
      }
    },
    {
      "cell_type": "code",
      "source": [
        "from matplotlib import ticker\n",
        "\n",
        "def plot_attention(attention, sequence, predicted_sequence):\n",
        "  fig = plt.figure(figsize=(8,8))\n",
        "  ax = fig.add_subplot(1, 1, 1)\n",
        "  ax.matshow(attention, cmap='viridis')\n",
        "\n",
        "  fontdict = {'fontsize': 14}\n",
        "\n",
        "  ax.set_xticklabels([''] + sequence, fontdict=fontdict, rotation=90)\n",
        "  ax.set_yticklabels([''] + predicted_sequence, fontdict=fontdict)\n",
        "\n",
        "  ax.xaxis.set_major_locator(ticker.MultipleLocator(1))\n",
        "  ax.yaxis.set_major_locator(ticker.MultipleLocator(1))\n",
        "\n",
        "  plt.show()\n",
        "\n",
        "\n",
        "def plotWeight(seq_in, attention, encoder_lstm, decoder_lstm, decoder_dense):\n",
        "  seq_in, seq_out, attention_plot = build_attention_weight(seq_in, attention, encoder_lstm, decoder_lstm, decoder_dense)\n",
        "\n",
        "  print('Input: %s' % (seq_in))\n",
        "  print('Predicted translation: {}'.format(seq_out))\n",
        "\n",
        "  attention_plot = attention_plot[:len(seq_out), :len(seq_in)]\n",
        "  plot_attention(attention_plot, seq_in, seq_out)"
      ],
      "metadata": {
        "id": "1br1ztivFVfp"
      },
      "execution_count": 19,
      "outputs": []
    },
    {
      "cell_type": "markdown",
      "source": [
        "lo hace fatal!! porque? no esta cogiendo el encoder decoder trained. ni los attention weight antes encontrados."
      ],
      "metadata": {
        "id": "QoVBTBC9KIIZ"
      }
    },
    {
      "cell_type": "code",
      "source": [
        "plotWeight(one_hot_decode(X_testA[0]), attentionA, encoder_lstm, decoder_lstm, decoder_dense)"
      ],
      "metadata": {
        "colab": {
          "base_uri": "https://localhost:8080/",
          "height": 552
        },
        "id": "fjNDqsf1Uf_q",
        "outputId": "58b6996a-87ff-4ba2-fe90-7b578a2e00ee"
      },
      "execution_count": 21,
      "outputs": [
        {
          "output_type": "stream",
          "name": "stdout",
          "text": [
            "Input: [8, 14, 11, 14, 15, 16, 6, 5, 15, 18, 13, 19, 11, 5, 3, 15, 13, 4, 19, 15, 1, 12, 3, 12, 12, 3, 2, 15, 5, 5, 14, 16, 19, 7, 10, 12, 14, 15, 13, 8, 10, 4, 12, 11, 16, 5, 14, 6, 17, 19, 19, 16, 11, 3, 17, 4, 8, 3, 1, 7, 15, 8, 16, 12, 5, 9, 3, 17, 2, 14, 6, 15, 5, 18, 9, 12, 16, 4, 4, 19, 6, 16, 5, 6, 11, 13, 10, 12, 6, 4, 11, 9, 12, 18, 8, 14, 3, 10, 15, 14]\n",
            "Predicted translation: [12, 12, 12, 12, 12, 12, 12, 12, 12, 12, 12, 12, 12, 12, 12, 12, 12, 12, 12, 12, 12, 12, 12, 12, 12, 12, 12, 12, 12, 12, 12, 12, 12, 12, 12, 12, 12, 12, 12, 12, 12, 12, 12, 12, 12, 12, 12, 12, 12, 12, 12, 12, 12, 12, 12, 12, 12, 12, 12, 12, 12, 12, 12, 12, 12, 12, 12, 12, 12, 12, 12, 12, 12, 12, 12, 12, 12, 12, 12, 12, 12, 12, 12, 12, 12, 12, 12, 12, 12, 12, 12, 12, 12, 12, 12, 12, 12, 12, 12, 12]\n"
          ]
        },
        {
          "output_type": "display_data",
          "data": {
            "image/png": "[encoded data removed]",
            "text/plain": [
              "<Figure size 576x576 with 1 Axes>"
            ]
          },
          "metadata": {
            "needs_background": "light"
          }
        }
      ]
    },
    {
      "cell_type": "code",
      "source": [
        "plotWeight([9,2,3,4], attention, encoder_lstm, decoder_lstm, decoder_dense)"
      ],
      "metadata": {
        "colab": {
          "base_uri": "https://localhost:8080/",
          "height": 519
        },
        "id": "RjizgKmtNQff",
        "outputId": "241dc673-611f-479c-e51c-ce82279d3dae"
      },
      "execution_count": null,
      "outputs": [
        {
          "output_type": "stream",
          "name": "stdout",
          "text": [
            "Input: [9, 2, 3, 4]\n",
            "Predicted translation: [4, 3, 2, 9]\n"
          ]
        },
        {
          "output_type": "display_data",
          "data": {
            "image/png": "[encoded data removed]",
            "text/plain": [
              "<Figure size 576x576 with 1 Axes>"
            ]
          },
          "metadata": {
            "needs_background": "light"
          }
        }
      ]
    },
    {
      "cell_type": "code",
      "source": [
        "plotWeight([1,2,3,4], attention, encoder_lstm, decoder_lstm, decoder_dense)"
      ],
      "metadata": {
        "colab": {
          "base_uri": "https://localhost:8080/",
          "height": 519
        },
        "id": "ndowW6OlL4KK",
        "outputId": "cfabca26-9b04-4ec9-ccb3-ba8825e587bf"
      },
      "execution_count": null,
      "outputs": [
        {
          "output_type": "stream",
          "name": "stdout",
          "text": [
            "Input: [1, 2, 3, 4]\n",
            "Predicted translation: [4, 3, 1, 1]\n"
          ]
        },
        {
          "output_type": "display_data",
          "data": {
            "image/png": "[encoded data removed]",
            "text/plain": [
              "<Figure size 576x576 with 1 Axes>"
            ]
          },
          "metadata": {
            "needs_background": "light"
          }
        }
      ]
    },
    {
      "cell_type": "markdown",
      "source": [
        "# BahdanauAttention\n",
        "\n",
        "Bahdanau attention function is defined by:\n",
        "\n",
        "$$ score(h_t, \\hat{h}_s)=V^Ttanh(W_a[h_t:\\hat{h}_s])$$"
      ],
      "metadata": {
        "id": "0emPsQrs7LiR"
      }
    },
    {
      "cell_type": "code",
      "source": [
        "class BahdanauAttention(tf.keras.layers.Layer):\n",
        "  def __init__(self, units):\n",
        "    super(BahdanauAttention, self).__init__()\n",
        "    self.W1 = tf.keras.layers.Dense(units)\n",
        "    self.W2 = tf.keras.layers.Dense(units)\n",
        "    self.V = tf.keras.layers.Dense(1)\n",
        "\n",
        "  def call(self, query, values):\n",
        "    # query hidden state shape == (batch_size, hidden size)\n",
        "    # query_with_time_axis shape == (batch_size, 1, hidden size)\n",
        "    # values shape == (batch_size, max_len, hidden size)\n",
        "    # we are doing this to broadcast addition along the time axis to calculate the score\n",
        "    query_with_time_axis = tf.expand_dims(query, 1)\n",
        "\n",
        "    # score shape == (batch_size, max_length, 1)\n",
        "    # we get 1 at the last axis because we are applying score to self.V\n",
        "    # the shape of the tensor before applying self.V is (batch_size, max_length, units)\n",
        "    score = self.V(tf.nn.tanh(self.W1(query_with_time_axis) + self.W2(values)))\n",
        "\n",
        "    # attention_weights shape == (batch_size, max_length, 1)\n",
        "    attention_weights = tf.nn.softmax(score, axis=1)\n",
        "\n",
        "    # context_vector shape after sum == (batch_size, hidden_size)\n",
        "    context_vector = attention_weights * values\n",
        "\n",
        "    context_vector = tf.reduce_sum(context_vector, axis=1)\n",
        "\n",
        "    return context_vector, attention_weights"
      ],
      "metadata": {
        "id": "HQeXjTn4Rhbs"
      },
      "execution_count": null,
      "outputs": []
    },
    {
      "cell_type": "code",
      "source": [
        "# attention model\n",
        "attentionBahdanauAttention = BahdanauAttention(16)\n",
        "model_attentionBahdanauAttention, encoder_lstmBah, decoder_lstmBah, decoder_denseBah = build_attention_model(attentionBahdanauAttention, batch_size, rnn_units)"
      ],
      "metadata": {
        "id": "MvvHfOerQdqY"
      },
      "execution_count": null,
      "outputs": []
    },
    {
      "cell_type": "code",
      "source": [
        "train_test(model_attentionBahdanauAttention, X_train, y_train , X_test,\n",
        "           y_test, batch_size=batch_size,epochs=2, patience=3)"
      ],
      "metadata": {
        "colab": {
          "base_uri": "https://localhost:8080/",
          "height": 503
        },
        "id": "6cal7R7FQulb",
        "outputId": "044dd9dc-3630-4e59-84f2-61dda91e867b"
      },
      "execution_count": null,
      "outputs": [
        {
          "output_type": "stream",
          "name": "stdout",
          "text": [
            "Epoch 1/2\n",
            "1800/1800 [==============================] - 42s 18ms/step - loss: 1.6644 - accuracy: 0.3565 - val_loss: 1.3431 - val_accuracy: 0.4338\n",
            "Epoch 2/2\n",
            "1800/1800 [==============================] - 29s 16ms/step - loss: 1.1475 - accuracy: 0.5251 - val_loss: 0.7987 - val_accuracy: 0.7375\n",
            "2000/2000 [==============================] - 16s 8ms/step - loss: 0.7913 - accuracy: 0.7456\n",
            "200/200 [==============================] - 1s 7ms/step - loss: 0.8149 - accuracy: 0.7300\n",
            "\n",
            "PREDICTION ACCURACY (%):\n",
            "Train: 74.562, Test: 73.000\n"
          ]
        },
        {
          "output_type": "display_data",
          "data": {
            "image/png": "[encoded data removed]",
            "text/plain": [
              "<Figure size 864x360 with 2 Axes>"
            ]
          },
          "metadata": {
            "needs_background": "light"
          }
        }
      ]
    },
    {
      "cell_type": "code",
      "source": [
        "predict(model_attentionBahdanauAttention, n_timesteps_in, n_features, X_test[0])"
      ],
      "metadata": {
        "colab": {
          "base_uri": "https://localhost:8080/"
        },
        "id": "d9vQpY75RqMr",
        "outputId": "f94d3623-b8ad-42cb-d9f5-9c894cb9f96c"
      },
      "execution_count": null,
      "outputs": [
        {
          "output_type": "stream",
          "name": "stdout",
          "text": [
            "input [9, 5, 2, 8]\n",
            "predicted [8, 2, 5, 9]\n"
          ]
        }
      ]
    },
    {
      "cell_type": "code",
      "source": [
        "predict(model_attentionBahdanauAttention, n_timesteps_in, n_features, X_test[1])"
      ],
      "metadata": {
        "colab": {
          "base_uri": "https://localhost:8080/"
        },
        "id": "keUpXvSNRqRu",
        "outputId": "f3b89005-8d69-4605-d333-a5cf017ee360"
      },
      "execution_count": null,
      "outputs": [
        {
          "output_type": "stream",
          "name": "stdout",
          "text": [
            "input [4, 9, 7, 7]\n",
            "predicted [7, 7, 9, 4]\n"
          ]
        }
      ]
    },
    {
      "cell_type": "code",
      "source": [
        "plotWeight([9, 5, 2, 8], attentionBahdanauAttention, encoder_lstmBah, decoder_lstmBah, decoder_denseBah)"
      ],
      "metadata": {
        "colab": {
          "base_uri": "https://localhost:8080/",
          "height": 519
        },
        "id": "CDbAhvB_NlRX",
        "outputId": "f17d7060-17cf-4f82-c621-ec8492523118"
      },
      "execution_count": null,
      "outputs": [
        {
          "output_type": "stream",
          "name": "stdout",
          "text": [
            "Input: [9, 5, 2, 8]\n",
            "Predicted translation: [8, 2, 5, 9]\n"
          ]
        },
        {
          "output_type": "display_data",
          "data": {
            "image/png": "[encoded data removed]",
            "text/plain": [
              "<Figure size 576x576 with 1 Axes>"
            ]
          },
          "metadata": {
            "needs_background": "light"
          }
        }
      ]
    },
    {
      "cell_type": "code",
      "source": [
        "plotWeight([1, 8, 1, 5], attentionBahdanauAttention, encoder_lstmBah, decoder_lstmBah, decoder_denseBah)"
      ],
      "metadata": {
        "colab": {
          "base_uri": "https://localhost:8080/",
          "height": 519
        },
        "id": "i96reWeCRqVr",
        "outputId": "f4d6f66c-ed6e-4373-ff76-29da2cdbbcb7"
      },
      "execution_count": null,
      "outputs": [
        {
          "output_type": "stream",
          "name": "stdout",
          "text": [
            "Input: [1, 8, 1, 5]\n",
            "Predicted translation: [1, 1, 1, 1]\n"
          ]
        },
        {
          "output_type": "display_data",
          "data": {
            "image/png": "[encoded data removed]",
            "text/plain": [
              "<Figure size 576x576 with 1 Axes>"
            ]
          },
          "metadata": {
            "needs_background": "light"
          }
        }
      ]
    },
    {
      "cell_type": "markdown",
      "source": [
        "# LuongGeneralAttention\n",
        "\n",
        "Luong General Attention function is defined by:\n",
        "\n",
        "$$score(h_t,\\hat{h}_s)= h_t^T W_a\\hat{h}_s$$\n"
      ],
      "metadata": {
        "id": "ocIBCG6oRpec"
      }
    },
    {
      "cell_type": "code",
      "source": [
        "class LuongGeneralAttention(tf.keras.layers.Layer):\n",
        "    def __init__(self, units):\n",
        "        super(LuongGeneralAttention, self).__init__()\n",
        "        self.W1 = tf.keras.layers.Dense(units)\n",
        "\n",
        "\n",
        "    def call(self, query, values):\n",
        "        query_with_time_axis = tf.expand_dims(query, 1)\n",
        "        values_transposed = tf.transpose(values, perm=[0, 2, 1])\n",
        "\n",
        "        # LUONGH Dot-product\n",
        "        score = tf.transpose(tf.matmul(query_with_time_axis, \n",
        "                                       self.W1(values_transposed)), perm=[0, 2, 1])\n",
        "\n",
        "        # attention_weights shape == (batch_size, max_length, 1)\n",
        "        attention_weights = tf.nn.softmax(score, axis=1)\n",
        "        \n",
        "        # context_vector shape after sum == (batch_size, hidden_size)\n",
        "        context_vector = attention_weights * values\n",
        "        context_vector = tf.reduce_sum(context_vector, axis=1)\n",
        "\n",
        "        return context_vector, attention_weights"
      ],
      "metadata": {
        "id": "JE2Q1eCVRshG"
      },
      "execution_count": null,
      "outputs": []
    },
    {
      "cell_type": "code",
      "source": [
        "# attention model\n",
        "attentionLuongGeneral = LuongGeneralAttention(units = 1)\n",
        "model_attentionLuongGeneral, encoder_lstmLuGen, decoder_lstmLuGen, decoder_denseLuGen = build_attention_model(attentionLuongGeneral, batch_size, rnn_units)\n",
        "\n",
        "\n",
        "#training\n",
        "train_test(model_attentionLuongGeneral, X_train, y_train , X_test,\n",
        "           y_test, batch_size=batch_size, epochs=5, patience=3)"
      ],
      "metadata": {
        "colab": {
          "base_uri": "https://localhost:8080/",
          "height": 605
        },
        "id": "YOzzwbc8VpFg",
        "outputId": "4dd70888-a461-4eb4-ded0-d3fbd124cc12"
      },
      "execution_count": null,
      "outputs": [
        {
          "output_type": "stream",
          "name": "stdout",
          "text": [
            "Epoch 1/5\n",
            "1800/1800 [==============================] - 36s 16ms/step - loss: 1.5732 - accuracy: 0.3651 - val_loss: 1.2929 - val_accuracy: 0.4363\n",
            "Epoch 2/5\n",
            "1800/1800 [==============================] - 27s 15ms/step - loss: 1.1936 - accuracy: 0.4769 - val_loss: 1.0479 - val_accuracy: 0.5475\n",
            "Epoch 3/5\n",
            "1800/1800 [==============================] - 26s 15ms/step - loss: 0.9437 - accuracy: 0.6089 - val_loss: 0.7989 - val_accuracy: 0.6925\n",
            "Epoch 4/5\n",
            "1800/1800 [==============================] - 28s 16ms/step - loss: 0.6734 - accuracy: 0.7369 - val_loss: 0.5217 - val_accuracy: 0.8075\n",
            "Epoch 5/5\n",
            "1800/1800 [==============================] - 27s 15ms/step - loss: 0.4010 - accuracy: 0.8729 - val_loss: 0.2735 - val_accuracy: 0.9287\n",
            "2000/2000 [==============================] - 21s 10ms/step - loss: 0.2701 - accuracy: 0.9324\n",
            "200/200 [==============================] - 3s 13ms/step - loss: 0.2939 - accuracy: 0.9087\n",
            "\n",
            "PREDICTION ACCURACY (%):\n",
            "Train: 93.237, Test: 90.875\n"
          ]
        },
        {
          "output_type": "display_data",
          "data": {
            "image/png": "[encoded data removed]",
            "text/plain": [
              "<Figure size 864x360 with 2 Axes>"
            ]
          },
          "metadata": {
            "needs_background": "light"
          }
        }
      ]
    },
    {
      "cell_type": "markdown",
      "source": [
        "Esto funciona teniendo:\n",
        "Dataset formado por \n",
        "- n_timesteps_in = 100\n",
        "- n_features = 20\n",
        "- batch_size = 100\n",
        "- rnn_units = 100\n",
        "\n",
        "**El tema esta en tenir la mateixa rnn_units i batch_size**"
      ],
      "metadata": {
        "id": "oixIh5JMSu3_"
      }
    },
    {
      "cell_type": "markdown",
      "source": [
        "# vamos a probar de predecir\n",
        "a priori no deberia funcionar debido al batch_size"
      ],
      "metadata": {
        "id": "CfesGsy3TEaG"
      }
    },
    {
      "cell_type": "code",
      "source": [
        "predict(model_attentionLuongGeneral, n_timesteps_in, n_features, one_hot_encode([1,2,3,4], 10))"
      ],
      "metadata": {
        "colab": {
          "base_uri": "https://localhost:8080/"
        },
        "id": "Df7DHVcgTR1B",
        "outputId": "bd164cee-f9be-4622-9089-f15e676ed53a"
      },
      "execution_count": null,
      "outputs": [
        {
          "output_type": "stream",
          "name": "stdout",
          "text": [
            "input [1, 2, 3, 4]\n",
            "predicted [4, 3, 2, 1]\n"
          ]
        }
      ]
    },
    {
      "cell_type": "code",
      "source": [
        "predict(model_attentionLuongGeneral, n_timesteps_in, n_features, X_test[0])"
      ],
      "metadata": {
        "colab": {
          "base_uri": "https://localhost:8080/"
        },
        "id": "a1Mustv7TLT1",
        "outputId": "bc99d2ad-3bb2-4070-ff97-4fceaa874af2"
      },
      "execution_count": null,
      "outputs": [
        {
          "output_type": "stream",
          "name": "stdout",
          "text": [
            "input [6, 5, 8, 1]\n",
            "predicted [1, 8, 5, 6]\n"
          ]
        }
      ]
    },
    {
      "cell_type": "markdown",
      "source": [
        "# Visualize the weight"
      ],
      "metadata": {
        "id": "H-nN8VudWhWE"
      }
    },
    {
      "cell_type": "code",
      "source": [
        "plotWeight([1, 2, 3, 4], attentionBahdanauAttention, encoder_lstmLuGen, decoder_lstmLuGen, decoder_denseLuGen)"
      ],
      "metadata": {
        "colab": {
          "base_uri": "https://localhost:8080/",
          "height": 519
        },
        "id": "X4tbZVkzXrCv",
        "outputId": "55224050-dbe6-4b35-b371-f12b1d30c4d9"
      },
      "execution_count": null,
      "outputs": [
        {
          "output_type": "stream",
          "name": "stdout",
          "text": [
            "Input: [1, 2, 3, 4]\n",
            "Predicted translation: [4, 6, 2, 1]\n"
          ]
        },
        {
          "output_type": "display_data",
          "data": {
            "image/png": "[encoded data removed]",
            "text/plain": [
              "<Figure size 576x576 with 1 Axes>"
            ]
          },
          "metadata": {
            "needs_background": "light"
          }
        }
      ]
    },
    {
      "cell_type": "code",
      "source": [
        "plotWeight([1, 8, 1, 5], attentionBahdanauAttention, encoder_lstmLuGen, decoder_lstmLuGen, decoder_denseLuGen)"
      ],
      "metadata": {
        "colab": {
          "base_uri": "https://localhost:8080/",
          "height": 519
        },
        "id": "kOLqLnW7WkUC",
        "outputId": "4de72952-8445-4692-cb59-0554054f14ce"
      },
      "execution_count": null,
      "outputs": [
        {
          "output_type": "stream",
          "name": "stdout",
          "text": [
            "Input: [1, 8, 1, 5]\n",
            "Predicted translation: [5, 1, 1, 1]\n"
          ]
        },
        {
          "output_type": "display_data",
          "data": {
            "image/png": "[encoded data removed]",
            "text/plain": [
              "<Figure size 576x576 with 1 Axes>"
            ]
          },
          "metadata": {
            "needs_background": "light"
          }
        }
      ]
    }
  ]
}